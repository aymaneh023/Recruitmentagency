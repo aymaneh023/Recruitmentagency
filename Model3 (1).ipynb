{
  "nbformat": 4,
  "nbformat_minor": 0,
  "metadata": {
    "colab": {
      "provenance": [],
      "collapsed_sections": []
    },
    "kernelspec": {
      "name": "python3",
      "display_name": "Python 3"
    },
    "language_info": {
      "name": "python"
    }
  },
  "cells": [
    {
      "cell_type": "markdown",
      "source": [
        "Model 3"
      ],
      "metadata": {
        "id": "52ceRLZHK4xa"
      }
    },
    {
      "cell_type": "markdown",
      "source": [
        "#Libraries\n"
      ],
      "metadata": {
        "id": "3Npv1x9dqXHd"
      }
    },
    {
      "cell_type": "code",
      "execution_count": null,
      "metadata": {
        "id": "dW3yH8zqdLrj"
      },
      "outputs": [],
      "source": [
        "import numpy as np\n",
        "import pandas as pd\n",
        "import seaborn as sns\n",
        "import matplotlib as mpl\n",
        "import matplotlib.pyplot as plt\n",
        "from matplotlib import cm\n",
        "from sklearn import model_selection\n",
        "from sklearn.metrics import classification_report\n",
        "from sklearn.model_selection import train_test_split\n",
        "from sklearn import tree\n",
        "from sklearn.tree import DecisionTreeClassifier, export_graphviz\n",
        "from sklearn.ensemble import RandomForestClassifier\n",
        "from sklearn.metrics import accuracy_score, confusion_matrix, r2_score\n",
        "import graphviz \n",
        "import csv"
      ]
    },
    {
      "cell_type": "markdown",
      "source": [
        "# Retrieving data"
      ],
      "metadata": {
        "id": "DierIrTQVYGh"
      }
    },
    {
      "cell_type": "code",
      "source": [
        "url = 'https://raw.githubusercontent.com/harshvijay2776/Data-Science/main/recruitmentdataset-2022-1.3.csv'"
      ],
      "metadata": {
        "id": "yIKnfOMMVaZh"
      },
      "execution_count": null,
      "outputs": []
    },
    {
      "cell_type": "code",
      "source": [
        "company_A = pd.read_csv(url)\n",
        "company_A[1:10]"
      ],
      "metadata": {
        "id": "eLrPNlDCVgKY",
        "colab": {
          "base_uri": "https://localhost:8080/",
          "height": 409
        },
        "outputId": "65ec9bd5-f752-4fca-a2fc-3a0803b5d048"
      },
      "execution_count": null,
      "outputs": [
        {
          "output_type": "execute_result",
          "data": {
            "text/plain": [
              "       Id  gender  age nationality     sport  ind-university_grade  \\\n",
              "1  x6077a    male   26      German      Golf                    67   \n",
              "2  x6006e  female   23       Dutch   Running                    67   \n",
              "3  x2173b    male   24       Dutch   Cricket                    70   \n",
              "4  x6241a  female   26      German      Golf                    59   \n",
              "5  x9063d  female   26       Dutch     Chess                    63   \n",
              "6  x5785d  female   27       Dutch    Tennis                    63   \n",
              "7  x8767c  female   22       Dutch  Swimming                    71   \n",
              "8  x6541b  female   28       Dutch  Football                    65   \n",
              "9  x3890b    male   24       Dutch  Football                    55   \n",
              "\n",
              "   ind-debateclub  ind-programming_exp  ind-international_exp  \\\n",
              "1           False                 True                  False   \n",
              "2           False                 True                   True   \n",
              "3           False                 True                  False   \n",
              "4           False                False                  False   \n",
              "5           False                False                  False   \n",
              "6            True                 True                  False   \n",
              "7           False                 True                  False   \n",
              "8            True                False                  False   \n",
              "9            True                False                  False   \n",
              "\n",
              "   ind-entrepeneur_exp  ind-languages  ind-exact_study ind-degree company  \\\n",
              "1                False              2             True   bachelor       A   \n",
              "2                False              0             True     master       A   \n",
              "3                False              1             True     master       A   \n",
              "4                False              1            False     master       A   \n",
              "5                False              1             True   bachelor       A   \n",
              "6                False              2             True   bachelor       A   \n",
              "7                False              1             True     master       A   \n",
              "8                 True              3            False   bachelor       A   \n",
              "9                 True              3            False     master       A   \n",
              "\n",
              "   decision  \n",
              "1     False  \n",
              "2     False  \n",
              "3      True  \n",
              "4      True  \n",
              "5      True  \n",
              "6     False  \n",
              "7      True  \n",
              "8     False  \n",
              "9      True  "
            ],
            "text/html": [
              "\n",
              "  <div id=\"df-81a5ff35-4c09-4615-8e83-3069cfc6bc2b\">\n",
              "    <div class=\"colab-df-container\">\n",
              "      <div>\n",
              "<style scoped>\n",
              "    .dataframe tbody tr th:only-of-type {\n",
              "        vertical-align: middle;\n",
              "    }\n",
              "\n",
              "    .dataframe tbody tr th {\n",
              "        vertical-align: top;\n",
              "    }\n",
              "\n",
              "    .dataframe thead th {\n",
              "        text-align: right;\n",
              "    }\n",
              "</style>\n",
              "<table border=\"1\" class=\"dataframe\">\n",
              "  <thead>\n",
              "    <tr style=\"text-align: right;\">\n",
              "      <th></th>\n",
              "      <th>Id</th>\n",
              "      <th>gender</th>\n",
              "      <th>age</th>\n",
              "      <th>nationality</th>\n",
              "      <th>sport</th>\n",
              "      <th>ind-university_grade</th>\n",
              "      <th>ind-debateclub</th>\n",
              "      <th>ind-programming_exp</th>\n",
              "      <th>ind-international_exp</th>\n",
              "      <th>ind-entrepeneur_exp</th>\n",
              "      <th>ind-languages</th>\n",
              "      <th>ind-exact_study</th>\n",
              "      <th>ind-degree</th>\n",
              "      <th>company</th>\n",
              "      <th>decision</th>\n",
              "    </tr>\n",
              "  </thead>\n",
              "  <tbody>\n",
              "    <tr>\n",
              "      <th>1</th>\n",
              "      <td>x6077a</td>\n",
              "      <td>male</td>\n",
              "      <td>26</td>\n",
              "      <td>German</td>\n",
              "      <td>Golf</td>\n",
              "      <td>67</td>\n",
              "      <td>False</td>\n",
              "      <td>True</td>\n",
              "      <td>False</td>\n",
              "      <td>False</td>\n",
              "      <td>2</td>\n",
              "      <td>True</td>\n",
              "      <td>bachelor</td>\n",
              "      <td>A</td>\n",
              "      <td>False</td>\n",
              "    </tr>\n",
              "    <tr>\n",
              "      <th>2</th>\n",
              "      <td>x6006e</td>\n",
              "      <td>female</td>\n",
              "      <td>23</td>\n",
              "      <td>Dutch</td>\n",
              "      <td>Running</td>\n",
              "      <td>67</td>\n",
              "      <td>False</td>\n",
              "      <td>True</td>\n",
              "      <td>True</td>\n",
              "      <td>False</td>\n",
              "      <td>0</td>\n",
              "      <td>True</td>\n",
              "      <td>master</td>\n",
              "      <td>A</td>\n",
              "      <td>False</td>\n",
              "    </tr>\n",
              "    <tr>\n",
              "      <th>3</th>\n",
              "      <td>x2173b</td>\n",
              "      <td>male</td>\n",
              "      <td>24</td>\n",
              "      <td>Dutch</td>\n",
              "      <td>Cricket</td>\n",
              "      <td>70</td>\n",
              "      <td>False</td>\n",
              "      <td>True</td>\n",
              "      <td>False</td>\n",
              "      <td>False</td>\n",
              "      <td>1</td>\n",
              "      <td>True</td>\n",
              "      <td>master</td>\n",
              "      <td>A</td>\n",
              "      <td>True</td>\n",
              "    </tr>\n",
              "    <tr>\n",
              "      <th>4</th>\n",
              "      <td>x6241a</td>\n",
              "      <td>female</td>\n",
              "      <td>26</td>\n",
              "      <td>German</td>\n",
              "      <td>Golf</td>\n",
              "      <td>59</td>\n",
              "      <td>False</td>\n",
              "      <td>False</td>\n",
              "      <td>False</td>\n",
              "      <td>False</td>\n",
              "      <td>1</td>\n",
              "      <td>False</td>\n",
              "      <td>master</td>\n",
              "      <td>A</td>\n",
              "      <td>True</td>\n",
              "    </tr>\n",
              "    <tr>\n",
              "      <th>5</th>\n",
              "      <td>x9063d</td>\n",
              "      <td>female</td>\n",
              "      <td>26</td>\n",
              "      <td>Dutch</td>\n",
              "      <td>Chess</td>\n",
              "      <td>63</td>\n",
              "      <td>False</td>\n",
              "      <td>False</td>\n",
              "      <td>False</td>\n",
              "      <td>False</td>\n",
              "      <td>1</td>\n",
              "      <td>True</td>\n",
              "      <td>bachelor</td>\n",
              "      <td>A</td>\n",
              "      <td>True</td>\n",
              "    </tr>\n",
              "    <tr>\n",
              "      <th>6</th>\n",
              "      <td>x5785d</td>\n",
              "      <td>female</td>\n",
              "      <td>27</td>\n",
              "      <td>Dutch</td>\n",
              "      <td>Tennis</td>\n",
              "      <td>63</td>\n",
              "      <td>True</td>\n",
              "      <td>True</td>\n",
              "      <td>False</td>\n",
              "      <td>False</td>\n",
              "      <td>2</td>\n",
              "      <td>True</td>\n",
              "      <td>bachelor</td>\n",
              "      <td>A</td>\n",
              "      <td>False</td>\n",
              "    </tr>\n",
              "    <tr>\n",
              "      <th>7</th>\n",
              "      <td>x8767c</td>\n",
              "      <td>female</td>\n",
              "      <td>22</td>\n",
              "      <td>Dutch</td>\n",
              "      <td>Swimming</td>\n",
              "      <td>71</td>\n",
              "      <td>False</td>\n",
              "      <td>True</td>\n",
              "      <td>False</td>\n",
              "      <td>False</td>\n",
              "      <td>1</td>\n",
              "      <td>True</td>\n",
              "      <td>master</td>\n",
              "      <td>A</td>\n",
              "      <td>True</td>\n",
              "    </tr>\n",
              "    <tr>\n",
              "      <th>8</th>\n",
              "      <td>x6541b</td>\n",
              "      <td>female</td>\n",
              "      <td>28</td>\n",
              "      <td>Dutch</td>\n",
              "      <td>Football</td>\n",
              "      <td>65</td>\n",
              "      <td>True</td>\n",
              "      <td>False</td>\n",
              "      <td>False</td>\n",
              "      <td>True</td>\n",
              "      <td>3</td>\n",
              "      <td>False</td>\n",
              "      <td>bachelor</td>\n",
              "      <td>A</td>\n",
              "      <td>False</td>\n",
              "    </tr>\n",
              "    <tr>\n",
              "      <th>9</th>\n",
              "      <td>x3890b</td>\n",
              "      <td>male</td>\n",
              "      <td>24</td>\n",
              "      <td>Dutch</td>\n",
              "      <td>Football</td>\n",
              "      <td>55</td>\n",
              "      <td>True</td>\n",
              "      <td>False</td>\n",
              "      <td>False</td>\n",
              "      <td>True</td>\n",
              "      <td>3</td>\n",
              "      <td>False</td>\n",
              "      <td>master</td>\n",
              "      <td>A</td>\n",
              "      <td>True</td>\n",
              "    </tr>\n",
              "  </tbody>\n",
              "</table>\n",
              "</div>\n",
              "      <button class=\"colab-df-convert\" onclick=\"convertToInteractive('df-81a5ff35-4c09-4615-8e83-3069cfc6bc2b')\"\n",
              "              title=\"Convert this dataframe to an interactive table.\"\n",
              "              style=\"display:none;\">\n",
              "        \n",
              "  <svg xmlns=\"http://www.w3.org/2000/svg\" height=\"24px\"viewBox=\"0 0 24 24\"\n",
              "       width=\"24px\">\n",
              "    <path d=\"M0 0h24v24H0V0z\" fill=\"none\"/>\n",
              "    <path d=\"M18.56 5.44l.94 2.06.94-2.06 2.06-.94-2.06-.94-.94-2.06-.94 2.06-2.06.94zm-11 1L8.5 8.5l.94-2.06 2.06-.94-2.06-.94L8.5 2.5l-.94 2.06-2.06.94zm10 10l.94 2.06.94-2.06 2.06-.94-2.06-.94-.94-2.06-.94 2.06-2.06.94z\"/><path d=\"M17.41 7.96l-1.37-1.37c-.4-.4-.92-.59-1.43-.59-.52 0-1.04.2-1.43.59L10.3 9.45l-7.72 7.72c-.78.78-.78 2.05 0 2.83L4 21.41c.39.39.9.59 1.41.59.51 0 1.02-.2 1.41-.59l7.78-7.78 2.81-2.81c.8-.78.8-2.07 0-2.86zM5.41 20L4 18.59l7.72-7.72 1.47 1.35L5.41 20z\"/>\n",
              "  </svg>\n",
              "      </button>\n",
              "      \n",
              "  <style>\n",
              "    .colab-df-container {\n",
              "      display:flex;\n",
              "      flex-wrap:wrap;\n",
              "      gap: 12px;\n",
              "    }\n",
              "\n",
              "    .colab-df-convert {\n",
              "      background-color: #E8F0FE;\n",
              "      border: none;\n",
              "      border-radius: 50%;\n",
              "      cursor: pointer;\n",
              "      display: none;\n",
              "      fill: #1967D2;\n",
              "      height: 32px;\n",
              "      padding: 0 0 0 0;\n",
              "      width: 32px;\n",
              "    }\n",
              "\n",
              "    .colab-df-convert:hover {\n",
              "      background-color: #E2EBFA;\n",
              "      box-shadow: 0px 1px 2px rgba(60, 64, 67, 0.3), 0px 1px 3px 1px rgba(60, 64, 67, 0.15);\n",
              "      fill: #174EA6;\n",
              "    }\n",
              "\n",
              "    [theme=dark] .colab-df-convert {\n",
              "      background-color: #3B4455;\n",
              "      fill: #D2E3FC;\n",
              "    }\n",
              "\n",
              "    [theme=dark] .colab-df-convert:hover {\n",
              "      background-color: #434B5C;\n",
              "      box-shadow: 0px 1px 3px 1px rgba(0, 0, 0, 0.15);\n",
              "      filter: drop-shadow(0px 1px 2px rgba(0, 0, 0, 0.3));\n",
              "      fill: #FFFFFF;\n",
              "    }\n",
              "  </style>\n",
              "\n",
              "      <script>\n",
              "        const buttonEl =\n",
              "          document.querySelector('#df-81a5ff35-4c09-4615-8e83-3069cfc6bc2b button.colab-df-convert');\n",
              "        buttonEl.style.display =\n",
              "          google.colab.kernel.accessAllowed ? 'block' : 'none';\n",
              "\n",
              "        async function convertToInteractive(key) {\n",
              "          const element = document.querySelector('#df-81a5ff35-4c09-4615-8e83-3069cfc6bc2b');\n",
              "          const dataTable =\n",
              "            await google.colab.kernel.invokeFunction('convertToInteractive',\n",
              "                                                     [key], {});\n",
              "          if (!dataTable) return;\n",
              "\n",
              "          const docLinkHtml = 'Like what you see? Visit the ' +\n",
              "            '<a target=\"_blank\" href=https://colab.research.google.com/notebooks/data_table.ipynb>data table notebook</a>'\n",
              "            + ' to learn more about interactive tables.';\n",
              "          element.innerHTML = '';\n",
              "          dataTable['output_type'] = 'display_data';\n",
              "          await google.colab.output.renderOutput(dataTable, element);\n",
              "          const docLink = document.createElement('div');\n",
              "          docLink.innerHTML = docLinkHtml;\n",
              "          element.appendChild(docLink);\n",
              "        }\n",
              "      </script>\n",
              "    </div>\n",
              "  </div>\n",
              "  "
            ]
          },
          "metadata": {},
          "execution_count": 240
        }
      ]
    },
    {
      "cell_type": "code",
      "source": [
        "dataset_company_A = pd.DataFrame(company_A)\n",
        "company_A = dataset_company_A[dataset_company_A[\"company\"] == \"A\"]\n",
        "company_A\n",
        "# filtering out company A out of the whole data set"
      ],
      "metadata": {
        "id": "5_sazHz3VlAc",
        "colab": {
          "base_uri": "https://localhost:8080/",
          "height": 500
        },
        "outputId": "7be670c1-4f35-49a7-ab80-e3f8d1e4cffe"
      },
      "execution_count": null,
      "outputs": [
        {
          "output_type": "execute_result",
          "data": {
            "text/plain": [
              "         Id  gender  age nationality     sport  ind-university_grade  \\\n",
              "0    x8011e  female   24      German  Swimming                    70   \n",
              "1    x6077a    male   26      German      Golf                    67   \n",
              "2    x6006e  female   23       Dutch   Running                    67   \n",
              "3    x2173b    male   24       Dutch   Cricket                    70   \n",
              "4    x6241a  female   26      German      Golf                    59   \n",
              "..      ...     ...  ...         ...       ...                   ...   \n",
              "995  x2659d    male   30       Dutch    Tennis                    54   \n",
              "996  x5868g    male   22       Dutch   Running                    69   \n",
              "997  x3164f    male   28       Dutch   Cricket                    57   \n",
              "998  x6907b    male   25       Dutch    Tennis                    65   \n",
              "999  x7803c  female   22       Dutch  Swimming                    68   \n",
              "\n",
              "     ind-debateclub  ind-programming_exp  ind-international_exp  \\\n",
              "0             False                False                  False   \n",
              "1             False                 True                  False   \n",
              "2             False                 True                   True   \n",
              "3             False                 True                  False   \n",
              "4             False                False                  False   \n",
              "..              ...                  ...                    ...   \n",
              "995            True                False                  False   \n",
              "996           False                 True                  False   \n",
              "997           False                False                  False   \n",
              "998           False                 True                  False   \n",
              "999           False                 True                  False   \n",
              "\n",
              "     ind-entrepeneur_exp  ind-languages  ind-exact_study ind-degree company  \\\n",
              "0                  False              1             True        phd       A   \n",
              "1                  False              2             True   bachelor       A   \n",
              "2                  False              0             True     master       A   \n",
              "3                  False              1             True     master       A   \n",
              "4                  False              1            False     master       A   \n",
              "..                   ...            ...              ...        ...     ...   \n",
              "995                 True              2            False   bachelor       A   \n",
              "996                False              1             True   bachelor       A   \n",
              "997                False              1            False   bachelor       A   \n",
              "998                False              1             True     master       A   \n",
              "999                False              0             True     master       A   \n",
              "\n",
              "     decision  \n",
              "0        True  \n",
              "1       False  \n",
              "2       False  \n",
              "3        True  \n",
              "4        True  \n",
              "..        ...  \n",
              "995     False  \n",
              "996     False  \n",
              "997     False  \n",
              "998     False  \n",
              "999     False  \n",
              "\n",
              "[1000 rows x 15 columns]"
            ],
            "text/html": [
              "\n",
              "  <div id=\"df-294efb60-fc85-4416-8caf-0ae8062cacd7\">\n",
              "    <div class=\"colab-df-container\">\n",
              "      <div>\n",
              "<style scoped>\n",
              "    .dataframe tbody tr th:only-of-type {\n",
              "        vertical-align: middle;\n",
              "    }\n",
              "\n",
              "    .dataframe tbody tr th {\n",
              "        vertical-align: top;\n",
              "    }\n",
              "\n",
              "    .dataframe thead th {\n",
              "        text-align: right;\n",
              "    }\n",
              "</style>\n",
              "<table border=\"1\" class=\"dataframe\">\n",
              "  <thead>\n",
              "    <tr style=\"text-align: right;\">\n",
              "      <th></th>\n",
              "      <th>Id</th>\n",
              "      <th>gender</th>\n",
              "      <th>age</th>\n",
              "      <th>nationality</th>\n",
              "      <th>sport</th>\n",
              "      <th>ind-university_grade</th>\n",
              "      <th>ind-debateclub</th>\n",
              "      <th>ind-programming_exp</th>\n",
              "      <th>ind-international_exp</th>\n",
              "      <th>ind-entrepeneur_exp</th>\n",
              "      <th>ind-languages</th>\n",
              "      <th>ind-exact_study</th>\n",
              "      <th>ind-degree</th>\n",
              "      <th>company</th>\n",
              "      <th>decision</th>\n",
              "    </tr>\n",
              "  </thead>\n",
              "  <tbody>\n",
              "    <tr>\n",
              "      <th>0</th>\n",
              "      <td>x8011e</td>\n",
              "      <td>female</td>\n",
              "      <td>24</td>\n",
              "      <td>German</td>\n",
              "      <td>Swimming</td>\n",
              "      <td>70</td>\n",
              "      <td>False</td>\n",
              "      <td>False</td>\n",
              "      <td>False</td>\n",
              "      <td>False</td>\n",
              "      <td>1</td>\n",
              "      <td>True</td>\n",
              "      <td>phd</td>\n",
              "      <td>A</td>\n",
              "      <td>True</td>\n",
              "    </tr>\n",
              "    <tr>\n",
              "      <th>1</th>\n",
              "      <td>x6077a</td>\n",
              "      <td>male</td>\n",
              "      <td>26</td>\n",
              "      <td>German</td>\n",
              "      <td>Golf</td>\n",
              "      <td>67</td>\n",
              "      <td>False</td>\n",
              "      <td>True</td>\n",
              "      <td>False</td>\n",
              "      <td>False</td>\n",
              "      <td>2</td>\n",
              "      <td>True</td>\n",
              "      <td>bachelor</td>\n",
              "      <td>A</td>\n",
              "      <td>False</td>\n",
              "    </tr>\n",
              "    <tr>\n",
              "      <th>2</th>\n",
              "      <td>x6006e</td>\n",
              "      <td>female</td>\n",
              "      <td>23</td>\n",
              "      <td>Dutch</td>\n",
              "      <td>Running</td>\n",
              "      <td>67</td>\n",
              "      <td>False</td>\n",
              "      <td>True</td>\n",
              "      <td>True</td>\n",
              "      <td>False</td>\n",
              "      <td>0</td>\n",
              "      <td>True</td>\n",
              "      <td>master</td>\n",
              "      <td>A</td>\n",
              "      <td>False</td>\n",
              "    </tr>\n",
              "    <tr>\n",
              "      <th>3</th>\n",
              "      <td>x2173b</td>\n",
              "      <td>male</td>\n",
              "      <td>24</td>\n",
              "      <td>Dutch</td>\n",
              "      <td>Cricket</td>\n",
              "      <td>70</td>\n",
              "      <td>False</td>\n",
              "      <td>True</td>\n",
              "      <td>False</td>\n",
              "      <td>False</td>\n",
              "      <td>1</td>\n",
              "      <td>True</td>\n",
              "      <td>master</td>\n",
              "      <td>A</td>\n",
              "      <td>True</td>\n",
              "    </tr>\n",
              "    <tr>\n",
              "      <th>4</th>\n",
              "      <td>x6241a</td>\n",
              "      <td>female</td>\n",
              "      <td>26</td>\n",
              "      <td>German</td>\n",
              "      <td>Golf</td>\n",
              "      <td>59</td>\n",
              "      <td>False</td>\n",
              "      <td>False</td>\n",
              "      <td>False</td>\n",
              "      <td>False</td>\n",
              "      <td>1</td>\n",
              "      <td>False</td>\n",
              "      <td>master</td>\n",
              "      <td>A</td>\n",
              "      <td>True</td>\n",
              "    </tr>\n",
              "    <tr>\n",
              "      <th>...</th>\n",
              "      <td>...</td>\n",
              "      <td>...</td>\n",
              "      <td>...</td>\n",
              "      <td>...</td>\n",
              "      <td>...</td>\n",
              "      <td>...</td>\n",
              "      <td>...</td>\n",
              "      <td>...</td>\n",
              "      <td>...</td>\n",
              "      <td>...</td>\n",
              "      <td>...</td>\n",
              "      <td>...</td>\n",
              "      <td>...</td>\n",
              "      <td>...</td>\n",
              "      <td>...</td>\n",
              "    </tr>\n",
              "    <tr>\n",
              "      <th>995</th>\n",
              "      <td>x2659d</td>\n",
              "      <td>male</td>\n",
              "      <td>30</td>\n",
              "      <td>Dutch</td>\n",
              "      <td>Tennis</td>\n",
              "      <td>54</td>\n",
              "      <td>True</td>\n",
              "      <td>False</td>\n",
              "      <td>False</td>\n",
              "      <td>True</td>\n",
              "      <td>2</td>\n",
              "      <td>False</td>\n",
              "      <td>bachelor</td>\n",
              "      <td>A</td>\n",
              "      <td>False</td>\n",
              "    </tr>\n",
              "    <tr>\n",
              "      <th>996</th>\n",
              "      <td>x5868g</td>\n",
              "      <td>male</td>\n",
              "      <td>22</td>\n",
              "      <td>Dutch</td>\n",
              "      <td>Running</td>\n",
              "      <td>69</td>\n",
              "      <td>False</td>\n",
              "      <td>True</td>\n",
              "      <td>False</td>\n",
              "      <td>False</td>\n",
              "      <td>1</td>\n",
              "      <td>True</td>\n",
              "      <td>bachelor</td>\n",
              "      <td>A</td>\n",
              "      <td>False</td>\n",
              "    </tr>\n",
              "    <tr>\n",
              "      <th>997</th>\n",
              "      <td>x3164f</td>\n",
              "      <td>male</td>\n",
              "      <td>28</td>\n",
              "      <td>Dutch</td>\n",
              "      <td>Cricket</td>\n",
              "      <td>57</td>\n",
              "      <td>False</td>\n",
              "      <td>False</td>\n",
              "      <td>False</td>\n",
              "      <td>False</td>\n",
              "      <td>1</td>\n",
              "      <td>False</td>\n",
              "      <td>bachelor</td>\n",
              "      <td>A</td>\n",
              "      <td>False</td>\n",
              "    </tr>\n",
              "    <tr>\n",
              "      <th>998</th>\n",
              "      <td>x6907b</td>\n",
              "      <td>male</td>\n",
              "      <td>25</td>\n",
              "      <td>Dutch</td>\n",
              "      <td>Tennis</td>\n",
              "      <td>65</td>\n",
              "      <td>False</td>\n",
              "      <td>True</td>\n",
              "      <td>False</td>\n",
              "      <td>False</td>\n",
              "      <td>1</td>\n",
              "      <td>True</td>\n",
              "      <td>master</td>\n",
              "      <td>A</td>\n",
              "      <td>False</td>\n",
              "    </tr>\n",
              "    <tr>\n",
              "      <th>999</th>\n",
              "      <td>x7803c</td>\n",
              "      <td>female</td>\n",
              "      <td>22</td>\n",
              "      <td>Dutch</td>\n",
              "      <td>Swimming</td>\n",
              "      <td>68</td>\n",
              "      <td>False</td>\n",
              "      <td>True</td>\n",
              "      <td>False</td>\n",
              "      <td>False</td>\n",
              "      <td>0</td>\n",
              "      <td>True</td>\n",
              "      <td>master</td>\n",
              "      <td>A</td>\n",
              "      <td>False</td>\n",
              "    </tr>\n",
              "  </tbody>\n",
              "</table>\n",
              "<p>1000 rows × 15 columns</p>\n",
              "</div>\n",
              "      <button class=\"colab-df-convert\" onclick=\"convertToInteractive('df-294efb60-fc85-4416-8caf-0ae8062cacd7')\"\n",
              "              title=\"Convert this dataframe to an interactive table.\"\n",
              "              style=\"display:none;\">\n",
              "        \n",
              "  <svg xmlns=\"http://www.w3.org/2000/svg\" height=\"24px\"viewBox=\"0 0 24 24\"\n",
              "       width=\"24px\">\n",
              "    <path d=\"M0 0h24v24H0V0z\" fill=\"none\"/>\n",
              "    <path d=\"M18.56 5.44l.94 2.06.94-2.06 2.06-.94-2.06-.94-.94-2.06-.94 2.06-2.06.94zm-11 1L8.5 8.5l.94-2.06 2.06-.94-2.06-.94L8.5 2.5l-.94 2.06-2.06.94zm10 10l.94 2.06.94-2.06 2.06-.94-2.06-.94-.94-2.06-.94 2.06-2.06.94z\"/><path d=\"M17.41 7.96l-1.37-1.37c-.4-.4-.92-.59-1.43-.59-.52 0-1.04.2-1.43.59L10.3 9.45l-7.72 7.72c-.78.78-.78 2.05 0 2.83L4 21.41c.39.39.9.59 1.41.59.51 0 1.02-.2 1.41-.59l7.78-7.78 2.81-2.81c.8-.78.8-2.07 0-2.86zM5.41 20L4 18.59l7.72-7.72 1.47 1.35L5.41 20z\"/>\n",
              "  </svg>\n",
              "      </button>\n",
              "      \n",
              "  <style>\n",
              "    .colab-df-container {\n",
              "      display:flex;\n",
              "      flex-wrap:wrap;\n",
              "      gap: 12px;\n",
              "    }\n",
              "\n",
              "    .colab-df-convert {\n",
              "      background-color: #E8F0FE;\n",
              "      border: none;\n",
              "      border-radius: 50%;\n",
              "      cursor: pointer;\n",
              "      display: none;\n",
              "      fill: #1967D2;\n",
              "      height: 32px;\n",
              "      padding: 0 0 0 0;\n",
              "      width: 32px;\n",
              "    }\n",
              "\n",
              "    .colab-df-convert:hover {\n",
              "      background-color: #E2EBFA;\n",
              "      box-shadow: 0px 1px 2px rgba(60, 64, 67, 0.3), 0px 1px 3px 1px rgba(60, 64, 67, 0.15);\n",
              "      fill: #174EA6;\n",
              "    }\n",
              "\n",
              "    [theme=dark] .colab-df-convert {\n",
              "      background-color: #3B4455;\n",
              "      fill: #D2E3FC;\n",
              "    }\n",
              "\n",
              "    [theme=dark] .colab-df-convert:hover {\n",
              "      background-color: #434B5C;\n",
              "      box-shadow: 0px 1px 3px 1px rgba(0, 0, 0, 0.15);\n",
              "      filter: drop-shadow(0px 1px 2px rgba(0, 0, 0, 0.3));\n",
              "      fill: #FFFFFF;\n",
              "    }\n",
              "  </style>\n",
              "\n",
              "      <script>\n",
              "        const buttonEl =\n",
              "          document.querySelector('#df-294efb60-fc85-4416-8caf-0ae8062cacd7 button.colab-df-convert');\n",
              "        buttonEl.style.display =\n",
              "          google.colab.kernel.accessAllowed ? 'block' : 'none';\n",
              "\n",
              "        async function convertToInteractive(key) {\n",
              "          const element = document.querySelector('#df-294efb60-fc85-4416-8caf-0ae8062cacd7');\n",
              "          const dataTable =\n",
              "            await google.colab.kernel.invokeFunction('convertToInteractive',\n",
              "                                                     [key], {});\n",
              "          if (!dataTable) return;\n",
              "\n",
              "          const docLinkHtml = 'Like what you see? Visit the ' +\n",
              "            '<a target=\"_blank\" href=https://colab.research.google.com/notebooks/data_table.ipynb>data table notebook</a>'\n",
              "            + ' to learn more about interactive tables.';\n",
              "          element.innerHTML = '';\n",
              "          dataTable['output_type'] = 'display_data';\n",
              "          await google.colab.output.renderOutput(dataTable, element);\n",
              "          const docLink = document.createElement('div');\n",
              "          docLink.innerHTML = docLinkHtml;\n",
              "          element.appendChild(docLink);\n",
              "        }\n",
              "      </script>\n",
              "    </div>\n",
              "  </div>\n",
              "  "
            ]
          },
          "metadata": {},
          "execution_count": 241
        }
      ]
    },
    {
      "cell_type": "code",
      "source": [
        "dataset2= company_A[['gender', 'age', 'sport', 'nationality', 'decision']]\n",
        "dataset2[1:10]\n",
        "# now filtering out the indicators, so that we only have the descriptors "
      ],
      "metadata": {
        "id": "LWfxyNxCV6Iv",
        "colab": {
          "base_uri": "https://localhost:8080/",
          "height": 328
        },
        "outputId": "24516fde-8ebd-47d7-c00f-bfee3837f379"
      },
      "execution_count": null,
      "outputs": [
        {
          "output_type": "execute_result",
          "data": {
            "text/plain": [
              "   gender  age     sport nationality  decision\n",
              "1    male   26      Golf      German     False\n",
              "2  female   23   Running       Dutch     False\n",
              "3    male   24   Cricket       Dutch      True\n",
              "4  female   26      Golf      German      True\n",
              "5  female   26     Chess       Dutch      True\n",
              "6  female   27    Tennis       Dutch     False\n",
              "7  female   22  Swimming       Dutch      True\n",
              "8  female   28  Football       Dutch     False\n",
              "9    male   24  Football       Dutch      True"
            ],
            "text/html": [
              "\n",
              "  <div id=\"df-7e1b32aa-2db9-4a12-81dd-8d5520302a59\">\n",
              "    <div class=\"colab-df-container\">\n",
              "      <div>\n",
              "<style scoped>\n",
              "    .dataframe tbody tr th:only-of-type {\n",
              "        vertical-align: middle;\n",
              "    }\n",
              "\n",
              "    .dataframe tbody tr th {\n",
              "        vertical-align: top;\n",
              "    }\n",
              "\n",
              "    .dataframe thead th {\n",
              "        text-align: right;\n",
              "    }\n",
              "</style>\n",
              "<table border=\"1\" class=\"dataframe\">\n",
              "  <thead>\n",
              "    <tr style=\"text-align: right;\">\n",
              "      <th></th>\n",
              "      <th>gender</th>\n",
              "      <th>age</th>\n",
              "      <th>sport</th>\n",
              "      <th>nationality</th>\n",
              "      <th>decision</th>\n",
              "    </tr>\n",
              "  </thead>\n",
              "  <tbody>\n",
              "    <tr>\n",
              "      <th>1</th>\n",
              "      <td>male</td>\n",
              "      <td>26</td>\n",
              "      <td>Golf</td>\n",
              "      <td>German</td>\n",
              "      <td>False</td>\n",
              "    </tr>\n",
              "    <tr>\n",
              "      <th>2</th>\n",
              "      <td>female</td>\n",
              "      <td>23</td>\n",
              "      <td>Running</td>\n",
              "      <td>Dutch</td>\n",
              "      <td>False</td>\n",
              "    </tr>\n",
              "    <tr>\n",
              "      <th>3</th>\n",
              "      <td>male</td>\n",
              "      <td>24</td>\n",
              "      <td>Cricket</td>\n",
              "      <td>Dutch</td>\n",
              "      <td>True</td>\n",
              "    </tr>\n",
              "    <tr>\n",
              "      <th>4</th>\n",
              "      <td>female</td>\n",
              "      <td>26</td>\n",
              "      <td>Golf</td>\n",
              "      <td>German</td>\n",
              "      <td>True</td>\n",
              "    </tr>\n",
              "    <tr>\n",
              "      <th>5</th>\n",
              "      <td>female</td>\n",
              "      <td>26</td>\n",
              "      <td>Chess</td>\n",
              "      <td>Dutch</td>\n",
              "      <td>True</td>\n",
              "    </tr>\n",
              "    <tr>\n",
              "      <th>6</th>\n",
              "      <td>female</td>\n",
              "      <td>27</td>\n",
              "      <td>Tennis</td>\n",
              "      <td>Dutch</td>\n",
              "      <td>False</td>\n",
              "    </tr>\n",
              "    <tr>\n",
              "      <th>7</th>\n",
              "      <td>female</td>\n",
              "      <td>22</td>\n",
              "      <td>Swimming</td>\n",
              "      <td>Dutch</td>\n",
              "      <td>True</td>\n",
              "    </tr>\n",
              "    <tr>\n",
              "      <th>8</th>\n",
              "      <td>female</td>\n",
              "      <td>28</td>\n",
              "      <td>Football</td>\n",
              "      <td>Dutch</td>\n",
              "      <td>False</td>\n",
              "    </tr>\n",
              "    <tr>\n",
              "      <th>9</th>\n",
              "      <td>male</td>\n",
              "      <td>24</td>\n",
              "      <td>Football</td>\n",
              "      <td>Dutch</td>\n",
              "      <td>True</td>\n",
              "    </tr>\n",
              "  </tbody>\n",
              "</table>\n",
              "</div>\n",
              "      <button class=\"colab-df-convert\" onclick=\"convertToInteractive('df-7e1b32aa-2db9-4a12-81dd-8d5520302a59')\"\n",
              "              title=\"Convert this dataframe to an interactive table.\"\n",
              "              style=\"display:none;\">\n",
              "        \n",
              "  <svg xmlns=\"http://www.w3.org/2000/svg\" height=\"24px\"viewBox=\"0 0 24 24\"\n",
              "       width=\"24px\">\n",
              "    <path d=\"M0 0h24v24H0V0z\" fill=\"none\"/>\n",
              "    <path d=\"M18.56 5.44l.94 2.06.94-2.06 2.06-.94-2.06-.94-.94-2.06-.94 2.06-2.06.94zm-11 1L8.5 8.5l.94-2.06 2.06-.94-2.06-.94L8.5 2.5l-.94 2.06-2.06.94zm10 10l.94 2.06.94-2.06 2.06-.94-2.06-.94-.94-2.06-.94 2.06-2.06.94z\"/><path d=\"M17.41 7.96l-1.37-1.37c-.4-.4-.92-.59-1.43-.59-.52 0-1.04.2-1.43.59L10.3 9.45l-7.72 7.72c-.78.78-.78 2.05 0 2.83L4 21.41c.39.39.9.59 1.41.59.51 0 1.02-.2 1.41-.59l7.78-7.78 2.81-2.81c.8-.78.8-2.07 0-2.86zM5.41 20L4 18.59l7.72-7.72 1.47 1.35L5.41 20z\"/>\n",
              "  </svg>\n",
              "      </button>\n",
              "      \n",
              "  <style>\n",
              "    .colab-df-container {\n",
              "      display:flex;\n",
              "      flex-wrap:wrap;\n",
              "      gap: 12px;\n",
              "    }\n",
              "\n",
              "    .colab-df-convert {\n",
              "      background-color: #E8F0FE;\n",
              "      border: none;\n",
              "      border-radius: 50%;\n",
              "      cursor: pointer;\n",
              "      display: none;\n",
              "      fill: #1967D2;\n",
              "      height: 32px;\n",
              "      padding: 0 0 0 0;\n",
              "      width: 32px;\n",
              "    }\n",
              "\n",
              "    .colab-df-convert:hover {\n",
              "      background-color: #E2EBFA;\n",
              "      box-shadow: 0px 1px 2px rgba(60, 64, 67, 0.3), 0px 1px 3px 1px rgba(60, 64, 67, 0.15);\n",
              "      fill: #174EA6;\n",
              "    }\n",
              "\n",
              "    [theme=dark] .colab-df-convert {\n",
              "      background-color: #3B4455;\n",
              "      fill: #D2E3FC;\n",
              "    }\n",
              "\n",
              "    [theme=dark] .colab-df-convert:hover {\n",
              "      background-color: #434B5C;\n",
              "      box-shadow: 0px 1px 3px 1px rgba(0, 0, 0, 0.15);\n",
              "      filter: drop-shadow(0px 1px 2px rgba(0, 0, 0, 0.3));\n",
              "      fill: #FFFFFF;\n",
              "    }\n",
              "  </style>\n",
              "\n",
              "      <script>\n",
              "        const buttonEl =\n",
              "          document.querySelector('#df-7e1b32aa-2db9-4a12-81dd-8d5520302a59 button.colab-df-convert');\n",
              "        buttonEl.style.display =\n",
              "          google.colab.kernel.accessAllowed ? 'block' : 'none';\n",
              "\n",
              "        async function convertToInteractive(key) {\n",
              "          const element = document.querySelector('#df-7e1b32aa-2db9-4a12-81dd-8d5520302a59');\n",
              "          const dataTable =\n",
              "            await google.colab.kernel.invokeFunction('convertToInteractive',\n",
              "                                                     [key], {});\n",
              "          if (!dataTable) return;\n",
              "\n",
              "          const docLinkHtml = 'Like what you see? Visit the ' +\n",
              "            '<a target=\"_blank\" href=https://colab.research.google.com/notebooks/data_table.ipynb>data table notebook</a>'\n",
              "            + ' to learn more about interactive tables.';\n",
              "          element.innerHTML = '';\n",
              "          dataTable['output_type'] = 'display_data';\n",
              "          await google.colab.output.renderOutput(dataTable, element);\n",
              "          const docLink = document.createElement('div');\n",
              "          docLink.innerHTML = docLinkHtml;\n",
              "          element.appendChild(docLink);\n",
              "        }\n",
              "      </script>\n",
              "    </div>\n",
              "  </div>\n",
              "  "
            ]
          },
          "metadata": {},
          "execution_count": 242
        }
      ]
    },
    {
      "cell_type": "markdown",
      "source": [
        "# Data preperation\n"
      ],
      "metadata": {
        "id": "nlvkmly9nKbj"
      }
    },
    {
      "cell_type": "code",
      "source": [
        "# The categorical data will cause an issue later on, so we are going to prepare it that it is numeric\n",
        "# before continuing, it is useful to convert the decision instead of TRUE and FALSE into 1 and 0 where TRUE = 1 and FALSE = 0. This will be useful later on \n",
        "dataset3 = dataset2\n",
        "dataset3['decision']=dataset3['decision'].astype(int)\n",
        "dataset3"
      ],
      "metadata": {
        "id": "OzTxT8Onmi9l",
        "colab": {
          "base_uri": "https://localhost:8080/",
          "height": 521
        },
        "outputId": "6c87b7a1-fb4a-4aca-ee73-52625986c77a"
      },
      "execution_count": null,
      "outputs": [
        {
          "output_type": "stream",
          "name": "stderr",
          "text": [
            "/usr/local/lib/python3.7/dist-packages/ipykernel_launcher.py:4: SettingWithCopyWarning: \n",
            "A value is trying to be set on a copy of a slice from a DataFrame.\n",
            "Try using .loc[row_indexer,col_indexer] = value instead\n",
            "\n",
            "See the caveats in the documentation: https://pandas.pydata.org/pandas-docs/stable/user_guide/indexing.html#returning-a-view-versus-a-copy\n",
            "  after removing the cwd from sys.path.\n"
          ]
        },
        {
          "output_type": "execute_result",
          "data": {
            "text/plain": [
              "     gender  age     sport nationality  decision\n",
              "0    female   24  Swimming      German         1\n",
              "1      male   26      Golf      German         0\n",
              "2    female   23   Running       Dutch         0\n",
              "3      male   24   Cricket       Dutch         1\n",
              "4    female   26      Golf      German         1\n",
              "..      ...  ...       ...         ...       ...\n",
              "995    male   30    Tennis       Dutch         0\n",
              "996    male   22   Running       Dutch         0\n",
              "997    male   28   Cricket       Dutch         0\n",
              "998    male   25    Tennis       Dutch         0\n",
              "999  female   22  Swimming       Dutch         0\n",
              "\n",
              "[1000 rows x 5 columns]"
            ],
            "text/html": [
              "\n",
              "  <div id=\"df-db65a85a-c863-4068-b65b-9a8057cb0fa5\">\n",
              "    <div class=\"colab-df-container\">\n",
              "      <div>\n",
              "<style scoped>\n",
              "    .dataframe tbody tr th:only-of-type {\n",
              "        vertical-align: middle;\n",
              "    }\n",
              "\n",
              "    .dataframe tbody tr th {\n",
              "        vertical-align: top;\n",
              "    }\n",
              "\n",
              "    .dataframe thead th {\n",
              "        text-align: right;\n",
              "    }\n",
              "</style>\n",
              "<table border=\"1\" class=\"dataframe\">\n",
              "  <thead>\n",
              "    <tr style=\"text-align: right;\">\n",
              "      <th></th>\n",
              "      <th>gender</th>\n",
              "      <th>age</th>\n",
              "      <th>sport</th>\n",
              "      <th>nationality</th>\n",
              "      <th>decision</th>\n",
              "    </tr>\n",
              "  </thead>\n",
              "  <tbody>\n",
              "    <tr>\n",
              "      <th>0</th>\n",
              "      <td>female</td>\n",
              "      <td>24</td>\n",
              "      <td>Swimming</td>\n",
              "      <td>German</td>\n",
              "      <td>1</td>\n",
              "    </tr>\n",
              "    <tr>\n",
              "      <th>1</th>\n",
              "      <td>male</td>\n",
              "      <td>26</td>\n",
              "      <td>Golf</td>\n",
              "      <td>German</td>\n",
              "      <td>0</td>\n",
              "    </tr>\n",
              "    <tr>\n",
              "      <th>2</th>\n",
              "      <td>female</td>\n",
              "      <td>23</td>\n",
              "      <td>Running</td>\n",
              "      <td>Dutch</td>\n",
              "      <td>0</td>\n",
              "    </tr>\n",
              "    <tr>\n",
              "      <th>3</th>\n",
              "      <td>male</td>\n",
              "      <td>24</td>\n",
              "      <td>Cricket</td>\n",
              "      <td>Dutch</td>\n",
              "      <td>1</td>\n",
              "    </tr>\n",
              "    <tr>\n",
              "      <th>4</th>\n",
              "      <td>female</td>\n",
              "      <td>26</td>\n",
              "      <td>Golf</td>\n",
              "      <td>German</td>\n",
              "      <td>1</td>\n",
              "    </tr>\n",
              "    <tr>\n",
              "      <th>...</th>\n",
              "      <td>...</td>\n",
              "      <td>...</td>\n",
              "      <td>...</td>\n",
              "      <td>...</td>\n",
              "      <td>...</td>\n",
              "    </tr>\n",
              "    <tr>\n",
              "      <th>995</th>\n",
              "      <td>male</td>\n",
              "      <td>30</td>\n",
              "      <td>Tennis</td>\n",
              "      <td>Dutch</td>\n",
              "      <td>0</td>\n",
              "    </tr>\n",
              "    <tr>\n",
              "      <th>996</th>\n",
              "      <td>male</td>\n",
              "      <td>22</td>\n",
              "      <td>Running</td>\n",
              "      <td>Dutch</td>\n",
              "      <td>0</td>\n",
              "    </tr>\n",
              "    <tr>\n",
              "      <th>997</th>\n",
              "      <td>male</td>\n",
              "      <td>28</td>\n",
              "      <td>Cricket</td>\n",
              "      <td>Dutch</td>\n",
              "      <td>0</td>\n",
              "    </tr>\n",
              "    <tr>\n",
              "      <th>998</th>\n",
              "      <td>male</td>\n",
              "      <td>25</td>\n",
              "      <td>Tennis</td>\n",
              "      <td>Dutch</td>\n",
              "      <td>0</td>\n",
              "    </tr>\n",
              "    <tr>\n",
              "      <th>999</th>\n",
              "      <td>female</td>\n",
              "      <td>22</td>\n",
              "      <td>Swimming</td>\n",
              "      <td>Dutch</td>\n",
              "      <td>0</td>\n",
              "    </tr>\n",
              "  </tbody>\n",
              "</table>\n",
              "<p>1000 rows × 5 columns</p>\n",
              "</div>\n",
              "      <button class=\"colab-df-convert\" onclick=\"convertToInteractive('df-db65a85a-c863-4068-b65b-9a8057cb0fa5')\"\n",
              "              title=\"Convert this dataframe to an interactive table.\"\n",
              "              style=\"display:none;\">\n",
              "        \n",
              "  <svg xmlns=\"http://www.w3.org/2000/svg\" height=\"24px\"viewBox=\"0 0 24 24\"\n",
              "       width=\"24px\">\n",
              "    <path d=\"M0 0h24v24H0V0z\" fill=\"none\"/>\n",
              "    <path d=\"M18.56 5.44l.94 2.06.94-2.06 2.06-.94-2.06-.94-.94-2.06-.94 2.06-2.06.94zm-11 1L8.5 8.5l.94-2.06 2.06-.94-2.06-.94L8.5 2.5l-.94 2.06-2.06.94zm10 10l.94 2.06.94-2.06 2.06-.94-2.06-.94-.94-2.06-.94 2.06-2.06.94z\"/><path d=\"M17.41 7.96l-1.37-1.37c-.4-.4-.92-.59-1.43-.59-.52 0-1.04.2-1.43.59L10.3 9.45l-7.72 7.72c-.78.78-.78 2.05 0 2.83L4 21.41c.39.39.9.59 1.41.59.51 0 1.02-.2 1.41-.59l7.78-7.78 2.81-2.81c.8-.78.8-2.07 0-2.86zM5.41 20L4 18.59l7.72-7.72 1.47 1.35L5.41 20z\"/>\n",
              "  </svg>\n",
              "      </button>\n",
              "      \n",
              "  <style>\n",
              "    .colab-df-container {\n",
              "      display:flex;\n",
              "      flex-wrap:wrap;\n",
              "      gap: 12px;\n",
              "    }\n",
              "\n",
              "    .colab-df-convert {\n",
              "      background-color: #E8F0FE;\n",
              "      border: none;\n",
              "      border-radius: 50%;\n",
              "      cursor: pointer;\n",
              "      display: none;\n",
              "      fill: #1967D2;\n",
              "      height: 32px;\n",
              "      padding: 0 0 0 0;\n",
              "      width: 32px;\n",
              "    }\n",
              "\n",
              "    .colab-df-convert:hover {\n",
              "      background-color: #E2EBFA;\n",
              "      box-shadow: 0px 1px 2px rgba(60, 64, 67, 0.3), 0px 1px 3px 1px rgba(60, 64, 67, 0.15);\n",
              "      fill: #174EA6;\n",
              "    }\n",
              "\n",
              "    [theme=dark] .colab-df-convert {\n",
              "      background-color: #3B4455;\n",
              "      fill: #D2E3FC;\n",
              "    }\n",
              "\n",
              "    [theme=dark] .colab-df-convert:hover {\n",
              "      background-color: #434B5C;\n",
              "      box-shadow: 0px 1px 3px 1px rgba(0, 0, 0, 0.15);\n",
              "      filter: drop-shadow(0px 1px 2px rgba(0, 0, 0, 0.3));\n",
              "      fill: #FFFFFF;\n",
              "    }\n",
              "  </style>\n",
              "\n",
              "      <script>\n",
              "        const buttonEl =\n",
              "          document.querySelector('#df-db65a85a-c863-4068-b65b-9a8057cb0fa5 button.colab-df-convert');\n",
              "        buttonEl.style.display =\n",
              "          google.colab.kernel.accessAllowed ? 'block' : 'none';\n",
              "\n",
              "        async function convertToInteractive(key) {\n",
              "          const element = document.querySelector('#df-db65a85a-c863-4068-b65b-9a8057cb0fa5');\n",
              "          const dataTable =\n",
              "            await google.colab.kernel.invokeFunction('convertToInteractive',\n",
              "                                                     [key], {});\n",
              "          if (!dataTable) return;\n",
              "\n",
              "          const docLinkHtml = 'Like what you see? Visit the ' +\n",
              "            '<a target=\"_blank\" href=https://colab.research.google.com/notebooks/data_table.ipynb>data table notebook</a>'\n",
              "            + ' to learn more about interactive tables.';\n",
              "          element.innerHTML = '';\n",
              "          dataTable['output_type'] = 'display_data';\n",
              "          await google.colab.output.renderOutput(dataTable, element);\n",
              "          const docLink = document.createElement('div');\n",
              "          docLink.innerHTML = docLinkHtml;\n",
              "          element.appendChild(docLink);\n",
              "        }\n",
              "      </script>\n",
              "    </div>\n",
              "  </div>\n",
              "  "
            ]
          },
          "metadata": {},
          "execution_count": 243
        }
      ]
    },
    {
      "cell_type": "code",
      "source": [
        "# here we create the categorical data from the descriptors into numerical data \n",
        "dataset4= pd.get_dummies(dataset3, columns = ['gender', 'age', 'sport', 'nationality'])\n",
        "dataset4[\"decision\"] = dataset3[\"decision\"]\n",
        "dataset4"
      ],
      "metadata": {
        "id": "7GMK9trAbv0X",
        "colab": {
          "base_uri": "https://localhost:8080/",
          "height": 483
        },
        "outputId": "4b0ddf80-9d5e-4e38-8eb9-a7de1c27a0d0"
      },
      "execution_count": null,
      "outputs": [
        {
          "output_type": "execute_result",
          "data": {
            "text/plain": [
              "     decision  gender_female  gender_male  gender_other  age_21  age_22  \\\n",
              "0           1              1            0             0       0       0   \n",
              "1           0              0            1             0       0       0   \n",
              "2           0              1            0             0       0       0   \n",
              "3           1              0            1             0       0       0   \n",
              "4           1              1            0             0       0       0   \n",
              "..        ...            ...          ...           ...     ...     ...   \n",
              "995         0              0            1             0       0       0   \n",
              "996         0              0            1             0       0       1   \n",
              "997         0              0            1             0       0       0   \n",
              "998         0              0            1             0       0       0   \n",
              "999         0              1            0             0       0       1   \n",
              "\n",
              "     age_23  age_24  age_25  age_26  ...  sport_Cricket  sport_Football  \\\n",
              "0         0       1       0       0  ...              0               0   \n",
              "1         0       0       0       1  ...              0               0   \n",
              "2         1       0       0       0  ...              0               0   \n",
              "3         0       1       0       0  ...              1               0   \n",
              "4         0       0       0       1  ...              0               0   \n",
              "..      ...     ...     ...     ...  ...            ...             ...   \n",
              "995       0       0       0       0  ...              0               0   \n",
              "996       0       0       0       0  ...              0               0   \n",
              "997       0       0       0       0  ...              1               0   \n",
              "998       0       0       1       0  ...              0               0   \n",
              "999       0       0       0       0  ...              0               0   \n",
              "\n",
              "     sport_Golf  sport_Rugby  sport_Running  sport_Swimming  sport_Tennis  \\\n",
              "0             0            0              0               1             0   \n",
              "1             1            0              0               0             0   \n",
              "2             0            0              1               0             0   \n",
              "3             0            0              0               0             0   \n",
              "4             1            0              0               0             0   \n",
              "..          ...          ...            ...             ...           ...   \n",
              "995           0            0              0               0             1   \n",
              "996           0            0              1               0             0   \n",
              "997           0            0              0               0             0   \n",
              "998           0            0              0               0             1   \n",
              "999           0            0              0               1             0   \n",
              "\n",
              "     nationality_Belgian  nationality_Dutch  nationality_German  \n",
              "0                      0                  0                   1  \n",
              "1                      0                  0                   1  \n",
              "2                      0                  1                   0  \n",
              "3                      0                  1                   0  \n",
              "4                      0                  0                   1  \n",
              "..                   ...                ...                 ...  \n",
              "995                    0                  1                   0  \n",
              "996                    0                  1                   0  \n",
              "997                    0                  1                   0  \n",
              "998                    0                  1                   0  \n",
              "999                    0                  1                   0  \n",
              "\n",
              "[1000 rows x 27 columns]"
            ],
            "text/html": [
              "\n",
              "  <div id=\"df-de76473e-5b6d-4d73-ada3-49dcfc631845\">\n",
              "    <div class=\"colab-df-container\">\n",
              "      <div>\n",
              "<style scoped>\n",
              "    .dataframe tbody tr th:only-of-type {\n",
              "        vertical-align: middle;\n",
              "    }\n",
              "\n",
              "    .dataframe tbody tr th {\n",
              "        vertical-align: top;\n",
              "    }\n",
              "\n",
              "    .dataframe thead th {\n",
              "        text-align: right;\n",
              "    }\n",
              "</style>\n",
              "<table border=\"1\" class=\"dataframe\">\n",
              "  <thead>\n",
              "    <tr style=\"text-align: right;\">\n",
              "      <th></th>\n",
              "      <th>decision</th>\n",
              "      <th>gender_female</th>\n",
              "      <th>gender_male</th>\n",
              "      <th>gender_other</th>\n",
              "      <th>age_21</th>\n",
              "      <th>age_22</th>\n",
              "      <th>age_23</th>\n",
              "      <th>age_24</th>\n",
              "      <th>age_25</th>\n",
              "      <th>age_26</th>\n",
              "      <th>...</th>\n",
              "      <th>sport_Cricket</th>\n",
              "      <th>sport_Football</th>\n",
              "      <th>sport_Golf</th>\n",
              "      <th>sport_Rugby</th>\n",
              "      <th>sport_Running</th>\n",
              "      <th>sport_Swimming</th>\n",
              "      <th>sport_Tennis</th>\n",
              "      <th>nationality_Belgian</th>\n",
              "      <th>nationality_Dutch</th>\n",
              "      <th>nationality_German</th>\n",
              "    </tr>\n",
              "  </thead>\n",
              "  <tbody>\n",
              "    <tr>\n",
              "      <th>0</th>\n",
              "      <td>1</td>\n",
              "      <td>1</td>\n",
              "      <td>0</td>\n",
              "      <td>0</td>\n",
              "      <td>0</td>\n",
              "      <td>0</td>\n",
              "      <td>0</td>\n",
              "      <td>1</td>\n",
              "      <td>0</td>\n",
              "      <td>0</td>\n",
              "      <td>...</td>\n",
              "      <td>0</td>\n",
              "      <td>0</td>\n",
              "      <td>0</td>\n",
              "      <td>0</td>\n",
              "      <td>0</td>\n",
              "      <td>1</td>\n",
              "      <td>0</td>\n",
              "      <td>0</td>\n",
              "      <td>0</td>\n",
              "      <td>1</td>\n",
              "    </tr>\n",
              "    <tr>\n",
              "      <th>1</th>\n",
              "      <td>0</td>\n",
              "      <td>0</td>\n",
              "      <td>1</td>\n",
              "      <td>0</td>\n",
              "      <td>0</td>\n",
              "      <td>0</td>\n",
              "      <td>0</td>\n",
              "      <td>0</td>\n",
              "      <td>0</td>\n",
              "      <td>1</td>\n",
              "      <td>...</td>\n",
              "      <td>0</td>\n",
              "      <td>0</td>\n",
              "      <td>1</td>\n",
              "      <td>0</td>\n",
              "      <td>0</td>\n",
              "      <td>0</td>\n",
              "      <td>0</td>\n",
              "      <td>0</td>\n",
              "      <td>0</td>\n",
              "      <td>1</td>\n",
              "    </tr>\n",
              "    <tr>\n",
              "      <th>2</th>\n",
              "      <td>0</td>\n",
              "      <td>1</td>\n",
              "      <td>0</td>\n",
              "      <td>0</td>\n",
              "      <td>0</td>\n",
              "      <td>0</td>\n",
              "      <td>1</td>\n",
              "      <td>0</td>\n",
              "      <td>0</td>\n",
              "      <td>0</td>\n",
              "      <td>...</td>\n",
              "      <td>0</td>\n",
              "      <td>0</td>\n",
              "      <td>0</td>\n",
              "      <td>0</td>\n",
              "      <td>1</td>\n",
              "      <td>0</td>\n",
              "      <td>0</td>\n",
              "      <td>0</td>\n",
              "      <td>1</td>\n",
              "      <td>0</td>\n",
              "    </tr>\n",
              "    <tr>\n",
              "      <th>3</th>\n",
              "      <td>1</td>\n",
              "      <td>0</td>\n",
              "      <td>1</td>\n",
              "      <td>0</td>\n",
              "      <td>0</td>\n",
              "      <td>0</td>\n",
              "      <td>0</td>\n",
              "      <td>1</td>\n",
              "      <td>0</td>\n",
              "      <td>0</td>\n",
              "      <td>...</td>\n",
              "      <td>1</td>\n",
              "      <td>0</td>\n",
              "      <td>0</td>\n",
              "      <td>0</td>\n",
              "      <td>0</td>\n",
              "      <td>0</td>\n",
              "      <td>0</td>\n",
              "      <td>0</td>\n",
              "      <td>1</td>\n",
              "      <td>0</td>\n",
              "    </tr>\n",
              "    <tr>\n",
              "      <th>4</th>\n",
              "      <td>1</td>\n",
              "      <td>1</td>\n",
              "      <td>0</td>\n",
              "      <td>0</td>\n",
              "      <td>0</td>\n",
              "      <td>0</td>\n",
              "      <td>0</td>\n",
              "      <td>0</td>\n",
              "      <td>0</td>\n",
              "      <td>1</td>\n",
              "      <td>...</td>\n",
              "      <td>0</td>\n",
              "      <td>0</td>\n",
              "      <td>1</td>\n",
              "      <td>0</td>\n",
              "      <td>0</td>\n",
              "      <td>0</td>\n",
              "      <td>0</td>\n",
              "      <td>0</td>\n",
              "      <td>0</td>\n",
              "      <td>1</td>\n",
              "    </tr>\n",
              "    <tr>\n",
              "      <th>...</th>\n",
              "      <td>...</td>\n",
              "      <td>...</td>\n",
              "      <td>...</td>\n",
              "      <td>...</td>\n",
              "      <td>...</td>\n",
              "      <td>...</td>\n",
              "      <td>...</td>\n",
              "      <td>...</td>\n",
              "      <td>...</td>\n",
              "      <td>...</td>\n",
              "      <td>...</td>\n",
              "      <td>...</td>\n",
              "      <td>...</td>\n",
              "      <td>...</td>\n",
              "      <td>...</td>\n",
              "      <td>...</td>\n",
              "      <td>...</td>\n",
              "      <td>...</td>\n",
              "      <td>...</td>\n",
              "      <td>...</td>\n",
              "      <td>...</td>\n",
              "    </tr>\n",
              "    <tr>\n",
              "      <th>995</th>\n",
              "      <td>0</td>\n",
              "      <td>0</td>\n",
              "      <td>1</td>\n",
              "      <td>0</td>\n",
              "      <td>0</td>\n",
              "      <td>0</td>\n",
              "      <td>0</td>\n",
              "      <td>0</td>\n",
              "      <td>0</td>\n",
              "      <td>0</td>\n",
              "      <td>...</td>\n",
              "      <td>0</td>\n",
              "      <td>0</td>\n",
              "      <td>0</td>\n",
              "      <td>0</td>\n",
              "      <td>0</td>\n",
              "      <td>0</td>\n",
              "      <td>1</td>\n",
              "      <td>0</td>\n",
              "      <td>1</td>\n",
              "      <td>0</td>\n",
              "    </tr>\n",
              "    <tr>\n",
              "      <th>996</th>\n",
              "      <td>0</td>\n",
              "      <td>0</td>\n",
              "      <td>1</td>\n",
              "      <td>0</td>\n",
              "      <td>0</td>\n",
              "      <td>1</td>\n",
              "      <td>0</td>\n",
              "      <td>0</td>\n",
              "      <td>0</td>\n",
              "      <td>0</td>\n",
              "      <td>...</td>\n",
              "      <td>0</td>\n",
              "      <td>0</td>\n",
              "      <td>0</td>\n",
              "      <td>0</td>\n",
              "      <td>1</td>\n",
              "      <td>0</td>\n",
              "      <td>0</td>\n",
              "      <td>0</td>\n",
              "      <td>1</td>\n",
              "      <td>0</td>\n",
              "    </tr>\n",
              "    <tr>\n",
              "      <th>997</th>\n",
              "      <td>0</td>\n",
              "      <td>0</td>\n",
              "      <td>1</td>\n",
              "      <td>0</td>\n",
              "      <td>0</td>\n",
              "      <td>0</td>\n",
              "      <td>0</td>\n",
              "      <td>0</td>\n",
              "      <td>0</td>\n",
              "      <td>0</td>\n",
              "      <td>...</td>\n",
              "      <td>1</td>\n",
              "      <td>0</td>\n",
              "      <td>0</td>\n",
              "      <td>0</td>\n",
              "      <td>0</td>\n",
              "      <td>0</td>\n",
              "      <td>0</td>\n",
              "      <td>0</td>\n",
              "      <td>1</td>\n",
              "      <td>0</td>\n",
              "    </tr>\n",
              "    <tr>\n",
              "      <th>998</th>\n",
              "      <td>0</td>\n",
              "      <td>0</td>\n",
              "      <td>1</td>\n",
              "      <td>0</td>\n",
              "      <td>0</td>\n",
              "      <td>0</td>\n",
              "      <td>0</td>\n",
              "      <td>0</td>\n",
              "      <td>1</td>\n",
              "      <td>0</td>\n",
              "      <td>...</td>\n",
              "      <td>0</td>\n",
              "      <td>0</td>\n",
              "      <td>0</td>\n",
              "      <td>0</td>\n",
              "      <td>0</td>\n",
              "      <td>0</td>\n",
              "      <td>1</td>\n",
              "      <td>0</td>\n",
              "      <td>1</td>\n",
              "      <td>0</td>\n",
              "    </tr>\n",
              "    <tr>\n",
              "      <th>999</th>\n",
              "      <td>0</td>\n",
              "      <td>1</td>\n",
              "      <td>0</td>\n",
              "      <td>0</td>\n",
              "      <td>0</td>\n",
              "      <td>1</td>\n",
              "      <td>0</td>\n",
              "      <td>0</td>\n",
              "      <td>0</td>\n",
              "      <td>0</td>\n",
              "      <td>...</td>\n",
              "      <td>0</td>\n",
              "      <td>0</td>\n",
              "      <td>0</td>\n",
              "      <td>0</td>\n",
              "      <td>0</td>\n",
              "      <td>1</td>\n",
              "      <td>0</td>\n",
              "      <td>0</td>\n",
              "      <td>1</td>\n",
              "      <td>0</td>\n",
              "    </tr>\n",
              "  </tbody>\n",
              "</table>\n",
              "<p>1000 rows × 27 columns</p>\n",
              "</div>\n",
              "      <button class=\"colab-df-convert\" onclick=\"convertToInteractive('df-de76473e-5b6d-4d73-ada3-49dcfc631845')\"\n",
              "              title=\"Convert this dataframe to an interactive table.\"\n",
              "              style=\"display:none;\">\n",
              "        \n",
              "  <svg xmlns=\"http://www.w3.org/2000/svg\" height=\"24px\"viewBox=\"0 0 24 24\"\n",
              "       width=\"24px\">\n",
              "    <path d=\"M0 0h24v24H0V0z\" fill=\"none\"/>\n",
              "    <path d=\"M18.56 5.44l.94 2.06.94-2.06 2.06-.94-2.06-.94-.94-2.06-.94 2.06-2.06.94zm-11 1L8.5 8.5l.94-2.06 2.06-.94-2.06-.94L8.5 2.5l-.94 2.06-2.06.94zm10 10l.94 2.06.94-2.06 2.06-.94-2.06-.94-.94-2.06-.94 2.06-2.06.94z\"/><path d=\"M17.41 7.96l-1.37-1.37c-.4-.4-.92-.59-1.43-.59-.52 0-1.04.2-1.43.59L10.3 9.45l-7.72 7.72c-.78.78-.78 2.05 0 2.83L4 21.41c.39.39.9.59 1.41.59.51 0 1.02-.2 1.41-.59l7.78-7.78 2.81-2.81c.8-.78.8-2.07 0-2.86zM5.41 20L4 18.59l7.72-7.72 1.47 1.35L5.41 20z\"/>\n",
              "  </svg>\n",
              "      </button>\n",
              "      \n",
              "  <style>\n",
              "    .colab-df-container {\n",
              "      display:flex;\n",
              "      flex-wrap:wrap;\n",
              "      gap: 12px;\n",
              "    }\n",
              "\n",
              "    .colab-df-convert {\n",
              "      background-color: #E8F0FE;\n",
              "      border: none;\n",
              "      border-radius: 50%;\n",
              "      cursor: pointer;\n",
              "      display: none;\n",
              "      fill: #1967D2;\n",
              "      height: 32px;\n",
              "      padding: 0 0 0 0;\n",
              "      width: 32px;\n",
              "    }\n",
              "\n",
              "    .colab-df-convert:hover {\n",
              "      background-color: #E2EBFA;\n",
              "      box-shadow: 0px 1px 2px rgba(60, 64, 67, 0.3), 0px 1px 3px 1px rgba(60, 64, 67, 0.15);\n",
              "      fill: #174EA6;\n",
              "    }\n",
              "\n",
              "    [theme=dark] .colab-df-convert {\n",
              "      background-color: #3B4455;\n",
              "      fill: #D2E3FC;\n",
              "    }\n",
              "\n",
              "    [theme=dark] .colab-df-convert:hover {\n",
              "      background-color: #434B5C;\n",
              "      box-shadow: 0px 1px 3px 1px rgba(0, 0, 0, 0.15);\n",
              "      filter: drop-shadow(0px 1px 2px rgba(0, 0, 0, 0.3));\n",
              "      fill: #FFFFFF;\n",
              "    }\n",
              "  </style>\n",
              "\n",
              "      <script>\n",
              "        const buttonEl =\n",
              "          document.querySelector('#df-de76473e-5b6d-4d73-ada3-49dcfc631845 button.colab-df-convert');\n",
              "        buttonEl.style.display =\n",
              "          google.colab.kernel.accessAllowed ? 'block' : 'none';\n",
              "\n",
              "        async function convertToInteractive(key) {\n",
              "          const element = document.querySelector('#df-de76473e-5b6d-4d73-ada3-49dcfc631845');\n",
              "          const dataTable =\n",
              "            await google.colab.kernel.invokeFunction('convertToInteractive',\n",
              "                                                     [key], {});\n",
              "          if (!dataTable) return;\n",
              "\n",
              "          const docLinkHtml = 'Like what you see? Visit the ' +\n",
              "            '<a target=\"_blank\" href=https://colab.research.google.com/notebooks/data_table.ipynb>data table notebook</a>'\n",
              "            + ' to learn more about interactive tables.';\n",
              "          element.innerHTML = '';\n",
              "          dataTable['output_type'] = 'display_data';\n",
              "          await google.colab.output.renderOutput(dataTable, element);\n",
              "          const docLink = document.createElement('div');\n",
              "          docLink.innerHTML = docLinkHtml;\n",
              "          element.appendChild(docLink);\n",
              "        }\n",
              "      </script>\n",
              "    </div>\n",
              "  </div>\n",
              "  "
            ]
          },
          "metadata": {},
          "execution_count": 244
        }
      ]
    },
    {
      "cell_type": "markdown",
      "source": [
        "# Data exploration"
      ],
      "metadata": {
        "id": "bpIEY_9dqjEF"
      }
    },
    {
      "cell_type": "code",
      "source": [
        "# to see whether there are some correlations, we can check before. I divide the data per descriptor to get a good view, otherwise the matrix will be too big. \n",
        "dataset_gender = dataset4[['gender_male', 'gender_female', 'gender_other', 'decision']].copy()\n",
        "dataset_age= dataset4[['age_21', 'age_22', 'age_23' , 'age_24', 'age_25', 'age_26', 'age_27', 'age_28', 'age_29', 'age_30', 'age_31', 'age_32', 'decision']].copy()\n",
        "dataset_sports = dataset4[['sport_Chess', 'sport_Cricket', 'sport_Football', 'sport_Rugby', 'sport_Running', 'sport_Swimming', 'sport_Tennis', 'decision']].copy()\n",
        "dataset_nationality = dataset4[['nationality_Belgian', 'nationality_Dutch', 'nationality_German', 'decision']].copy()"
      ],
      "metadata": {
        "id": "cBDcxoa3fhTG"
      },
      "execution_count": null,
      "outputs": []
    },
    {
      "cell_type": "code",
      "source": [
        "matrix = dataset_gender.corr()\n",
        "plt.figure(figsize=(5,5))\n",
        "sns.heatmap(matrix, annot=True, cmap=\"Oranges\", center=0)\n",
        "# not so much correlation, small correlation with males but really low\n",
        "\n",
        "matrix = dataset_age.corr()\n",
        "plt.figure(figsize=(7, 7))\n",
        "sns.heatmap(matrix, annot=True, cmap=\"Oranges\", center=0)\n",
        "# not so much correlation here as well. However if we split the age group in qyarters, we can see a little trend.\n",
        "# the youngest quarter has clearly a more negative correlation than the oldest quarter, but it is still very slightly. \n",
        "\n",
        "matrix = dataset_sports.corr()\n",
        "plt.figure(figsize=(5,5))\n",
        "sns.heatmap(matrix, annot=True, cmap=\"Oranges\", center=0)\n",
        "# rugby and football have some correlation. Can't really make a conclusion from there. \n",
        "\n",
        "matrix = dataset_nationality.corr()\n",
        "plt.figure(figsize=(5,5))\n",
        "sns.heatmap(matrix, annot=True, cmap=\"Oranges\", center=0)\n",
        "# here also very random. German some more correlation but very little. \n"
      ],
      "metadata": {
        "id": "H4ruPl_iiuDb",
        "colab": {
          "base_uri": "https://localhost:8080/",
          "height": 1000
        },
        "outputId": "d2e48d50-44c4-4004-9224-fce14bb8a014"
      },
      "execution_count": null,
      "outputs": [
        {
          "output_type": "execute_result",
          "data": {
            "text/plain": [
              "<matplotlib.axes._subplots.AxesSubplot at 0x7f9ee2293a90>"
            ]
          },
          "metadata": {},
          "execution_count": 246
        },
        {
          "output_type": "display_data",
          "data": {
            "text/plain": [
              "<Figure size 360x360 with 2 Axes>"
            ],
            "image/png": "[encoded data removed]"
          },
          "metadata": {
            "needs_background": "light"
          }
        },
        {
          "output_type": "display_data",
          "data": {
            "text/plain": [
              "<Figure size 504x504 with 2 Axes>"
            ],
            "image/png": "[encoded data removed]"
          },
          "metadata": {
            "needs_background": "light"
          }
        },
        {
          "output_type": "display_data",
          "data": {
            "text/plain": [
              "<Figure size 360x360 with 2 Axes>"
            ],
            "image/png": "[encoded data removed]"
          },
          "metadata": {
            "needs_background": "light"
          }
        },
        {
          "output_type": "display_data",
          "data": {
            "text/plain": [
              "<Figure size 360x360 with 2 Axes>"
            ],
            "image/png": "[encoded data removed]"
          },
          "metadata": {
            "needs_background": "light"
          }
        }
      ]
    },
    {
      "cell_type": "code",
      "source": [
        "# i want to make some further plots but i didn't succeed. Wanted to make some pie charts or histograms to see how many men and women were hired/ not hired\n",
        "# same goes for age, sports and nationality. So if any of you could help would be great @sarthak @harsh"
      ],
      "metadata": {
        "id": "siFd6_HJ_Eo8"
      },
      "execution_count": null,
      "outputs": []
    },
    {
      "cell_type": "markdown",
      "source": [
        "# Decision tree & random forest"
      ],
      "metadata": {
        "id": "qHJ5weYduO_q"
      }
    },
    {
      "cell_type": "code",
      "source": [
        "X = dataset4.drop('decision', axis = 1).values\n",
        "y = dataset4['decision'].values\n",
        "# Here I split the X and Y variable, where X are the features (descriptors) and Y is the decision\n",
        "# Here i split the the data in a training set and a test set. I used hold-out validation as i was familiar with that before. \n",
        "X_train, X_test, y_train, y_test = train_test_split(X, y, train_size= 0.8, test_size=0.2, random_state=0)"
      ],
      "metadata": {
        "id": "A4xpBBaqphPE"
      },
      "execution_count": null,
      "outputs": []
    },
    {
      "cell_type": "code",
      "source": [
        "dt = DecisionTreeClassifier(criterion='entropy', random_state=1, max_depth=4)\n",
        "dt.fit(X_train, y_train)\n",
        "# I added max_depth, as it was a very long tree first \n",
        "## i removed max_depth to increase the accuracy \n",
        "### max depth on 4 as that is the amount of descriptors"
      ],
      "metadata": {
        "id": "fEwz-2DEuTkY",
        "colab": {
          "base_uri": "https://localhost:8080/"
        },
        "outputId": "22ba9fa3-57c6-4f18-c133-c0687fd45124"
      },
      "execution_count": null,
      "outputs": [
        {
          "output_type": "execute_result",
          "data": {
            "text/plain": [
              "DecisionTreeClassifier(criterion='entropy', max_depth=4, random_state=1)"
            ]
          },
          "metadata": {},
          "execution_count": 249
        }
      ]
    },
    {
      "cell_type": "code",
      "source": [
        "# This is a visualization of the decision tree that is going to be used in the machine learning model\n",
        "# I added some fill and rounded the boxes to make them more visualizing appealing\n",
        "Data_Tree = tree.export_graphviz(dt, out_file=None,\n",
        "            feature_names=dataset4.drop('decision', axis=1).columns,\n",
        "            class_names=dataset4['decision'].unique().astype(str),\n",
        "            rounded=True, filled=True,\n",
        "            special_characters=True)\n",
        "graph = graphviz.Source(Data_Tree)\n",
        "graph"
      ],
      "metadata": {
        "id": "GP0K2Ipguzgh",
        "colab": {
          "base_uri": "https://localhost:8080/",
          "height": 777
        },
        "outputId": "b472d350-f77a-41de-a24e-8b88c3ed77e8"
      },
      "execution_count": null,
      "outputs": [
        {
          "output_type": "execute_result",
          "data": {
            "text/plain": [
              "<graphviz.files.Source at 0x7f9ee1938250>"
            ],
            "image/svg+xml": "<?xml version=\"1.0\" encoding=\"UTF-8\" standalone=\"no\"?>\n<!DOCTYPE svg PUBLIC \"-//W3C//DTD SVG 1.1//EN\"\n \"http://www.w3.org/Graphics/SVG/1.1/DTD/svg11.dtd\">\n<!-- Generated by graphviz version 2.40.1 (20161225.0304)\n -->\n<!-- Title: Tree Pages: 1 -->\n<svg width=\"1588pt\" height=\"552pt\"\n viewBox=\"0.00 0.00 1588.00 552.00\" xmlns=\"http://www.w3.org/2000/svg\" xmlns:xlink=\"http://www.w3.org/1999/xlink\">\n<g id=\"graph0\" class=\"graph\" transform=\"scale(1 1) rotate(0) translate(4 548)\">\n<title>Tree</title>\n<polygon fill=\"#ffffff\" stroke=\"transparent\" points=\"-4,4 -4,-548 1584,-548 1584,4 -4,4\"/>\n<!-- 0 -->\n<g id=\"node1\" class=\"node\">\n<title>0</title>\n<path fill=\"#f9e1cf\" stroke=\"#000000\" d=\"M1078.5,-544C1078.5,-544 967.5,-544 967.5,-544 961.5,-544 955.5,-538 955.5,-532 955.5,-532 955.5,-473 955.5,-473 955.5,-467 961.5,-461 967.5,-461 967.5,-461 1078.5,-461 1078.5,-461 1084.5,-461 1090.5,-467 1090.5,-473 1090.5,-473 1090.5,-532 1090.5,-532 1090.5,-538 1084.5,-544 1078.5,-544\"/>\n<text text-anchor=\"start\" x=\"963.5\" y=\"-528.8\" font-family=\"Helvetica,sans-Serif\" font-size=\"14.00\" fill=\"#000000\">sport_Rugby ≤ 0.5</text>\n<text text-anchor=\"start\" x=\"972\" y=\"-513.8\" font-family=\"Helvetica,sans-Serif\" font-size=\"14.00\" fill=\"#000000\">entropy = 0.986</text>\n<text text-anchor=\"start\" x=\"975\" y=\"-498.8\" font-family=\"Helvetica,sans-Serif\" font-size=\"14.00\" fill=\"#000000\">samples = 800</text>\n<text text-anchor=\"start\" x=\"965\" y=\"-483.8\" font-family=\"Helvetica,sans-Serif\" font-size=\"14.00\" fill=\"#000000\">value = [455, 345]</text>\n<text text-anchor=\"start\" x=\"994\" y=\"-468.8\" font-family=\"Helvetica,sans-Serif\" font-size=\"14.00\" fill=\"#000000\">class = 1</text>\n</g>\n<!-- 1 -->\n<g id=\"node2\" class=\"node\">\n<title>1</title>\n<path fill=\"#f7dac4\" stroke=\"#000000\" d=\"M862,-425C862,-425 754,-425 754,-425 748,-425 742,-419 742,-413 742,-413 742,-354 742,-354 742,-348 748,-342 754,-342 754,-342 862,-342 862,-342 868,-342 874,-348 874,-354 874,-354 874,-413 874,-413 874,-419 868,-425 862,-425\"/>\n<text text-anchor=\"start\" x=\"765.5\" y=\"-409.8\" font-family=\"Helvetica,sans-Serif\" font-size=\"14.00\" fill=\"#000000\">age_24 ≤ 0.5</text>\n<text text-anchor=\"start\" x=\"757\" y=\"-394.8\" font-family=\"Helvetica,sans-Serif\" font-size=\"14.00\" fill=\"#000000\">entropy = 0.978</text>\n<text text-anchor=\"start\" x=\"760\" y=\"-379.8\" font-family=\"Helvetica,sans-Serif\" font-size=\"14.00\" fill=\"#000000\">samples = 678</text>\n<text text-anchor=\"start\" x=\"750\" y=\"-364.8\" font-family=\"Helvetica,sans-Serif\" font-size=\"14.00\" fill=\"#000000\">value = [398, 280]</text>\n<text text-anchor=\"start\" x=\"779\" y=\"-349.8\" font-family=\"Helvetica,sans-Serif\" font-size=\"14.00\" fill=\"#000000\">class = 1</text>\n</g>\n<!-- 0&#45;&gt;1 -->\n<g id=\"edge1\" class=\"edge\">\n<title>0&#45;&gt;1</title>\n<path fill=\"none\" stroke=\"#000000\" d=\"M955.2678,-465.011C932.3475,-452.3249 906.6197,-438.0848 883.1581,-425.0991\"/>\n<polygon fill=\"#000000\" stroke=\"#000000\" points=\"884.732,-421.9699 874.2878,-420.1895 881.3421,-428.0944 884.732,-421.9699\"/>\n<text text-anchor=\"middle\" x=\"881.1938\" y=\"-440.5167\" font-family=\"Helvetica,sans-Serif\" font-size=\"14.00\" fill=\"#000000\">True</text>\n</g>\n<!-- 16 -->\n<g id=\"node17\" class=\"node\">\n<title>16</title>\n<path fill=\"#e7f3fc\" stroke=\"#000000\" d=\"M1235,-425C1235,-425 1141,-425 1141,-425 1135,-425 1129,-419 1129,-413 1129,-413 1129,-354 1129,-354 1129,-348 1135,-342 1141,-342 1141,-342 1235,-342 1235,-342 1241,-342 1247,-348 1247,-354 1247,-354 1247,-413 1247,-413 1247,-419 1241,-425 1235,-425\"/>\n<text text-anchor=\"start\" x=\"1145.5\" y=\"-409.8\" font-family=\"Helvetica,sans-Serif\" font-size=\"14.00\" fill=\"#000000\">age_31 ≤ 0.5</text>\n<text text-anchor=\"start\" x=\"1137\" y=\"-394.8\" font-family=\"Helvetica,sans-Serif\" font-size=\"14.00\" fill=\"#000000\">entropy = 0.997</text>\n<text text-anchor=\"start\" x=\"1140\" y=\"-379.8\" font-family=\"Helvetica,sans-Serif\" font-size=\"14.00\" fill=\"#000000\">samples = 122</text>\n<text text-anchor=\"start\" x=\"1138\" y=\"-364.8\" font-family=\"Helvetica,sans-Serif\" font-size=\"14.00\" fill=\"#000000\">value = [57, 65]</text>\n<text text-anchor=\"start\" x=\"1159\" y=\"-349.8\" font-family=\"Helvetica,sans-Serif\" font-size=\"14.00\" fill=\"#000000\">class = 0</text>\n</g>\n<!-- 0&#45;&gt;16 -->\n<g id=\"edge16\" class=\"edge\">\n<title>0&#45;&gt;16</title>\n<path fill=\"none\" stroke=\"#000000\" d=\"M1080.709,-460.8796C1094.023,-451.2774 1108.2866,-440.9903 1121.9259,-431.1534\"/>\n<polygon fill=\"#000000\" stroke=\"#000000\" points=\"1124.2602,-433.7852 1130.3236,-425.0969 1120.1655,-428.1077 1124.2602,-433.7852\"/>\n<text text-anchor=\"middle\" x=\"1126.3264\" y=\"-446.0753\" font-family=\"Helvetica,sans-Serif\" font-size=\"14.00\" fill=\"#000000\">False</text>\n</g>\n<!-- 2 -->\n<g id=\"node3\" class=\"node\">\n<title>2</title>\n<path fill=\"#f6d5bc\" stroke=\"#000000\" d=\"M486.5,-306C486.5,-306 363.5,-306 363.5,-306 357.5,-306 351.5,-300 351.5,-294 351.5,-294 351.5,-235 351.5,-235 351.5,-229 357.5,-223 363.5,-223 363.5,-223 486.5,-223 486.5,-223 492.5,-223 498.5,-229 498.5,-235 498.5,-235 498.5,-294 498.5,-294 498.5,-300 492.5,-306 486.5,-306\"/>\n<text text-anchor=\"start\" x=\"359.5\" y=\"-290.8\" font-family=\"Helvetica,sans-Serif\" font-size=\"14.00\" fill=\"#000000\">sport_Running ≤ 0.5</text>\n<text text-anchor=\"start\" x=\"378\" y=\"-275.8\" font-family=\"Helvetica,sans-Serif\" font-size=\"14.00\" fill=\"#000000\">entropy = 0.97</text>\n<text text-anchor=\"start\" x=\"377\" y=\"-260.8\" font-family=\"Helvetica,sans-Serif\" font-size=\"14.00\" fill=\"#000000\">samples = 609</text>\n<text text-anchor=\"start\" x=\"367\" y=\"-245.8\" font-family=\"Helvetica,sans-Serif\" font-size=\"14.00\" fill=\"#000000\">value = [366, 243]</text>\n<text text-anchor=\"start\" x=\"396\" y=\"-230.8\" font-family=\"Helvetica,sans-Serif\" font-size=\"14.00\" fill=\"#000000\">class = 1</text>\n</g>\n<!-- 1&#45;&gt;2 -->\n<g id=\"edge2\" class=\"edge\">\n<title>1&#45;&gt;2</title>\n<path fill=\"none\" stroke=\"#000000\" d=\"M741.7237,-362.9076C677.0049,-342.7992 578.3062,-312.133 508.3095,-290.3847\"/>\n<polygon fill=\"#000000\" stroke=\"#000000\" points=\"509.2179,-287.0019 498.6297,-287.3771 507.1409,-293.6867 509.2179,-287.0019\"/>\n</g>\n<!-- 9 -->\n<g id=\"node10\" class=\"node\">\n<title>9</title>\n<path fill=\"#e4f2fb\" stroke=\"#000000\" d=\"M868,-306C868,-306 748,-306 748,-306 742,-306 736,-300 736,-294 736,-294 736,-235 736,-235 736,-229 742,-223 748,-223 748,-223 868,-223 868,-223 874,-223 880,-229 880,-235 880,-235 880,-294 880,-294 880,-300 874,-306 868,-306\"/>\n<text text-anchor=\"start\" x=\"744\" y=\"-290.8\" font-family=\"Helvetica,sans-Serif\" font-size=\"14.00\" fill=\"#000000\">sport_Football ≤ 0.5</text>\n<text text-anchor=\"start\" x=\"757\" y=\"-275.8\" font-family=\"Helvetica,sans-Serif\" font-size=\"14.00\" fill=\"#000000\">entropy = 0.996</text>\n<text text-anchor=\"start\" x=\"764\" y=\"-260.8\" font-family=\"Helvetica,sans-Serif\" font-size=\"14.00\" fill=\"#000000\">samples = 69</text>\n<text text-anchor=\"start\" x=\"758\" y=\"-245.8\" font-family=\"Helvetica,sans-Serif\" font-size=\"14.00\" fill=\"#000000\">value = [32, 37]</text>\n<text text-anchor=\"start\" x=\"779\" y=\"-230.8\" font-family=\"Helvetica,sans-Serif\" font-size=\"14.00\" fill=\"#000000\">class = 0</text>\n</g>\n<!-- 1&#45;&gt;9 -->\n<g id=\"edge9\" class=\"edge\">\n<title>1&#45;&gt;9</title>\n<path fill=\"none\" stroke=\"#000000\" d=\"M808,-341.8796C808,-333.6838 808,-324.9891 808,-316.5013\"/>\n<polygon fill=\"#000000\" stroke=\"#000000\" points=\"811.5001,-316.298 808,-306.2981 804.5001,-316.2981 811.5001,-316.298\"/>\n</g>\n<!-- 3 -->\n<g id=\"node4\" class=\"node\">\n<title>3</title>\n<path fill=\"#f7d9c3\" stroke=\"#000000\" d=\"M272.5,-187C272.5,-187 159.5,-187 159.5,-187 153.5,-187 147.5,-181 147.5,-175 147.5,-175 147.5,-116 147.5,-116 147.5,-110 153.5,-104 159.5,-104 159.5,-104 272.5,-104 272.5,-104 278.5,-104 284.5,-110 284.5,-116 284.5,-116 284.5,-175 284.5,-175 284.5,-181 278.5,-187 272.5,-187\"/>\n<text text-anchor=\"start\" x=\"155.5\" y=\"-171.8\" font-family=\"Helvetica,sans-Serif\" font-size=\"14.00\" fill=\"#000000\">gender_male ≤ 0.5</text>\n<text text-anchor=\"start\" x=\"165\" y=\"-156.8\" font-family=\"Helvetica,sans-Serif\" font-size=\"14.00\" fill=\"#000000\">entropy = 0.977</text>\n<text text-anchor=\"start\" x=\"168\" y=\"-141.8\" font-family=\"Helvetica,sans-Serif\" font-size=\"14.00\" fill=\"#000000\">samples = 559</text>\n<text text-anchor=\"start\" x=\"158\" y=\"-126.8\" font-family=\"Helvetica,sans-Serif\" font-size=\"14.00\" fill=\"#000000\">value = [329, 230]</text>\n<text text-anchor=\"start\" x=\"187\" y=\"-111.8\" font-family=\"Helvetica,sans-Serif\" font-size=\"14.00\" fill=\"#000000\">class = 1</text>\n</g>\n<!-- 2&#45;&gt;3 -->\n<g id=\"edge3\" class=\"edge\">\n<title>2&#45;&gt;3</title>\n<path fill=\"none\" stroke=\"#000000\" d=\"M351.9019,-222.8796C333.1022,-212.1754 312.8077,-200.6201 293.7801,-189.7863\"/>\n<polygon fill=\"#000000\" stroke=\"#000000\" points=\"295.268,-186.6059 284.8461,-184.6995 291.8044,-192.689 295.268,-186.6059\"/>\n</g>\n<!-- 6 -->\n<g id=\"node7\" class=\"node\">\n<title>6</title>\n<path fill=\"#eead7f\" stroke=\"#000000\" d=\"M472,-187C472,-187 378,-187 378,-187 372,-187 366,-181 366,-175 366,-175 366,-116 366,-116 366,-110 372,-104 378,-104 378,-104 472,-104 472,-104 478,-104 484,-110 484,-116 484,-116 484,-175 484,-175 484,-181 478,-187 472,-187\"/>\n<text text-anchor=\"start\" x=\"382.5\" y=\"-171.8\" font-family=\"Helvetica,sans-Serif\" font-size=\"14.00\" fill=\"#000000\">age_26 ≤ 0.5</text>\n<text text-anchor=\"start\" x=\"374\" y=\"-156.8\" font-family=\"Helvetica,sans-Serif\" font-size=\"14.00\" fill=\"#000000\">entropy = 0.827</text>\n<text text-anchor=\"start\" x=\"381\" y=\"-141.8\" font-family=\"Helvetica,sans-Serif\" font-size=\"14.00\" fill=\"#000000\">samples = 50</text>\n<text text-anchor=\"start\" x=\"375\" y=\"-126.8\" font-family=\"Helvetica,sans-Serif\" font-size=\"14.00\" fill=\"#000000\">value = [37, 13]</text>\n<text text-anchor=\"start\" x=\"396\" y=\"-111.8\" font-family=\"Helvetica,sans-Serif\" font-size=\"14.00\" fill=\"#000000\">class = 1</text>\n</g>\n<!-- 2&#45;&gt;6 -->\n<g id=\"edge6\" class=\"edge\">\n<title>2&#45;&gt;6</title>\n<path fill=\"none\" stroke=\"#000000\" d=\"M425,-222.8796C425,-214.6838 425,-205.9891 425,-197.5013\"/>\n<polygon fill=\"#000000\" stroke=\"#000000\" points=\"428.5001,-197.298 425,-187.2981 421.5001,-197.2981 428.5001,-197.298\"/>\n</g>\n<!-- 4 -->\n<g id=\"node5\" class=\"node\">\n<title>4</title>\n<path fill=\"#f4ccaf\" stroke=\"#000000\" d=\"M120,-68C120,-68 12,-68 12,-68 6,-68 0,-62 0,-56 0,-56 0,-12 0,-12 0,-6 6,0 12,0 12,0 120,0 120,0 126,0 132,-6 132,-12 132,-12 132,-56 132,-56 132,-62 126,-68 120,-68\"/>\n<text text-anchor=\"start\" x=\"15\" y=\"-52.8\" font-family=\"Helvetica,sans-Serif\" font-size=\"14.00\" fill=\"#000000\">entropy = 0.953</text>\n<text text-anchor=\"start\" x=\"18\" y=\"-37.8\" font-family=\"Helvetica,sans-Serif\" font-size=\"14.00\" fill=\"#000000\">samples = 268</text>\n<text text-anchor=\"start\" x=\"8\" y=\"-22.8\" font-family=\"Helvetica,sans-Serif\" font-size=\"14.00\" fill=\"#000000\">value = [168, 100]</text>\n<text text-anchor=\"start\" x=\"37\" y=\"-7.8\" font-family=\"Helvetica,sans-Serif\" font-size=\"14.00\" fill=\"#000000\">class = 1</text>\n</g>\n<!-- 3&#45;&gt;4 -->\n<g id=\"edge4\" class=\"edge\">\n<title>3&#45;&gt;4</title>\n<path fill=\"none\" stroke=\"#000000\" d=\"M160.1455,-103.9815C147.1632,-94.3313 133.3606,-84.0714 120.4403,-74.4673\"/>\n<polygon fill=\"#000000\" stroke=\"#000000\" points=\"122.2083,-71.4204 112.0946,-68.2637 118.0322,-77.0384 122.2083,-71.4204\"/>\n</g>\n<!-- 5 -->\n<g id=\"node6\" class=\"node\">\n<title>5</title>\n<path fill=\"#fae7d9\" stroke=\"#000000\" d=\"M270,-68C270,-68 162,-68 162,-68 156,-68 150,-62 150,-56 150,-56 150,-12 150,-12 150,-6 156,0 162,0 162,0 270,0 270,0 276,0 282,-6 282,-12 282,-12 282,-56 282,-56 282,-62 276,-68 270,-68\"/>\n<text text-anchor=\"start\" x=\"165\" y=\"-52.8\" font-family=\"Helvetica,sans-Serif\" font-size=\"14.00\" fill=\"#000000\">entropy = 0.992</text>\n<text text-anchor=\"start\" x=\"168\" y=\"-37.8\" font-family=\"Helvetica,sans-Serif\" font-size=\"14.00\" fill=\"#000000\">samples = 291</text>\n<text text-anchor=\"start\" x=\"158\" y=\"-22.8\" font-family=\"Helvetica,sans-Serif\" font-size=\"14.00\" fill=\"#000000\">value = [161, 130]</text>\n<text text-anchor=\"start\" x=\"187\" y=\"-7.8\" font-family=\"Helvetica,sans-Serif\" font-size=\"14.00\" fill=\"#000000\">class = 1</text>\n</g>\n<!-- 3&#45;&gt;5 -->\n<g id=\"edge5\" class=\"edge\">\n<title>3&#45;&gt;5</title>\n<path fill=\"none\" stroke=\"#000000\" d=\"M216,-103.9815C216,-95.618 216,-86.7965 216,-78.3409\"/>\n<polygon fill=\"#000000\" stroke=\"#000000\" points=\"219.5001,-78.2636 216,-68.2637 212.5001,-78.2637 219.5001,-78.2636\"/>\n</g>\n<!-- 7 -->\n<g id=\"node8\" class=\"node\">\n<title>7</title>\n<path fill=\"#eca06a\" stroke=\"#000000\" d=\"M406,-68C406,-68 312,-68 312,-68 306,-68 300,-62 300,-56 300,-56 300,-12 300,-12 300,-6 306,0 312,0 312,0 406,0 406,0 412,0 418,-6 418,-12 418,-12 418,-56 418,-56 418,-62 412,-68 406,-68\"/>\n<text text-anchor=\"start\" x=\"308\" y=\"-52.8\" font-family=\"Helvetica,sans-Serif\" font-size=\"14.00\" fill=\"#000000\">entropy = 0.722</text>\n<text text-anchor=\"start\" x=\"315\" y=\"-37.8\" font-family=\"Helvetica,sans-Serif\" font-size=\"14.00\" fill=\"#000000\">samples = 40</text>\n<text text-anchor=\"start\" x=\"313.5\" y=\"-22.8\" font-family=\"Helvetica,sans-Serif\" font-size=\"14.00\" fill=\"#000000\">value = [32, 8]</text>\n<text text-anchor=\"start\" x=\"330\" y=\"-7.8\" font-family=\"Helvetica,sans-Serif\" font-size=\"14.00\" fill=\"#000000\">class = 1</text>\n</g>\n<!-- 6&#45;&gt;7 -->\n<g id=\"edge7\" class=\"edge\">\n<title>6&#45;&gt;7</title>\n<path fill=\"none\" stroke=\"#000000\" d=\"M400.424,-103.9815C395.2014,-95.1585 389.6771,-85.8258 384.4237,-76.9506\"/>\n<polygon fill=\"#000000\" stroke=\"#000000\" points=\"387.3874,-75.0863 379.2816,-68.2637 381.3636,-78.652 387.3874,-75.0863\"/>\n</g>\n<!-- 8 -->\n<g id=\"node9\" class=\"node\">\n<title>8</title>\n<path fill=\"#ffffff\" stroke=\"#000000\" d=\"M528,-68C528,-68 448,-68 448,-68 442,-68 436,-62 436,-56 436,-56 436,-12 436,-12 436,-6 442,0 448,0 448,0 528,0 528,0 534,0 540,-6 540,-12 540,-12 540,-56 540,-56 540,-62 534,-68 528,-68\"/>\n<text text-anchor=\"start\" x=\"445.5\" y=\"-52.8\" font-family=\"Helvetica,sans-Serif\" font-size=\"14.00\" fill=\"#000000\">entropy = 1.0</text>\n<text text-anchor=\"start\" x=\"444\" y=\"-37.8\" font-family=\"Helvetica,sans-Serif\" font-size=\"14.00\" fill=\"#000000\">samples = 10</text>\n<text text-anchor=\"start\" x=\"446.5\" y=\"-22.8\" font-family=\"Helvetica,sans-Serif\" font-size=\"14.00\" fill=\"#000000\">value = [5, 5]</text>\n<text text-anchor=\"start\" x=\"459\" y=\"-7.8\" font-family=\"Helvetica,sans-Serif\" font-size=\"14.00\" fill=\"#000000\">class = 1</text>\n</g>\n<!-- 6&#45;&gt;8 -->\n<g id=\"edge8\" class=\"edge\">\n<title>6&#45;&gt;8</title>\n<path fill=\"none\" stroke=\"#000000\" d=\"M448.4589,-103.9815C453.3922,-95.2504 458.6074,-86.0202 463.5752,-77.2281\"/>\n<polygon fill=\"#000000\" stroke=\"#000000\" points=\"466.7681,-78.6918 468.6403,-68.2637 460.6737,-75.2483 466.7681,-78.6918\"/>\n</g>\n<!-- 10 -->\n<g id=\"node11\" class=\"node\">\n<title>10</title>\n<path fill=\"#fbece1\" stroke=\"#000000\" d=\"M778.5,-187C778.5,-187 663.5,-187 663.5,-187 657.5,-187 651.5,-181 651.5,-175 651.5,-175 651.5,-116 651.5,-116 651.5,-110 657.5,-104 663.5,-104 663.5,-104 778.5,-104 778.5,-104 784.5,-104 790.5,-110 790.5,-116 790.5,-116 790.5,-175 790.5,-175 790.5,-181 784.5,-187 778.5,-187\"/>\n<text text-anchor=\"start\" x=\"659.5\" y=\"-171.8\" font-family=\"Helvetica,sans-Serif\" font-size=\"14.00\" fill=\"#000000\">gender_other ≤ 0.5</text>\n<text text-anchor=\"start\" x=\"670\" y=\"-156.8\" font-family=\"Helvetica,sans-Serif\" font-size=\"14.00\" fill=\"#000000\">entropy = 0.995</text>\n<text text-anchor=\"start\" x=\"677\" y=\"-141.8\" font-family=\"Helvetica,sans-Serif\" font-size=\"14.00\" fill=\"#000000\">samples = 48</text>\n<text text-anchor=\"start\" x=\"671\" y=\"-126.8\" font-family=\"Helvetica,sans-Serif\" font-size=\"14.00\" fill=\"#000000\">value = [26, 22]</text>\n<text text-anchor=\"start\" x=\"692\" y=\"-111.8\" font-family=\"Helvetica,sans-Serif\" font-size=\"14.00\" fill=\"#000000\">class = 1</text>\n</g>\n<!-- 9&#45;&gt;10 -->\n<g id=\"edge10\" class=\"edge\">\n<title>9&#45;&gt;10</title>\n<path fill=\"none\" stroke=\"#000000\" d=\"M777.5716,-222.8796C771.1189,-214.0534 764.243,-204.6485 757.5887,-195.5466\"/>\n<polygon fill=\"#000000\" stroke=\"#000000\" points=\"760.2856,-193.3051 751.5583,-187.2981 754.6347,-197.4364 760.2856,-193.3051\"/>\n</g>\n<!-- 13 -->\n<g id=\"node14\" class=\"node\">\n<title>13</title>\n<path fill=\"#88c4ef\" stroke=\"#000000\" d=\"M971,-187C971,-187 821,-187 821,-187 815,-187 809,-181 809,-175 809,-175 809,-116 809,-116 809,-110 815,-104 821,-104 821,-104 971,-104 971,-104 977,-104 983,-110 983,-116 983,-116 983,-175 983,-175 983,-181 977,-187 971,-187\"/>\n<text text-anchor=\"start\" x=\"817\" y=\"-171.8\" font-family=\"Helvetica,sans-Serif\" font-size=\"14.00\" fill=\"#000000\">nationality_Belgian ≤ 0.5</text>\n<text text-anchor=\"start\" x=\"845\" y=\"-156.8\" font-family=\"Helvetica,sans-Serif\" font-size=\"14.00\" fill=\"#000000\">entropy = 0.863</text>\n<text text-anchor=\"start\" x=\"852\" y=\"-141.8\" font-family=\"Helvetica,sans-Serif\" font-size=\"14.00\" fill=\"#000000\">samples = 21</text>\n<text text-anchor=\"start\" x=\"850.5\" y=\"-126.8\" font-family=\"Helvetica,sans-Serif\" font-size=\"14.00\" fill=\"#000000\">value = [6, 15]</text>\n<text text-anchor=\"start\" x=\"867\" y=\"-111.8\" font-family=\"Helvetica,sans-Serif\" font-size=\"14.00\" fill=\"#000000\">class = 0</text>\n</g>\n<!-- 9&#45;&gt;13 -->\n<g id=\"edge13\" class=\"edge\">\n<title>9&#45;&gt;13</title>\n<path fill=\"none\" stroke=\"#000000\" d=\"M838.7781,-222.8796C845.3051,-214.0534 852.2599,-204.6485 858.9908,-195.5466\"/>\n<polygon fill=\"#000000\" stroke=\"#000000\" points=\"861.9588,-197.4195 865.0905,-187.2981 856.3305,-193.2574 861.9588,-197.4195\"/>\n</g>\n<!-- 11 -->\n<g id=\"node12\" class=\"node\">\n<title>11</title>\n<path fill=\"#fae7d9\" stroke=\"#000000\" d=\"M664,-68C664,-68 570,-68 570,-68 564,-68 558,-62 558,-56 558,-56 558,-12 558,-12 558,-6 564,0 570,0 570,0 664,0 664,0 670,0 676,-6 676,-12 676,-12 676,-56 676,-56 676,-62 670,-68 664,-68\"/>\n<text text-anchor=\"start\" x=\"566\" y=\"-52.8\" font-family=\"Helvetica,sans-Serif\" font-size=\"14.00\" fill=\"#000000\">entropy = 0.992</text>\n<text text-anchor=\"start\" x=\"573\" y=\"-37.8\" font-family=\"Helvetica,sans-Serif\" font-size=\"14.00\" fill=\"#000000\">samples = 47</text>\n<text text-anchor=\"start\" x=\"567\" y=\"-22.8\" font-family=\"Helvetica,sans-Serif\" font-size=\"14.00\" fill=\"#000000\">value = [26, 21]</text>\n<text text-anchor=\"start\" x=\"588\" y=\"-7.8\" font-family=\"Helvetica,sans-Serif\" font-size=\"14.00\" fill=\"#000000\">class = 1</text>\n</g>\n<!-- 10&#45;&gt;11 -->\n<g id=\"edge11\" class=\"edge\">\n<title>10&#45;&gt;11</title>\n<path fill=\"none\" stroke=\"#000000\" d=\"M682.2742,-103.9815C673.7018,-94.7908 664.6135,-85.0472 656.029,-75.8436\"/>\n<polygon fill=\"#000000\" stroke=\"#000000\" points=\"658.3393,-73.1891 648.9589,-68.2637 653.2204,-77.9637 658.3393,-73.1891\"/>\n</g>\n<!-- 12 -->\n<g id=\"node13\" class=\"node\">\n<title>12</title>\n<path fill=\"#399de5\" stroke=\"#000000\" d=\"M783.5,-68C783.5,-68 706.5,-68 706.5,-68 700.5,-68 694.5,-62 694.5,-56 694.5,-56 694.5,-12 694.5,-12 694.5,-6 700.5,0 706.5,0 706.5,0 783.5,0 783.5,0 789.5,0 795.5,-6 795.5,-12 795.5,-12 795.5,-56 795.5,-56 795.5,-62 789.5,-68 783.5,-68\"/>\n<text text-anchor=\"start\" x=\"702.5\" y=\"-52.8\" font-family=\"Helvetica,sans-Serif\" font-size=\"14.00\" fill=\"#000000\">entropy = 0.0</text>\n<text text-anchor=\"start\" x=\"705.5\" y=\"-37.8\" font-family=\"Helvetica,sans-Serif\" font-size=\"14.00\" fill=\"#000000\">samples = 1</text>\n<text text-anchor=\"start\" x=\"703.5\" y=\"-22.8\" font-family=\"Helvetica,sans-Serif\" font-size=\"14.00\" fill=\"#000000\">value = [0, 1]</text>\n<text text-anchor=\"start\" x=\"716\" y=\"-7.8\" font-family=\"Helvetica,sans-Serif\" font-size=\"14.00\" fill=\"#000000\">class = 0</text>\n</g>\n<!-- 10&#45;&gt;12 -->\n<g id=\"edge12\" class=\"edge\">\n<title>10&#45;&gt;12</title>\n<path fill=\"none\" stroke=\"#000000\" d=\"M729.9367,-103.9815C731.7567,-95.5261 733.6775,-86.6026 735.5157,-78.0623\"/>\n<polygon fill=\"#000000\" stroke=\"#000000\" points=\"738.9421,-78.7763 737.6249,-68.2637 732.0989,-77.3032 738.9421,-78.7763\"/>\n</g>\n<!-- 14 -->\n<g id=\"node15\" class=\"node\">\n<title>14</title>\n<path fill=\"#9ccef2\" stroke=\"#000000\" d=\"M920,-68C920,-68 826,-68 826,-68 820,-68 814,-62 814,-56 814,-56 814,-12 814,-12 814,-6 820,0 826,0 826,0 920,0 920,0 926,0 932,-6 932,-12 932,-12 932,-56 932,-56 932,-62 926,-68 920,-68\"/>\n<text text-anchor=\"start\" x=\"822\" y=\"-52.8\" font-family=\"Helvetica,sans-Serif\" font-size=\"14.00\" fill=\"#000000\">entropy = 0.918</text>\n<text text-anchor=\"start\" x=\"829\" y=\"-37.8\" font-family=\"Helvetica,sans-Serif\" font-size=\"14.00\" fill=\"#000000\">samples = 18</text>\n<text text-anchor=\"start\" x=\"827.5\" y=\"-22.8\" font-family=\"Helvetica,sans-Serif\" font-size=\"14.00\" fill=\"#000000\">value = [6, 12]</text>\n<text text-anchor=\"start\" x=\"844\" y=\"-7.8\" font-family=\"Helvetica,sans-Serif\" font-size=\"14.00\" fill=\"#000000\">class = 0</text>\n</g>\n<!-- 13&#45;&gt;14 -->\n<g id=\"edge14\" class=\"edge\">\n<title>13&#45;&gt;14</title>\n<path fill=\"none\" stroke=\"#000000\" d=\"M887.4356,-103.9815C885.6915,-95.5261 883.8508,-86.6026 882.0891,-78.0623\"/>\n<polygon fill=\"#000000\" stroke=\"#000000\" points=\"885.516,-77.3504 880.0678,-68.2637 878.6603,-78.7646 885.516,-77.3504\"/>\n</g>\n<!-- 15 -->\n<g id=\"node16\" class=\"node\">\n<title>15</title>\n<path fill=\"#399de5\" stroke=\"#000000\" d=\"M1039.5,-68C1039.5,-68 962.5,-68 962.5,-68 956.5,-68 950.5,-62 950.5,-56 950.5,-56 950.5,-12 950.5,-12 950.5,-6 956.5,0 962.5,0 962.5,0 1039.5,0 1039.5,0 1045.5,0 1051.5,-6 1051.5,-12 1051.5,-12 1051.5,-56 1051.5,-56 1051.5,-62 1045.5,-68 1039.5,-68\"/>\n<text text-anchor=\"start\" x=\"958.5\" y=\"-52.8\" font-family=\"Helvetica,sans-Serif\" font-size=\"14.00\" fill=\"#000000\">entropy = 0.0</text>\n<text text-anchor=\"start\" x=\"961.5\" y=\"-37.8\" font-family=\"Helvetica,sans-Serif\" font-size=\"14.00\" fill=\"#000000\">samples = 3</text>\n<text text-anchor=\"start\" x=\"959.5\" y=\"-22.8\" font-family=\"Helvetica,sans-Serif\" font-size=\"14.00\" fill=\"#000000\">value = [0, 3]</text>\n<text text-anchor=\"start\" x=\"972\" y=\"-7.8\" font-family=\"Helvetica,sans-Serif\" font-size=\"14.00\" fill=\"#000000\">class = 0</text>\n</g>\n<!-- 13&#45;&gt;15 -->\n<g id=\"edge15\" class=\"edge\">\n<title>13&#45;&gt;15</title>\n<path fill=\"none\" stroke=\"#000000\" d=\"M935.0981,-103.9815C943.8396,-94.6989 953.1122,-84.8522 961.8556,-75.5677\"/>\n<polygon fill=\"#000000\" stroke=\"#000000\" points=\"964.4261,-77.9433 968.7338,-68.2637 959.33,-73.1443 964.4261,-77.9433\"/>\n</g>\n<!-- 17 -->\n<g id=\"node18\" class=\"node\">\n<title>17</title>\n<path fill=\"#d7ebfa\" stroke=\"#000000\" d=\"M1235,-306C1235,-306 1141,-306 1141,-306 1135,-306 1129,-300 1129,-294 1129,-294 1129,-235 1129,-235 1129,-229 1135,-223 1141,-223 1141,-223 1235,-223 1235,-223 1241,-223 1247,-229 1247,-235 1247,-235 1247,-294 1247,-294 1247,-300 1241,-306 1235,-306\"/>\n<text text-anchor=\"start\" x=\"1145.5\" y=\"-290.8\" font-family=\"Helvetica,sans-Serif\" font-size=\"14.00\" fill=\"#000000\">age_29 ≤ 0.5</text>\n<text text-anchor=\"start\" x=\"1137\" y=\"-275.8\" font-family=\"Helvetica,sans-Serif\" font-size=\"14.00\" fill=\"#000000\">entropy = 0.991</text>\n<text text-anchor=\"start\" x=\"1140\" y=\"-260.8\" font-family=\"Helvetica,sans-Serif\" font-size=\"14.00\" fill=\"#000000\">samples = 117</text>\n<text text-anchor=\"start\" x=\"1138\" y=\"-245.8\" font-family=\"Helvetica,sans-Serif\" font-size=\"14.00\" fill=\"#000000\">value = [52, 65]</text>\n<text text-anchor=\"start\" x=\"1159\" y=\"-230.8\" font-family=\"Helvetica,sans-Serif\" font-size=\"14.00\" fill=\"#000000\">class = 0</text>\n</g>\n<!-- 16&#45;&gt;17 -->\n<g id=\"edge17\" class=\"edge\">\n<title>16&#45;&gt;17</title>\n<path fill=\"none\" stroke=\"#000000\" d=\"M1188,-341.8796C1188,-333.6838 1188,-324.9891 1188,-316.5013\"/>\n<polygon fill=\"#000000\" stroke=\"#000000\" points=\"1191.5001,-316.298 1188,-306.2981 1184.5001,-316.2981 1191.5001,-316.298\"/>\n</g>\n<!-- 24 -->\n<g id=\"node25\" class=\"node\">\n<title>24</title>\n<path fill=\"#e58139\" stroke=\"#000000\" d=\"M1354.5,-298.5C1354.5,-298.5 1277.5,-298.5 1277.5,-298.5 1271.5,-298.5 1265.5,-292.5 1265.5,-286.5 1265.5,-286.5 1265.5,-242.5 1265.5,-242.5 1265.5,-236.5 1271.5,-230.5 1277.5,-230.5 1277.5,-230.5 1354.5,-230.5 1354.5,-230.5 1360.5,-230.5 1366.5,-236.5 1366.5,-242.5 1366.5,-242.5 1366.5,-286.5 1366.5,-286.5 1366.5,-292.5 1360.5,-298.5 1354.5,-298.5\"/>\n<text text-anchor=\"start\" x=\"1273.5\" y=\"-283.3\" font-family=\"Helvetica,sans-Serif\" font-size=\"14.00\" fill=\"#000000\">entropy = 0.0</text>\n<text text-anchor=\"start\" x=\"1276.5\" y=\"-268.3\" font-family=\"Helvetica,sans-Serif\" font-size=\"14.00\" fill=\"#000000\">samples = 5</text>\n<text text-anchor=\"start\" x=\"1274.5\" y=\"-253.3\" font-family=\"Helvetica,sans-Serif\" font-size=\"14.00\" fill=\"#000000\">value = [5, 0]</text>\n<text text-anchor=\"start\" x=\"1287\" y=\"-238.3\" font-family=\"Helvetica,sans-Serif\" font-size=\"14.00\" fill=\"#000000\">class = 1</text>\n</g>\n<!-- 16&#45;&gt;24 -->\n<g id=\"edge24\" class=\"edge\">\n<title>16&#45;&gt;24</title>\n<path fill=\"none\" stroke=\"#000000\" d=\"M1232.7682,-341.8796C1245.3056,-330.2237 1258.9284,-317.5587 1271.453,-305.9148\"/>\n<polygon fill=\"#000000\" stroke=\"#000000\" points=\"1274.1491,-308.1872 1279.0898,-298.8149 1269.3828,-303.0605 1274.1491,-308.1872\"/>\n</g>\n<!-- 18 -->\n<g id=\"node19\" class=\"node\">\n<title>18</title>\n<path fill=\"#bddef6\" stroke=\"#000000\" d=\"M1235,-187C1235,-187 1141,-187 1141,-187 1135,-187 1129,-181 1129,-175 1129,-175 1129,-116 1129,-116 1129,-110 1135,-104 1141,-104 1141,-104 1235,-104 1235,-104 1241,-104 1247,-110 1247,-116 1247,-116 1247,-175 1247,-175 1247,-181 1241,-187 1235,-187\"/>\n<text text-anchor=\"start\" x=\"1145.5\" y=\"-171.8\" font-family=\"Helvetica,sans-Serif\" font-size=\"14.00\" fill=\"#000000\">age_26 ≤ 0.5</text>\n<text text-anchor=\"start\" x=\"1137\" y=\"-156.8\" font-family=\"Helvetica,sans-Serif\" font-size=\"14.00\" fill=\"#000000\">entropy = 0.971</text>\n<text text-anchor=\"start\" x=\"1144\" y=\"-141.8\" font-family=\"Helvetica,sans-Serif\" font-size=\"14.00\" fill=\"#000000\">samples = 90</text>\n<text text-anchor=\"start\" x=\"1138\" y=\"-126.8\" font-family=\"Helvetica,sans-Serif\" font-size=\"14.00\" fill=\"#000000\">value = [36, 54]</text>\n<text text-anchor=\"start\" x=\"1159\" y=\"-111.8\" font-family=\"Helvetica,sans-Serif\" font-size=\"14.00\" fill=\"#000000\">class = 0</text>\n</g>\n<!-- 17&#45;&gt;18 -->\n<g id=\"edge18\" class=\"edge\">\n<title>17&#45;&gt;18</title>\n<path fill=\"none\" stroke=\"#000000\" d=\"M1188,-222.8796C1188,-214.6838 1188,-205.9891 1188,-197.5013\"/>\n<polygon fill=\"#000000\" stroke=\"#000000\" points=\"1191.5001,-197.298 1188,-187.2981 1184.5001,-197.2981 1191.5001,-197.298\"/>\n</g>\n<!-- 21 -->\n<g id=\"node22\" class=\"node\">\n<title>21</title>\n<path fill=\"#f7d8c1\" stroke=\"#000000\" d=\"M1449.5,-187C1449.5,-187 1336.5,-187 1336.5,-187 1330.5,-187 1324.5,-181 1324.5,-175 1324.5,-175 1324.5,-116 1324.5,-116 1324.5,-110 1330.5,-104 1336.5,-104 1336.5,-104 1449.5,-104 1449.5,-104 1455.5,-104 1461.5,-110 1461.5,-116 1461.5,-116 1461.5,-175 1461.5,-175 1461.5,-181 1455.5,-187 1449.5,-187\"/>\n<text text-anchor=\"start\" x=\"1332.5\" y=\"-171.8\" font-family=\"Helvetica,sans-Serif\" font-size=\"14.00\" fill=\"#000000\">gender_male ≤ 0.5</text>\n<text text-anchor=\"start\" x=\"1342\" y=\"-156.8\" font-family=\"Helvetica,sans-Serif\" font-size=\"14.00\" fill=\"#000000\">entropy = 0.975</text>\n<text text-anchor=\"start\" x=\"1349\" y=\"-141.8\" font-family=\"Helvetica,sans-Serif\" font-size=\"14.00\" fill=\"#000000\">samples = 27</text>\n<text text-anchor=\"start\" x=\"1343\" y=\"-126.8\" font-family=\"Helvetica,sans-Serif\" font-size=\"14.00\" fill=\"#000000\">value = [16, 11]</text>\n<text text-anchor=\"start\" x=\"1364\" y=\"-111.8\" font-family=\"Helvetica,sans-Serif\" font-size=\"14.00\" fill=\"#000000\">class = 1</text>\n</g>\n<!-- 17&#45;&gt;21 -->\n<g id=\"edge21\" class=\"edge\">\n<title>17&#45;&gt;21</title>\n<path fill=\"none\" stroke=\"#000000\" d=\"M1247.2685,-228.17C1250.2157,-226.4133 1253.1384,-224.682 1256,-223 1275.2039,-211.7124 1296.0686,-199.7554 1315.5893,-188.6997\"/>\n<polygon fill=\"#000000\" stroke=\"#000000\" points=\"1317.47,-191.6571 1324.4529,-183.6891 1314.0252,-185.5634 1317.47,-191.6571\"/>\n</g>\n<!-- 19 -->\n<g id=\"node20\" class=\"node\">\n<title>19</title>\n<path fill=\"#c9e4f8\" stroke=\"#000000\" d=\"M1176,-68C1176,-68 1082,-68 1082,-68 1076,-68 1070,-62 1070,-56 1070,-56 1070,-12 1070,-12 1070,-6 1076,0 1082,0 1082,0 1176,0 1176,0 1182,0 1188,-6 1188,-12 1188,-12 1188,-56 1188,-56 1188,-62 1182,-68 1176,-68\"/>\n<text text-anchor=\"start\" x=\"1078\" y=\"-52.8\" font-family=\"Helvetica,sans-Serif\" font-size=\"14.00\" fill=\"#000000\">entropy = 0.982</text>\n<text text-anchor=\"start\" x=\"1085\" y=\"-37.8\" font-family=\"Helvetica,sans-Serif\" font-size=\"14.00\" fill=\"#000000\">samples = 76</text>\n<text text-anchor=\"start\" x=\"1079\" y=\"-22.8\" font-family=\"Helvetica,sans-Serif\" font-size=\"14.00\" fill=\"#000000\">value = [32, 44]</text>\n<text text-anchor=\"start\" x=\"1100\" y=\"-7.8\" font-family=\"Helvetica,sans-Serif\" font-size=\"14.00\" fill=\"#000000\">class = 0</text>\n</g>\n<!-- 18&#45;&gt;19 -->\n<g id=\"edge19\" class=\"edge\">\n<title>18&#45;&gt;19</title>\n<path fill=\"none\" stroke=\"#000000\" d=\"M1166.0306,-103.9815C1161.4105,-95.2504 1156.5264,-86.0202 1151.874,-77.2281\"/>\n<polygon fill=\"#000000\" stroke=\"#000000\" points=\"1154.9013,-75.4655 1147.1306,-68.2637 1148.7141,-78.7395 1154.9013,-75.4655\"/>\n</g>\n<!-- 20 -->\n<g id=\"node21\" class=\"node\">\n<title>20</title>\n<path fill=\"#88c4ef\" stroke=\"#000000\" d=\"M1312,-68C1312,-68 1218,-68 1218,-68 1212,-68 1206,-62 1206,-56 1206,-56 1206,-12 1206,-12 1206,-6 1212,0 1218,0 1218,0 1312,0 1312,0 1318,0 1324,-6 1324,-12 1324,-12 1324,-56 1324,-56 1324,-62 1318,-68 1312,-68\"/>\n<text text-anchor=\"start\" x=\"1214\" y=\"-52.8\" font-family=\"Helvetica,sans-Serif\" font-size=\"14.00\" fill=\"#000000\">entropy = 0.863</text>\n<text text-anchor=\"start\" x=\"1221\" y=\"-37.8\" font-family=\"Helvetica,sans-Serif\" font-size=\"14.00\" fill=\"#000000\">samples = 14</text>\n<text text-anchor=\"start\" x=\"1219.5\" y=\"-22.8\" font-family=\"Helvetica,sans-Serif\" font-size=\"14.00\" fill=\"#000000\">value = [4, 10]</text>\n<text text-anchor=\"start\" x=\"1236\" y=\"-7.8\" font-family=\"Helvetica,sans-Serif\" font-size=\"14.00\" fill=\"#000000\">class = 0</text>\n</g>\n<!-- 18&#45;&gt;20 -->\n<g id=\"edge20\" class=\"edge\">\n<title>18&#45;&gt;20</title>\n<path fill=\"none\" stroke=\"#000000\" d=\"M1216.672,-103.9815C1222.8285,-95.0666 1229.3443,-85.6313 1235.5305,-76.6734\"/>\n<polygon fill=\"#000000\" stroke=\"#000000\" points=\"1238.5355,-78.4811 1241.3381,-68.2637 1232.7755,-74.5034 1238.5355,-78.4811\"/>\n</g>\n<!-- 22 -->\n<g id=\"node23\" class=\"node\">\n<title>22</title>\n<path fill=\"#e58139\" stroke=\"#000000\" d=\"M1431.5,-68C1431.5,-68 1354.5,-68 1354.5,-68 1348.5,-68 1342.5,-62 1342.5,-56 1342.5,-56 1342.5,-12 1342.5,-12 1342.5,-6 1348.5,0 1354.5,0 1354.5,0 1431.5,0 1431.5,0 1437.5,0 1443.5,-6 1443.5,-12 1443.5,-12 1443.5,-56 1443.5,-56 1443.5,-62 1437.5,-68 1431.5,-68\"/>\n<text text-anchor=\"start\" x=\"1350.5\" y=\"-52.8\" font-family=\"Helvetica,sans-Serif\" font-size=\"14.00\" fill=\"#000000\">entropy = 0.0</text>\n<text text-anchor=\"start\" x=\"1353.5\" y=\"-37.8\" font-family=\"Helvetica,sans-Serif\" font-size=\"14.00\" fill=\"#000000\">samples = 4</text>\n<text text-anchor=\"start\" x=\"1351.5\" y=\"-22.8\" font-family=\"Helvetica,sans-Serif\" font-size=\"14.00\" fill=\"#000000\">value = [4, 0]</text>\n<text text-anchor=\"start\" x=\"1364\" y=\"-7.8\" font-family=\"Helvetica,sans-Serif\" font-size=\"14.00\" fill=\"#000000\">class = 1</text>\n</g>\n<!-- 21&#45;&gt;22 -->\n<g id=\"edge22\" class=\"edge\">\n<title>21&#45;&gt;22</title>\n<path fill=\"none\" stroke=\"#000000\" d=\"M1393,-103.9815C1393,-95.618 1393,-86.7965 1393,-78.3409\"/>\n<polygon fill=\"#000000\" stroke=\"#000000\" points=\"1396.5001,-78.2636 1393,-68.2637 1389.5001,-78.2637 1396.5001,-78.2636\"/>\n</g>\n<!-- 23 -->\n<g id=\"node24\" class=\"node\">\n<title>23</title>\n<path fill=\"#fdf5ef\" stroke=\"#000000\" d=\"M1568,-68C1568,-68 1474,-68 1474,-68 1468,-68 1462,-62 1462,-56 1462,-56 1462,-12 1462,-12 1462,-6 1468,0 1474,0 1474,0 1568,0 1568,0 1574,0 1580,-6 1580,-12 1580,-12 1580,-56 1580,-56 1580,-62 1574,-68 1568,-68\"/>\n<text text-anchor=\"start\" x=\"1470\" y=\"-52.8\" font-family=\"Helvetica,sans-Serif\" font-size=\"14.00\" fill=\"#000000\">entropy = 0.999</text>\n<text text-anchor=\"start\" x=\"1477\" y=\"-37.8\" font-family=\"Helvetica,sans-Serif\" font-size=\"14.00\" fill=\"#000000\">samples = 23</text>\n<text text-anchor=\"start\" x=\"1471\" y=\"-22.8\" font-family=\"Helvetica,sans-Serif\" font-size=\"14.00\" fill=\"#000000\">value = [12, 11]</text>\n<text text-anchor=\"start\" x=\"1492\" y=\"-7.8\" font-family=\"Helvetica,sans-Serif\" font-size=\"14.00\" fill=\"#000000\">class = 1</text>\n</g>\n<!-- 21&#45;&gt;23 -->\n<g id=\"edge23\" class=\"edge\">\n<title>21&#45;&gt;23</title>\n<path fill=\"none\" stroke=\"#000000\" d=\"M1440.6625,-103.9815C1451.5297,-94.5151 1463.0705,-84.462 1473.9135,-75.0168\"/>\n<polygon fill=\"#000000\" stroke=\"#000000\" points=\"1476.4245,-77.4712 1481.6659,-68.2637 1471.8266,-72.1929 1476.4245,-77.4712\"/>\n</g>\n</g>\n</svg>\n"
          },
          "metadata": {},
          "execution_count": 250
        }
      ]
    },
    {
      "cell_type": "code",
      "source": [
        "# Calculating Feature importance, so we can see which descriptor has the highest influence on whether someone is hired or not \n",
        "for i, column in enumerate(dataset4.drop('decision', axis=1)):\n",
        "  print('Importance of feature {}:, {:.3f}'.format(column, dt.feature_importances_[i]))\n",
        "# Male, Rugby, and 31 years old are the biggest features that influence whether someone is hired or not. Could also be seen on the correlation matrix"
      ],
      "metadata": {
        "id": "NapXchzQ1Z0q",
        "colab": {
          "base_uri": "https://localhost:8080/"
        },
        "outputId": "69deacf1-f8e2-4bf1-9ad2-96e799c4723d"
      },
      "execution_count": null,
      "outputs": [
        {
          "output_type": "stream",
          "name": "stdout",
          "text": [
            "Importance of feature gender_female:, 0.000\n",
            "Importance of feature gender_male:, 0.169\n",
            "Importance of feature gender_other:, 0.034\n",
            "Importance of feature age_21:, 0.000\n",
            "Importance of feature age_22:, 0.000\n",
            "Importance of feature age_23:, 0.000\n",
            "Importance of feature age_24:, 0.102\n",
            "Importance of feature age_25:, 0.000\n",
            "Importance of feature age_26:, 0.094\n",
            "Importance of feature age_27:, 0.000\n",
            "Importance of feature age_28:, 0.000\n",
            "Importance of feature age_29:, 0.067\n",
            "Importance of feature age_30:, 0.000\n",
            "Importance of feature age_31:, 0.170\n",
            "Importance of feature age_32:, 0.000\n",
            "Importance of feature sport_Chess:, 0.000\n",
            "Importance of feature sport_Cricket:, 0.000\n",
            "Importance of feature sport_Football:, 0.086\n",
            "Importance of feature sport_Golf:, 0.000\n",
            "Importance of feature sport_Rugby:, 0.130\n",
            "Importance of feature sport_Running:, 0.100\n",
            "Importance of feature sport_Swimming:, 0.000\n",
            "Importance of feature sport_Tennis:, 0.000\n",
            "Importance of feature nationality_Belgian:, 0.048\n",
            "Importance of feature nationality_Dutch:, 0.000\n",
            "Importance of feature nationality_German:, 0.000\n"
          ]
        }
      ]
    },
    {
      "cell_type": "code",
      "source": [
        "# Now we are going to make this decision tree runmore than once by making a random forest \n",
        "rf = RandomForestClassifier (criterion='entropy', max_depth=5)\n",
        "rf.fit(X_train, y_train)\n",
        "prediction_test = rf.predict(X=X_test)\n",
        "\n",
        "# I was trying to find a optimum for the hyperparamter 'estimators', but i don't know if it's worth the time since \n",
        "# the data is not even useful for this model. "
      ],
      "metadata": {
        "id": "z0D5vovakoew"
      },
      "execution_count": null,
      "outputs": []
    },
    {
      "cell_type": "code",
      "source": [
        "new_data = company_A[0:200]\n",
        "y_csv = new_data['decision']\n",
        "id = new_data['Id']\n",
        "new_data = new_data[['gender', 'age', 'sport', 'nationality', 'decision','Id']]\n",
        "x_1 = pd.get_dummies(new_data, columns = ['gender', 'age', 'sport', 'nationality'])\n",
        "x_1 = x_1.drop(\"decision\",axis = 1)\n",
        "x_1 = x_1.drop(\"Id\",axis = 1)\n",
        "\n",
        "\n",
        "f = open('/content/Model2.csv', 'w')\n",
        "writer = csv.writer(f)\n",
        "writer.writerow(id)\n",
        "writer.writerow(rf.predict(x_1))\n",
        "writer.writerow(y_csv)\n",
        "f.close()\n"
      ],
      "metadata": {
        "colab": {
          "base_uri": "https://localhost:8080/"
        },
        "id": "4SRPHxnAeEpt",
        "outputId": "0fd865e2-20df-4c20-81d5-c14204920c51"
      },
      "execution_count": null,
      "outputs": [
        {
          "output_type": "stream",
          "name": "stderr",
          "text": [
            "/usr/local/lib/python3.7/dist-packages/sklearn/base.py:444: UserWarning: X has feature names, but RandomForestClassifier was fitted without feature names\n",
            "  f\"X has feature names, but {self.__class__.__name__} was fitted without\"\n"
          ]
        }
      ]
    },
    {
      "cell_type": "markdown",
      "source": [
        "# Evaluation of the Model"
      ],
      "metadata": {
        "id": "b0LER-g63xzR"
      }
    },
    {
      "cell_type": "code",
      "source": [
        "# For evaluation the Rf model we can check the acccuracy, recall, precision, F1 score and create a confusion matrix. \n",
        "print(\"Accuracy on training set\", rf.score(X_train, y_train))\n",
        "print(\"Accuracy on test set\", rf.score(X_test, y_test))\n",
        "# Accuracy on test set higher than training\n",
        "\n",
        "target_names = ['Not hired', 'Hired']\n",
        "print(classification_report(y_test, prediction_test, target_names = target_names))\n",
        "from sklearn.model_selection import cross_val_score\n",
        "import numpy as np\n",
        "cv_scores = cross_val_score(rf,X,y,cv = 10)*100\n",
        "print(cv_scores)\n",
        "print(np.mean(cv_scores))"
      ],
      "metadata": {
        "colab": {
          "base_uri": "https://localhost:8080/"
        },
        "id": "GjzuNfcKopU_",
        "outputId": "83047540-9ca9-484a-b6c4-adce191f6eec"
      },
      "execution_count": null,
      "outputs": [
        {
          "output_type": "stream",
          "name": "stdout",
          "text": [
            "Accuracy on training set 0.62125\n",
            "Accuracy on test set 0.57\n",
            "              precision    recall  f1-score   support\n",
            "\n",
            "   Not hired       0.60      0.84      0.70       121\n",
            "       Hired       0.39      0.15      0.22        79\n",
            "\n",
            "    accuracy                           0.57       200\n",
            "   macro avg       0.50      0.50      0.46       200\n",
            "weighted avg       0.52      0.57      0.51       200\n",
            "\n",
            "[56. 58. 57. 55. 55. 58. 55. 54. 59. 59.]\n",
            "56.6\n"
          ]
        }
      ]
    },
    {
      "cell_type": "code",
      "source": [
        " def plot_confusion_matrix(cm, classes=None, title='Confusion matrix'):\n",
        "  \"\"\"Plots a confusion matrix.\"\"\"\n",
        "  if classes is not None:\n",
        "    sns.heatmap(cm, xticklabels=classes, yticklabels=classes, vmin=0., vmax=1., annot=True, annot_kws={'size':50})\n",
        "  else:\n",
        "      sns.heatmap(cm, vmin=0., vmax=1.,)\n",
        "      plt.title(title)\n",
        "      plt.ylabel('True label')\n",
        "      plt.xlabel('Predicted label')\n",
        "\n",
        "y_pred= rf.predict(X_train)\n",
        "\n",
        "cm = confusion_matrix(y_train, y_pred)\n",
        "cm_norm = cm/cm.sum(axis=1)[:, np.newaxis]\n",
        "plt.figure()\n",
        "plot_confusion_matrix(cm_norm, classes=dt.classes_, title='Training confusion')\n",
        "# the model can predict the ones who get NOT hired (0,0) very well, but has issues in recognizing who gets hired"
      ],
      "metadata": {
        "id": "wfQ0FXTX82vE",
        "colab": {
          "base_uri": "https://localhost:8080/",
          "height": 269
        },
        "outputId": "adc564fe-075f-4b5f-c052-5352903d76d7"
      },
      "execution_count": null,
      "outputs": [
        {
          "output_type": "display_data",
          "data": {
            "text/plain": [
              "<Figure size 432x288 with 2 Axes>"
            ],
            "image/png": "[encoded data removed]"
          },
          "metadata": {
            "needs_background": "light"
          }
        }
      ]
    },
    {
      "cell_type": "markdown",
      "source": [
        "# divide on age intervals, gender and nationality (not relevant)\n",
        "\n"
      ],
      "metadata": {
        "id": "FKRaJ5IO1jf0"
      }
    },
    {
      "cell_type": "markdown",
      "source": [
        "## Data splitting and preparing "
      ],
      "metadata": {
        "id": "7LN8Y5P3aI96"
      }
    },
    {
      "cell_type": "code",
      "source": [
        "# Here the data is filtered in several sets of the descriptors. Now we are going to test this and if there \n",
        "# is a higher accuracy or better F1 score, it suggests that there is a certain pattern. \n",
        "age_quarter1 = dataset4[(dataset4[\"age_21\"] == 1) | (dataset4[\"age_22\"] == 1) | (dataset4[\"age_23\"] == 1)].drop([\"age_24\", \"age_25\", \"age_26\",\"age_27\", \"age_28\", \"age_29\",\"age_30\", \"age_31\",\"age_32\"], axis=1)\n",
        "age_quarter2 = dataset4[(dataset4[\"age_24\"] == 1) | (dataset4[\"age_25\"] == 1) | (dataset4[\"age_26\"] == 1)].drop([\"age_21\", \"age_22\", \"age_23\",\"age_27\", \"age_28\", \"age_29\",\"age_30\", \"age_31\",\"age_32\"], axis=1)\n",
        "age_quarter3 = dataset4[(dataset4[\"age_27\"] == 1) | (dataset4[\"age_28\"] == 1) | (dataset4[\"age_29\"] == 1)].drop([\"age_24\", \"age_25\", \"age_26\",\"age_21\", \"age_22\", \"age_23\",\"age_30\", \"age_31\",\"age_32\"], axis=1)\n",
        "age_quarter4 = dataset4[(dataset4[\"age_30\"] == 1) | (dataset4[\"age_31\"] == 1) | (dataset4[\"age_32\"] == 1)].drop([\"age_24\", \"age_25\", \"age_26\",\"age_27\", \"age_28\", \"age_29\",\"age_21\", \"age_22\",\"age_23\"], axis=1)\n",
        "data_gen = dataset4[['gender_male', 'gender_female', 'gender_other', 'decision']]\n",
        "gender_male = dataset4[dataset4[\"gender_male\"]==1].drop([\"gender_female\", \"gender_other\"], axis=1)\n",
        "gender_female = dataset4[dataset4[\"gender_female\"]==1].drop ([\"gender_male\", \"gender_other\"], axis=1)\n",
        "gender_others = dataset4[dataset4[\"gender_other\"]==1].drop([\"gender_male\", \"gender_female\"], axis=1)\n",
        "data_nat = dataset4[['nationality_Belgian', 'nationality_Dutch', 'nationality_German', 'decision']]\n",
        "nationality_dutch = dataset4[dataset4[\"nationality_Dutch\"]==1].drop ([\"nationality_Belgian\", \"nationality_German\"], axis=1)\n",
        "nationality_belgian = dataset4[dataset4[\"nationality_Belgian\"] == 1].drop ([\"nationality_Dutch\", \"nationality_German\"], axis=1)\n",
        "nationality_german = dataset4[dataset4[\"nationality_German\"] == 1].drop ([\"nationality_Belgian\", \"nationality_Dutch\"], axis=1)"
      ],
      "metadata": {
        "id": "bTocqdHUHuuj"
      },
      "execution_count": null,
      "outputs": []
    },
    {
      "cell_type": "code",
      "source": [
        "# defining X and y values for each seperate dataset, splitted by \n",
        "X1 = age_quarter1.drop('decision', axis = 1).values\n",
        "y1 = age_quarter1['decision'].values\n",
        "\n",
        "X2 = age_quarter2.drop('decision', axis = 1).values\n",
        "y2 = age_quarter2['decision'].values\n",
        "\n",
        "X3 = age_quarter3.drop('decision', axis = 1).values\n",
        "y3 = age_quarter3['decision'].values\n",
        "\n",
        "X4 = age_quarter4.drop('decision', axis = 1).values\n",
        "y4 = age_quarter4['decision'].values\n",
        "\n",
        "X_gen = data_gen.drop('decision', axis = 1).values\n",
        "y_gen = data_gen['decision'].values\n",
        "\n",
        "X_male = gender_male.drop('decision', axis = 1).values\n",
        "y_male = gender_male['decision'].values\n",
        "\n",
        "X_female = gender_female.drop('decision', axis = 1).values\n",
        "y_female = gender_female['decision'].values\n",
        "\n",
        "X_others = gender_others.drop('decision', axis = 1).values\n",
        "y_others = gender_others['decision'].values\n",
        "\n",
        "X_nat = data_nat.drop('decision', axis = 1).values\n",
        "y_nat = data_nat['decision'].values\n",
        "\n",
        "X_dutch = nationality_dutch.drop('decision', axis = 1).values\n",
        "y_dutch = nationality_dutch['decision'].values\n",
        "\n",
        "X_belgian = nationality_belgian.drop('decision', axis = 1).values\n",
        "y_belgian = nationality_belgian['decision'].values\n",
        "\n",
        "X_german = nationality_german.drop('decision', axis = 1).values\n",
        "y_german = nationality_german['decision'].values"
      ],
      "metadata": {
        "id": "w7_ZkqtZOKPo"
      },
      "execution_count": null,
      "outputs": []
    },
    {
      "cell_type": "code",
      "source": [
        "X_train1, X_test1, y_train1, y_test1 = train_test_split(X1, y1, train_size= 0.8, test_size=0.2, random_state=0)\n",
        "\n",
        "X_train2, X_test2, y_train2, y_test2 = train_test_split(X2, y2, train_size= 0.8, test_size=0.2, random_state=0)\n",
        "\n",
        "X_train3, X_test3, y_train3, y_test3 = train_test_split(X3, y3, train_size= 0.8, test_size=0.2, random_state=0)\n",
        "\n",
        "X_train4, X_test4, y_train4, y_test4 = train_test_split(X4, y4, train_size= 0.8, test_size=0.2, random_state=0)\n",
        "\n",
        "X_train_gen, X_test_gen, y_train_gen, y_test_gen = train_test_split(X_gen, y_gen, train_size= 0.8, test_size=0.2, random_state=0)\n",
        "\n",
        "X_train_male, X_test_male, y_train_male, y_test_male = train_test_split(X_male, y_male, train_size= 0.8, test_size=0.2, random_state=0)\n",
        "\n",
        "X_train_female, X_test_female, y_train_female, y_test_female = train_test_split(X_female, y_female, train_size= 0.8, test_size=0.2, random_state=0)\n",
        "\n",
        "X_train_others, X_test_others, y_train_others, y_test_others = train_test_split(X_others, y_others, train_size= 0.8, test_size=0.2, random_state=0)\n",
        "\n",
        "X_train_nat, X_test_nat, y_train_nat, y_test_nat = train_test_split(X_nat, y_nat, train_size= 0.8, test_size=0.2, random_state=0)\n",
        "\n",
        "X_train_dutch, X_test_dutch, y_train_dutch, y_test_dutch = train_test_split(X_dutch, y_dutch, train_size= 0.8, test_size=0.2, random_state=0)\n",
        "\n",
        "X_train_belgian, X_test_belgian, y_train_belgian, y_test_belgian = train_test_split(X_belgian, y_belgian, train_size= 0.8, test_size=0.2, random_state=0)\n",
        "\n",
        "X_train_german, X_test_german, y_train_german, y_test_german = train_test_split(X_german, y_german, train_size= 0.8, test_size=0.2, random_state=0)"
      ],
      "metadata": {
        "id": "2mqpCY4kO1-9"
      },
      "execution_count": null,
      "outputs": []
    },
    {
      "cell_type": "markdown",
      "source": [
        "## RF age interval 1\n"
      ],
      "metadata": {
        "id": "WkEwkow6b1J3"
      }
    },
    {
      "cell_type": "code",
      "source": [
        "rf1 = RandomForestClassifier(criterion='entropy', max_depth=4)\n",
        "rf1.fit(X_train1, y_train1)\n",
        "prediction_test1 = rf1.predict(X=X_test1)\n",
        "print(\"Accuracy on testing\", rf1.score(X_test1, y_test1))\n",
        "\n",
        "print(classification_report(y_test1, prediction_test1, target_names = target_names))\n",
        "\n",
        "cm = confusion_matrix(y_test1, prediction_test1)\n",
        "cm_norm = cm/cm.sum(axis=1)[:, np.newaxis]\n",
        "plt.figure()\n",
        "plot_confusion_matrix(cm_norm, classes=rf.classes_)\n",
        "\n",
        "# wow pretty high"
      ],
      "metadata": {
        "colab": {
          "base_uri": "https://localhost:8080/",
          "height": 561
        },
        "id": "RRAgt7WXPNz-",
        "outputId": "c7e4e465-2c74-427f-e0c8-724121293f5a"
      },
      "execution_count": null,
      "outputs": [
        {
          "output_type": "stream",
          "name": "stdout",
          "text": [
            "Accuracy on testing 0.8421052631578947\n",
            "              precision    recall  f1-score   support\n",
            "\n",
            "   Not hired       0.84      1.00      0.91        32\n",
            "       Hired       0.00      0.00      0.00         6\n",
            "\n",
            "    accuracy                           0.84        38\n",
            "   macro avg       0.42      0.50      0.46        38\n",
            "weighted avg       0.71      0.84      0.77        38\n",
            "\n"
          ]
        },
        {
          "output_type": "stream",
          "name": "stderr",
          "text": [
            "/usr/local/lib/python3.7/dist-packages/sklearn/metrics/_classification.py:1318: UndefinedMetricWarning: Precision and F-score are ill-defined and being set to 0.0 in labels with no predicted samples. Use `zero_division` parameter to control this behavior.\n",
            "  _warn_prf(average, modifier, msg_start, len(result))\n",
            "/usr/local/lib/python3.7/dist-packages/sklearn/metrics/_classification.py:1318: UndefinedMetricWarning: Precision and F-score are ill-defined and being set to 0.0 in labels with no predicted samples. Use `zero_division` parameter to control this behavior.\n",
            "  _warn_prf(average, modifier, msg_start, len(result))\n",
            "/usr/local/lib/python3.7/dist-packages/sklearn/metrics/_classification.py:1318: UndefinedMetricWarning: Precision and F-score are ill-defined and being set to 0.0 in labels with no predicted samples. Use `zero_division` parameter to control this behavior.\n",
            "  _warn_prf(average, modifier, msg_start, len(result))\n"
          ]
        },
        {
          "output_type": "display_data",
          "data": {
            "text/plain": [
              "<Figure size 432x288 with 2 Axes>"
            ],
            "image/png": "[encoded data removed]"
          },
          "metadata": {
            "needs_background": "light"
          }
        }
      ]
    },
    {
      "cell_type": "markdown",
      "source": [
        "## RF age interval 2\n"
      ],
      "metadata": {
        "id": "_3tw-Z5Jb80o"
      }
    },
    {
      "cell_type": "code",
      "source": [
        "rf2 = RandomForestClassifier(criterion='entropy', max_depth=4)\n",
        "rf2.fit(X_train2, y_train2)\n",
        "prediction_test2 = rf2.predict(X=X_test2)\n",
        "\n",
        "print(\"Accuracy on testing\", rf2.score(X_test2, y_test2))\n",
        "\n",
        "print(classification_report(y_test2, prediction_test2, target_names = target_names))\n",
        "\n",
        "cm = confusion_matrix(y_test2, prediction_test2)\n",
        "cm_norm = cm/cm.sum(axis=1)[:, np.newaxis]\n",
        "plt.figure()\n",
        "plot_confusion_matrix(cm_norm, classes=rf.classes_)"
      ],
      "metadata": {
        "colab": {
          "base_uri": "https://localhost:8080/",
          "height": 439
        },
        "id": "mJrcpDDdUr6M",
        "outputId": "6d7bf0d2-6880-4fbb-9fcb-021ab3a141c2"
      },
      "execution_count": null,
      "outputs": [
        {
          "output_type": "stream",
          "name": "stdout",
          "text": [
            "Accuracy on testing 0.4492753623188406\n",
            "              precision    recall  f1-score   support\n",
            "\n",
            "   Not hired       0.45      0.76      0.57        33\n",
            "       Hired       0.43      0.17      0.24        36\n",
            "\n",
            "    accuracy                           0.45        69\n",
            "   macro avg       0.44      0.46      0.40        69\n",
            "weighted avg       0.44      0.45      0.40        69\n",
            "\n"
          ]
        },
        {
          "output_type": "display_data",
          "data": {
            "text/plain": [
              "<Figure size 432x288 with 2 Axes>"
            ],
            "image/png": "[encoded data removed]"
          },
          "metadata": {
            "needs_background": "light"
          }
        }
      ]
    },
    {
      "cell_type": "markdown",
      "source": [
        "## RF age interval 3"
      ],
      "metadata": {
        "id": "L08oclIEcW1h"
      }
    },
    {
      "cell_type": "code",
      "source": [
        "rf3 = RandomForestClassifier(criterion='entropy', max_depth=4)\n",
        "rf3.fit(X_train3, y_train3)\n",
        "prediction_test3 = rf3.predict(X=X_test3)\n",
        "print(\"Accuracy on testing\", rf3.score(X_test3, y_test3))\n",
        "print(classification_report(y_test3, prediction_test3, target_names = target_names))\n",
        "\n",
        "cm = confusion_matrix(y_test3, prediction_test3)\n",
        "cm_norm = cm/cm.sum(axis=1)[:, np.newaxis]\n",
        "plt.figure()\n",
        "plot_confusion_matrix(cm_norm, classes=rf.classes_)"
      ],
      "metadata": {
        "colab": {
          "base_uri": "https://localhost:8080/",
          "height": 439
        },
        "id": "HW5Lov3XUtTS",
        "outputId": "eb80b484-01bc-4a71-af97-53d054dfa925"
      },
      "execution_count": null,
      "outputs": [
        {
          "output_type": "stream",
          "name": "stdout",
          "text": [
            "Accuracy on testing 0.5277777777777778\n",
            "              precision    recall  f1-score   support\n",
            "\n",
            "   Not hired       0.55      0.80      0.65        40\n",
            "       Hired       0.43      0.19      0.26        32\n",
            "\n",
            "    accuracy                           0.53        72\n",
            "   macro avg       0.49      0.49      0.46        72\n",
            "weighted avg       0.50      0.53      0.48        72\n",
            "\n"
          ]
        },
        {
          "output_type": "display_data",
          "data": {
            "text/plain": [
              "<Figure size 432x288 with 2 Axes>"
            ],
            "image/png": "[encoded data removed]"
          },
          "metadata": {
            "needs_background": "light"
          }
        }
      ]
    },
    {
      "cell_type": "markdown",
      "source": [
        "## RF age interval 4"
      ],
      "metadata": {
        "id": "Dr7r5H5KcadZ"
      }
    },
    {
      "cell_type": "code",
      "source": [
        "rf4 = RandomForestClassifier(criterion='entropy', max_depth=4)\n",
        "rf4.fit(X_train4, y_train4)\n",
        "prediction_test4 = rf4.predict(X=X_test4)\n",
        "print(\"Accuracy on testing\", rf4.score(X_test4, y_test4))\n",
        "print(classification_report(y_test4, prediction_test4, target_names = target_names))\n",
        "\n",
        "cm = confusion_matrix(y_test4, prediction_test4)\n",
        "cm_norm = cm/cm.sum(axis=1)[:, np.newaxis]\n",
        "plt.figure()\n",
        "plot_confusion_matrix(cm_norm, classes=rf.classes_)"
      ],
      "metadata": {
        "colab": {
          "base_uri": "https://localhost:8080/",
          "height": 439
        },
        "id": "VbwnQMggUu5D",
        "outputId": "b9c63540-8d88-41fc-a620-579e7f211a0f"
      },
      "execution_count": null,
      "outputs": [
        {
          "output_type": "stream",
          "name": "stdout",
          "text": [
            "Accuracy on testing 0.4782608695652174\n",
            "              precision    recall  f1-score   support\n",
            "\n",
            "   Not hired       0.50      0.58      0.54        12\n",
            "       Hired       0.44      0.36      0.40        11\n",
            "\n",
            "    accuracy                           0.48        23\n",
            "   macro avg       0.47      0.47      0.47        23\n",
            "weighted avg       0.47      0.48      0.47        23\n",
            "\n"
          ]
        },
        {
          "output_type": "display_data",
          "data": {
            "text/plain": [
              "<Figure size 432x288 with 2 Axes>"
            ],
            "image/png": "[encoded data removed]"
          },
          "metadata": {
            "needs_background": "light"
          }
        }
      ]
    },
    {
      "cell_type": "markdown",
      "source": [
        "## gender male"
      ],
      "metadata": {
        "id": "sYsAyccL19eS"
      }
    },
    {
      "cell_type": "code",
      "source": [
        "rf_male = RandomForestClassifier(criterion='entropy', max_depth=4)\n",
        "rf_male.fit(X_train_male, y_train_male)\n",
        "prediction_test_male = rf_male.predict(X=X_test_male)\n",
        "print(\"accuracy on testing\", rf_male.score(X_test_male, y_test_male))\n",
        "print(classification_report(y_test_male, prediction_test_male, target_names = target_names))\n",
        "\n",
        "cm = confusion_matrix(y_test_male, prediction_test_male)\n",
        "cm_norm = cm/cm.sum(axis=1)[:, np.newaxis]\n",
        "plt.figure()\n",
        "plot_confusion_matrix(cm_norm, classes=rf.classes_)"
      ],
      "metadata": {
        "colab": {
          "base_uri": "https://localhost:8080/",
          "height": 439
        },
        "id": "AYg1mHSk2HEf",
        "outputId": "5fd848e2-9346-46a9-aa53-d0f8bf331bfa"
      },
      "execution_count": null,
      "outputs": [
        {
          "output_type": "stream",
          "name": "stdout",
          "text": [
            "accuracy on testing 0.48623853211009177\n",
            "              precision    recall  f1-score   support\n",
            "\n",
            "   Not hired       0.49      0.87      0.63        54\n",
            "       Hired       0.46      0.11      0.18        55\n",
            "\n",
            "    accuracy                           0.49       109\n",
            "   macro avg       0.48      0.49      0.40       109\n",
            "weighted avg       0.48      0.49      0.40       109\n",
            "\n"
          ]
        },
        {
          "output_type": "display_data",
          "data": {
            "text/plain": [
              "<Figure size 432x288 with 2 Axes>"
            ],
            "image/png": "[encoded data removed]"
          },
          "metadata": {
            "needs_background": "light"
          }
        }
      ]
    },
    {
      "cell_type": "markdown",
      "source": [
        "## gender female"
      ],
      "metadata": {
        "id": "zcMTKdpkgons"
      }
    },
    {
      "cell_type": "code",
      "source": [
        "rf_female = RandomForestClassifier(criterion='entropy', max_depth=4)\n",
        "rf_female.fit(X_train_female, y_train_female)\n",
        "prediction_test_female = rf_female.predict(X=X_test_female)\n",
        "print(\"accuracy on testing\", rf_female.score(X_test_female, y_test_female))\n",
        "print(classification_report(y_test_female, prediction_test_female, target_names = target_names))\n",
        "\n",
        "cm = confusion_matrix(y_test_female, prediction_test_female)\n",
        "cm_norm = cm/cm.sum(axis=1)[:, np.newaxis]\n",
        "plt.figure()\n",
        "plot_confusion_matrix(cm_norm, classes=rf.classes_)"
      ],
      "metadata": {
        "colab": {
          "base_uri": "https://localhost:8080/",
          "height": 439
        },
        "id": "Qo_ksrNjgqiB",
        "outputId": "11d111d4-48a8-45f2-d8e6-4c05c4491cb3"
      },
      "execution_count": null,
      "outputs": [
        {
          "output_type": "stream",
          "name": "stdout",
          "text": [
            "accuracy on testing 0.6067415730337079\n",
            "              precision    recall  f1-score   support\n",
            "\n",
            "   Not hired       0.60      0.98      0.75        53\n",
            "       Hired       0.67      0.06      0.10        36\n",
            "\n",
            "    accuracy                           0.61        89\n",
            "   macro avg       0.64      0.52      0.43        89\n",
            "weighted avg       0.63      0.61      0.49        89\n",
            "\n"
          ]
        },
        {
          "output_type": "display_data",
          "data": {
            "text/plain": [
              "<Figure size 432x288 with 2 Axes>"
            ],
            "image/png": "[encoded data removed]"
          },
          "metadata": {
            "needs_background": "light"
          }
        }
      ]
    },
    {
      "cell_type": "markdown",
      "source": [
        "## gender others"
      ],
      "metadata": {
        "id": "M6rZjjNkg1Uq"
      }
    },
    {
      "cell_type": "code",
      "source": [
        "rf_others = RandomForestClassifier(criterion='entropy', max_depth=4)\n",
        "rf_others.fit(X_train_others, y_train_others)\n",
        "prediction_test_others = rf_others.predict(X=X_test_others)\n",
        "print(\"accuracy on testing\", rf_others.score(X_test_others, y_test_others))\n",
        "print(classification_report(y_test_others, prediction_test_others, target_names = target_names))\n",
        "\n",
        "cm = confusion_matrix(y_test_others, prediction_test_others)\n",
        "cm_norm = cm/cm.sum(axis=1)[:, np.newaxis]\n",
        "plt.figure()\n",
        "plot_confusion_matrix(cm_norm, classes=rf.classes_)"
      ],
      "metadata": {
        "colab": {
          "base_uri": "https://localhost:8080/",
          "height": 561
        },
        "id": "lV2JsPbTgzfF",
        "outputId": "a8947bcc-7d82-4c50-e7f5-10be8abe9915"
      },
      "execution_count": null,
      "outputs": [
        {
          "output_type": "stream",
          "name": "stdout",
          "text": [
            "accuracy on testing 0.25\n",
            "              precision    recall  f1-score   support\n",
            "\n",
            "   Not hired       0.25      1.00      0.40         1\n",
            "       Hired       0.00      0.00      0.00         3\n",
            "\n",
            "    accuracy                           0.25         4\n",
            "   macro avg       0.12      0.50      0.20         4\n",
            "weighted avg       0.06      0.25      0.10         4\n",
            "\n"
          ]
        },
        {
          "output_type": "stream",
          "name": "stderr",
          "text": [
            "/usr/local/lib/python3.7/dist-packages/sklearn/metrics/_classification.py:1318: UndefinedMetricWarning: Precision and F-score are ill-defined and being set to 0.0 in labels with no predicted samples. Use `zero_division` parameter to control this behavior.\n",
            "  _warn_prf(average, modifier, msg_start, len(result))\n",
            "/usr/local/lib/python3.7/dist-packages/sklearn/metrics/_classification.py:1318: UndefinedMetricWarning: Precision and F-score are ill-defined and being set to 0.0 in labels with no predicted samples. Use `zero_division` parameter to control this behavior.\n",
            "  _warn_prf(average, modifier, msg_start, len(result))\n",
            "/usr/local/lib/python3.7/dist-packages/sklearn/metrics/_classification.py:1318: UndefinedMetricWarning: Precision and F-score are ill-defined and being set to 0.0 in labels with no predicted samples. Use `zero_division` parameter to control this behavior.\n",
            "  _warn_prf(average, modifier, msg_start, len(result))\n"
          ]
        },
        {
          "output_type": "display_data",
          "data": {
            "text/plain": [
              "<Figure size 432x288 with 2 Axes>"
            ],
            "image/png": "[encoded data removed]"
          },
          "metadata": {
            "needs_background": "light"
          }
        }
      ]
    },
    {
      "cell_type": "markdown",
      "source": [
        "## Nationality Dutch"
      ],
      "metadata": {
        "id": "ZRmIq2H3h6Fi"
      }
    },
    {
      "cell_type": "code",
      "source": [
        "rf_dutch = RandomForestClassifier(criterion='entropy', max_depth=4)\n",
        "rf_dutch.fit(X_train_dutch, y_train_dutch)\n",
        "prediction_test_dutch = rf_dutch.predict(X=X_test_dutch)\n",
        "print(\"accuracy on testing\", rf_dutch.score(X_test_dutch, y_test_dutch))\n",
        "print(classification_report(y_test_dutch, prediction_test_dutch, target_names = target_names))\n",
        "\n",
        "cm = confusion_matrix(y_test_dutch, prediction_test_dutch)\n",
        "cm_norm = cm/cm.sum(axis=1)[:, np.newaxis]\n",
        "plt.figure()\n",
        "plot_confusion_matrix(cm_norm, classes=rf.classes_)"
      ],
      "metadata": {
        "colab": {
          "base_uri": "https://localhost:8080/",
          "height": 439
        },
        "id": "EgAoN3AxiDIB",
        "outputId": "5f2e13f9-da4b-4058-91cb-4d7b63672a7b"
      },
      "execution_count": null,
      "outputs": [
        {
          "output_type": "stream",
          "name": "stdout",
          "text": [
            "accuracy on testing 0.6129032258064516\n",
            "              precision    recall  f1-score   support\n",
            "\n",
            "   Not hired       0.63      0.87      0.73        93\n",
            "       Hired       0.54      0.23      0.32        62\n",
            "\n",
            "    accuracy                           0.61       155\n",
            "   macro avg       0.58      0.55      0.52       155\n",
            "weighted avg       0.59      0.61      0.57       155\n",
            "\n"
          ]
        },
        {
          "output_type": "display_data",
          "data": {
            "text/plain": [
              "<Figure size 432x288 with 2 Axes>"
            ],
            "image/png": "[encoded data removed]"
          },
          "metadata": {
            "needs_background": "light"
          }
        }
      ]
    },
    {
      "cell_type": "markdown",
      "source": [
        "## Nationality Belgian"
      ],
      "metadata": {
        "id": "2cH4ptsmh-QE"
      }
    },
    {
      "cell_type": "code",
      "source": [
        "rf_belgian = RandomForestClassifier(criterion='entropy', max_depth=4)\n",
        "rf_belgian.fit(X_train_belgian, y_train_belgian)\n",
        "prediction_test_belgian = rf_belgian.predict(X=X_test_belgian)\n",
        "print(\"accuracy on testing\", rf_belgian.score(X_test_belgian, y_test_belgian))\n",
        "print(classification_report(y_test_belgian, prediction_test_belgian, target_names = target_names))\n",
        "\n",
        "\n",
        "cm = confusion_matrix(y_test_belgian, prediction_test_belgian)\n",
        "cm_norm = cm/cm.sum(axis=1)[:, np.newaxis]\n",
        "plt.figure()\n",
        "plot_confusion_matrix(cm_norm, classes=rf.classes_)"
      ],
      "metadata": {
        "colab": {
          "base_uri": "https://localhost:8080/",
          "height": 439
        },
        "id": "SCv8zjWFiLwP",
        "outputId": "d06d608a-ca0a-493e-e760-9c90e4d90d31"
      },
      "execution_count": null,
      "outputs": [
        {
          "output_type": "stream",
          "name": "stdout",
          "text": [
            "accuracy on testing 0.42857142857142855\n",
            "              precision    recall  f1-score   support\n",
            "\n",
            "   Not hired       0.56      0.64      0.60        14\n",
            "       Hired       0.00      0.00      0.00         7\n",
            "\n",
            "    accuracy                           0.43        21\n",
            "   macro avg       0.28      0.32      0.30        21\n",
            "weighted avg       0.38      0.43      0.40        21\n",
            "\n"
          ]
        },
        {
          "output_type": "display_data",
          "data": {
            "text/plain": [
              "<Figure size 432x288 with 2 Axes>"
            ],
            "image/png": "[encoded data removed]"
          },
          "metadata": {
            "needs_background": "light"
          }
        }
      ]
    },
    {
      "cell_type": "markdown",
      "source": [
        "## Nationality German"
      ],
      "metadata": {
        "id": "zxBx-M_4iAUg"
      }
    },
    {
      "cell_type": "code",
      "source": [
        "rf_german = RandomForestClassifier(criterion='entropy', max_depth=4)\n",
        "rf_german.fit(X_train_german, y_train_german)\n",
        "prediction_test_german = rf_german.predict(X=X_test_german)\n",
        "print(\"accuracy on testing\", rf_german.score(X_test_german, y_test_german))\n",
        "print(classification_report(y_test_german, prediction_test_german, target_names = target_names))\n",
        "\n",
        "cm = confusion_matrix(y_test_german, prediction_test_german)\n",
        "cm_norm = cm/cm.sum(axis=1)[:, np.newaxis]\n",
        "plt.figure()\n",
        "plot_confusion_matrix(cm_norm, classes=rf.classes_)"
      ],
      "metadata": {
        "colab": {
          "base_uri": "https://localhost:8080/",
          "height": 439
        },
        "id": "R-05CivbifZ4",
        "outputId": "921ca5ba-c5fd-440f-eefb-487779ee08ca"
      },
      "execution_count": null,
      "outputs": [
        {
          "output_type": "stream",
          "name": "stdout",
          "text": [
            "accuracy on testing 0.32\n",
            "              precision    recall  f1-score   support\n",
            "\n",
            "   Not hired       0.41      0.50      0.45        14\n",
            "       Hired       0.12      0.09      0.11        11\n",
            "\n",
            "    accuracy                           0.32        25\n",
            "   macro avg       0.27      0.30      0.28        25\n",
            "weighted avg       0.29      0.32      0.30        25\n",
            "\n"
          ]
        },
        {
          "output_type": "display_data",
          "data": {
            "text/plain": [
              "<Figure size 432x288 with 2 Axes>"
            ],
            "image/png": "[encoded data removed]"
          },
          "metadata": {
            "needs_background": "light"
          }
        }
      ]
    },
    {
      "cell_type": "markdown",
      "source": [
        "## ONLY GENDERS in dataset"
      ],
      "metadata": {
        "id": "E83Jhg52vWLq"
      }
    },
    {
      "cell_type": "code",
      "source": [
        "rf_gen = RandomForestClassifier(criterion='entropy', max_depth=4)\n",
        "rf_gen.fit(X_train_gen, y_train_gen)\n",
        "prediction_test_gen = rf_gen.predict(X=X_test_gen)\n",
        "print(\"accuracy on testing\", rf_gen.score(X_test_gen, y_test_gen))\n",
        "print(classification_report(y_test_gen, prediction_test_gen, target_names = target_names))\n",
        "\n",
        "cm = confusion_matrix(y_test_gen, prediction_test_gen)\n",
        "cm_norm = cm/cm.sum(axis=1)[:, np.newaxis]\n",
        "plt.figure()\n",
        "plot_confusion_matrix(cm_norm, classes=rf.classes_)"
      ],
      "metadata": {
        "colab": {
          "base_uri": "https://localhost:8080/",
          "height": 561
        },
        "id": "G5fwVP3cvfXG",
        "outputId": "c87107c7-1c3b-47cd-8118-f4b3cc62c04f"
      },
      "execution_count": null,
      "outputs": [
        {
          "output_type": "stream",
          "name": "stdout",
          "text": [
            "accuracy on testing 0.605\n",
            "              precision    recall  f1-score   support\n",
            "\n",
            "   Not hired       0.60      1.00      0.75       121\n",
            "       Hired       0.00      0.00      0.00        79\n",
            "\n",
            "    accuracy                           0.60       200\n",
            "   macro avg       0.30      0.50      0.38       200\n",
            "weighted avg       0.37      0.60      0.46       200\n",
            "\n"
          ]
        },
        {
          "output_type": "stream",
          "name": "stderr",
          "text": [
            "/usr/local/lib/python3.7/dist-packages/sklearn/metrics/_classification.py:1318: UndefinedMetricWarning: Precision and F-score are ill-defined and being set to 0.0 in labels with no predicted samples. Use `zero_division` parameter to control this behavior.\n",
            "  _warn_prf(average, modifier, msg_start, len(result))\n",
            "/usr/local/lib/python3.7/dist-packages/sklearn/metrics/_classification.py:1318: UndefinedMetricWarning: Precision and F-score are ill-defined and being set to 0.0 in labels with no predicted samples. Use `zero_division` parameter to control this behavior.\n",
            "  _warn_prf(average, modifier, msg_start, len(result))\n",
            "/usr/local/lib/python3.7/dist-packages/sklearn/metrics/_classification.py:1318: UndefinedMetricWarning: Precision and F-score are ill-defined and being set to 0.0 in labels with no predicted samples. Use `zero_division` parameter to control this behavior.\n",
            "  _warn_prf(average, modifier, msg_start, len(result))\n"
          ]
        },
        {
          "output_type": "display_data",
          "data": {
            "text/plain": [
              "<Figure size 432x288 with 2 Axes>"
            ],
            "image/png": "[encoded data removed]"
          },
          "metadata": {
            "needs_background": "light"
          }
        }
      ]
    },
    {
      "cell_type": "markdown",
      "source": [
        "## ONLY NATIONALITIES in dataset"
      ],
      "metadata": {
        "id": "JXDCAuJWvbNj"
      }
    },
    {
      "cell_type": "code",
      "source": [
        "rf_nat = RandomForestClassifier(criterion='entropy', max_depth=4)\n",
        "rf_nat.fit(X_train_nat, y_train_nat)\n",
        "prediction_test_nat = rf_nat.predict(X=X_test_nat)\n",
        "print(\"accuracy on testing\", rf_nat.score(X_test_nat, y_test_nat))\n",
        "print(classification_report(y_test_nat, prediction_test_nat, target_names = target_names))\n",
        "\n",
        "cm = confusion_matrix(y_test_nat, prediction_test_nat)\n",
        "cm_norm = cm/cm.sum(axis=1)[:, np.newaxis]\n",
        "plt.figure()\n",
        "plot_confusion_matrix(cm_norm, classes=rf.classes_)"
      ],
      "metadata": {
        "colab": {
          "base_uri": "https://localhost:8080/",
          "height": 561
        },
        "id": "HFsYLXB1veq-",
        "outputId": "13546cfe-e767-4c46-d3d3-530e46664d93"
      },
      "execution_count": null,
      "outputs": [
        {
          "output_type": "stream",
          "name": "stdout",
          "text": [
            "accuracy on testing 0.605\n",
            "              precision    recall  f1-score   support\n",
            "\n",
            "   Not hired       0.60      1.00      0.75       121\n",
            "       Hired       0.00      0.00      0.00        79\n",
            "\n",
            "    accuracy                           0.60       200\n",
            "   macro avg       0.30      0.50      0.38       200\n",
            "weighted avg       0.37      0.60      0.46       200\n",
            "\n"
          ]
        },
        {
          "output_type": "stream",
          "name": "stderr",
          "text": [
            "/usr/local/lib/python3.7/dist-packages/sklearn/metrics/_classification.py:1318: UndefinedMetricWarning: Precision and F-score are ill-defined and being set to 0.0 in labels with no predicted samples. Use `zero_division` parameter to control this behavior.\n",
            "  _warn_prf(average, modifier, msg_start, len(result))\n",
            "/usr/local/lib/python3.7/dist-packages/sklearn/metrics/_classification.py:1318: UndefinedMetricWarning: Precision and F-score are ill-defined and being set to 0.0 in labels with no predicted samples. Use `zero_division` parameter to control this behavior.\n",
            "  _warn_prf(average, modifier, msg_start, len(result))\n",
            "/usr/local/lib/python3.7/dist-packages/sklearn/metrics/_classification.py:1318: UndefinedMetricWarning: Precision and F-score are ill-defined and being set to 0.0 in labels with no predicted samples. Use `zero_division` parameter to control this behavior.\n",
            "  _warn_prf(average, modifier, msg_start, len(result))\n"
          ]
        },
        {
          "output_type": "display_data",
          "data": {
            "text/plain": [
              "<Figure size 432x288 with 2 Axes>"
            ],
            "image/png": "[encoded data removed]"
          },
          "metadata": {
            "needs_background": "light"
          }
        }
      ]
    }
  ]
}