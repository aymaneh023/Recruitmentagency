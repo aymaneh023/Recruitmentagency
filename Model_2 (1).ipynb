{
  "nbformat": 4,
  "nbformat_minor": 0,
  "metadata": {
    "colab": {
      "provenance": []
    },
    "kernelspec": {
      "name": "python3",
      "display_name": "Python 3"
    },
    "language_info": {
      "name": "python"
    }
  },
  "cells": [
    {
      "cell_type": "markdown",
      "source": [
        "# Model 2"
      ],
      "metadata": {
        "id": "hZ8zO5Hd7qQp"
      }
    },
    {
      "cell_type": "markdown",
      "source": [
        "#Libraries"
      ],
      "metadata": {
        "id": "oSqrS16_8z9i"
      }
    },
    {
      "cell_type": "code",
      "source": [
        "import numpy as np\n",
        "import pandas as pd\n",
        "import seaborn as sns\n",
        "import matplotlib as mpl\n",
        "import matplotlib.pyplot as plt\n",
        "from sklearn.model_selection import train_test_split\n",
        "from sklearn.ensemble import GradientBoostingRegressor\n",
        "from sklearn import preprocessing\n",
        "from sklearn.metrics import mean_squared_error\n",
        "from sklearn.metrics import accuracy_score\n",
        "from sklearn.metrics import classification_report\n",
        "from xgboost import XGBRegressor\n",
        "from sklearn.metrics import mean_absolute_error\n",
        "from sklearn.metrics import roc_curve\n",
        "from sklearn.metrics import roc_auc_score\n",
        "from sklearn.linear_model import LogisticRegression \n",
        "from sklearn import svm \n",
        "from sklearn.ensemble import RandomForestClassifier \n",
        "from sklearn.neighbors import KNeighborsClassifier \n",
        "from sklearn.naive_bayes import GaussianNB \n",
        "from sklearn.tree import DecisionTreeClassifier \n",
        "from sklearn.model_selection import train_test_split \n",
        "from sklearn import metrics \n",
        "from sklearn.metrics import confusion_matrix \n",
        "from sklearn.model_selection import KFold \n",
        "from sklearn.model_selection import cross_val_score \n",
        "from sklearn.model_selection import cross_val_predict \n",
        "from sklearn.model_selection import GridSearchCV\n",
        "from sklearn.pipeline import Pipeline\n",
        "from sklearn.compose import ColumnTransformer\n",
        "from sklearn.impute import SimpleImputer\n",
        "from sklearn.preprocessing import OneHotEncoder\n",
        "from xgboost import XGBClassifier\n",
        "from sklearn.model_selection import GridSearchCV, ParameterGrid\n",
        "from sklearn.metrics import confusion_matrix, classification_report\n",
        "from sklearn.metrics import accuracy_score, recall_score, precision_score, f1_score\n",
        "import csv\n"
      ],
      "metadata": {
        "id": "qEc0NNV487eO"
      },
      "execution_count": 216,
      "outputs": []
    },
    {
      "cell_type": "markdown",
      "source": [
        "# Data Importing and Selection "
      ],
      "metadata": {
        "id": "7Ygn5GYbC0rz"
      }
    },
    {
      "cell_type": "markdown",
      "source": [
        "Reading the dataset"
      ],
      "metadata": {
        "id": "PZiKMJRD8Gy7"
      }
    },
    {
      "cell_type": "code",
      "source": [
        "url = 'https://raw.githubusercontent.com/harshvijay2776/Data-Science/main/recruitmentdataset-2022-1.3.csv'\n",
        "dataset = pd.read_csv(url)\n",
        "dataset.head()"
      ],
      "metadata": {
        "colab": {
          "base_uri": "https://localhost:8080/",
          "height": 206
        },
        "id": "-NryqxZECtk8",
        "outputId": "d24b8916-c7e0-41c7-bbe9-f39d0789a093"
      },
      "execution_count": 217,
      "outputs": [
        {
          "output_type": "execute_result",
          "data": {
            "text/plain": [
              "       Id  gender  age nationality     sport  ind-university_grade  \\\n",
              "0  x8011e  female   24      German  Swimming                    70   \n",
              "1  x6077a    male   26      German      Golf                    67   \n",
              "2  x6006e  female   23       Dutch   Running                    67   \n",
              "3  x2173b    male   24       Dutch   Cricket                    70   \n",
              "4  x6241a  female   26      German      Golf                    59   \n",
              "\n",
              "   ind-debateclub  ind-programming_exp  ind-international_exp  \\\n",
              "0           False                False                  False   \n",
              "1           False                 True                  False   \n",
              "2           False                 True                   True   \n",
              "3           False                 True                  False   \n",
              "4           False                False                  False   \n",
              "\n",
              "   ind-entrepeneur_exp  ind-languages  ind-exact_study ind-degree company  \\\n",
              "0                False              1             True        phd       A   \n",
              "1                False              2             True   bachelor       A   \n",
              "2                False              0             True     master       A   \n",
              "3                False              1             True     master       A   \n",
              "4                False              1            False     master       A   \n",
              "\n",
              "   decision  \n",
              "0      True  \n",
              "1     False  \n",
              "2     False  \n",
              "3      True  \n",
              "4      True  "
            ],
            "text/html": [
              "\n",
              "  <div id=\"df-4b521a78-c8a4-4497-bf5f-46911d12ef72\">\n",
              "    <div class=\"colab-df-container\">\n",
              "      <div>\n",
              "<style scoped>\n",
              "    .dataframe tbody tr th:only-of-type {\n",
              "        vertical-align: middle;\n",
              "    }\n",
              "\n",
              "    .dataframe tbody tr th {\n",
              "        vertical-align: top;\n",
              "    }\n",
              "\n",
              "    .dataframe thead th {\n",
              "        text-align: right;\n",
              "    }\n",
              "</style>\n",
              "<table border=\"1\" class=\"dataframe\">\n",
              "  <thead>\n",
              "    <tr style=\"text-align: right;\">\n",
              "      <th></th>\n",
              "      <th>Id</th>\n",
              "      <th>gender</th>\n",
              "      <th>age</th>\n",
              "      <th>nationality</th>\n",
              "      <th>sport</th>\n",
              "      <th>ind-university_grade</th>\n",
              "      <th>ind-debateclub</th>\n",
              "      <th>ind-programming_exp</th>\n",
              "      <th>ind-international_exp</th>\n",
              "      <th>ind-entrepeneur_exp</th>\n",
              "      <th>ind-languages</th>\n",
              "      <th>ind-exact_study</th>\n",
              "      <th>ind-degree</th>\n",
              "      <th>company</th>\n",
              "      <th>decision</th>\n",
              "    </tr>\n",
              "  </thead>\n",
              "  <tbody>\n",
              "    <tr>\n",
              "      <th>0</th>\n",
              "      <td>x8011e</td>\n",
              "      <td>female</td>\n",
              "      <td>24</td>\n",
              "      <td>German</td>\n",
              "      <td>Swimming</td>\n",
              "      <td>70</td>\n",
              "      <td>False</td>\n",
              "      <td>False</td>\n",
              "      <td>False</td>\n",
              "      <td>False</td>\n",
              "      <td>1</td>\n",
              "      <td>True</td>\n",
              "      <td>phd</td>\n",
              "      <td>A</td>\n",
              "      <td>True</td>\n",
              "    </tr>\n",
              "    <tr>\n",
              "      <th>1</th>\n",
              "      <td>x6077a</td>\n",
              "      <td>male</td>\n",
              "      <td>26</td>\n",
              "      <td>German</td>\n",
              "      <td>Golf</td>\n",
              "      <td>67</td>\n",
              "      <td>False</td>\n",
              "      <td>True</td>\n",
              "      <td>False</td>\n",
              "      <td>False</td>\n",
              "      <td>2</td>\n",
              "      <td>True</td>\n",
              "      <td>bachelor</td>\n",
              "      <td>A</td>\n",
              "      <td>False</td>\n",
              "    </tr>\n",
              "    <tr>\n",
              "      <th>2</th>\n",
              "      <td>x6006e</td>\n",
              "      <td>female</td>\n",
              "      <td>23</td>\n",
              "      <td>Dutch</td>\n",
              "      <td>Running</td>\n",
              "      <td>67</td>\n",
              "      <td>False</td>\n",
              "      <td>True</td>\n",
              "      <td>True</td>\n",
              "      <td>False</td>\n",
              "      <td>0</td>\n",
              "      <td>True</td>\n",
              "      <td>master</td>\n",
              "      <td>A</td>\n",
              "      <td>False</td>\n",
              "    </tr>\n",
              "    <tr>\n",
              "      <th>3</th>\n",
              "      <td>x2173b</td>\n",
              "      <td>male</td>\n",
              "      <td>24</td>\n",
              "      <td>Dutch</td>\n",
              "      <td>Cricket</td>\n",
              "      <td>70</td>\n",
              "      <td>False</td>\n",
              "      <td>True</td>\n",
              "      <td>False</td>\n",
              "      <td>False</td>\n",
              "      <td>1</td>\n",
              "      <td>True</td>\n",
              "      <td>master</td>\n",
              "      <td>A</td>\n",
              "      <td>True</td>\n",
              "    </tr>\n",
              "    <tr>\n",
              "      <th>4</th>\n",
              "      <td>x6241a</td>\n",
              "      <td>female</td>\n",
              "      <td>26</td>\n",
              "      <td>German</td>\n",
              "      <td>Golf</td>\n",
              "      <td>59</td>\n",
              "      <td>False</td>\n",
              "      <td>False</td>\n",
              "      <td>False</td>\n",
              "      <td>False</td>\n",
              "      <td>1</td>\n",
              "      <td>False</td>\n",
              "      <td>master</td>\n",
              "      <td>A</td>\n",
              "      <td>True</td>\n",
              "    </tr>\n",
              "  </tbody>\n",
              "</table>\n",
              "</div>\n",
              "      <button class=\"colab-df-convert\" onclick=\"convertToInteractive('df-4b521a78-c8a4-4497-bf5f-46911d12ef72')\"\n",
              "              title=\"Convert this dataframe to an interactive table.\"\n",
              "              style=\"display:none;\">\n",
              "        \n",
              "  <svg xmlns=\"http://www.w3.org/2000/svg\" height=\"24px\"viewBox=\"0 0 24 24\"\n",
              "       width=\"24px\">\n",
              "    <path d=\"M0 0h24v24H0V0z\" fill=\"none\"/>\n",
              "    <path d=\"M18.56 5.44l.94 2.06.94-2.06 2.06-.94-2.06-.94-.94-2.06-.94 2.06-2.06.94zm-11 1L8.5 8.5l.94-2.06 2.06-.94-2.06-.94L8.5 2.5l-.94 2.06-2.06.94zm10 10l.94 2.06.94-2.06 2.06-.94-2.06-.94-.94-2.06-.94 2.06-2.06.94z\"/><path d=\"M17.41 7.96l-1.37-1.37c-.4-.4-.92-.59-1.43-.59-.52 0-1.04.2-1.43.59L10.3 9.45l-7.72 7.72c-.78.78-.78 2.05 0 2.83L4 21.41c.39.39.9.59 1.41.59.51 0 1.02-.2 1.41-.59l7.78-7.78 2.81-2.81c.8-.78.8-2.07 0-2.86zM5.41 20L4 18.59l7.72-7.72 1.47 1.35L5.41 20z\"/>\n",
              "  </svg>\n",
              "      </button>\n",
              "      \n",
              "  <style>\n",
              "    .colab-df-container {\n",
              "      display:flex;\n",
              "      flex-wrap:wrap;\n",
              "      gap: 12px;\n",
              "    }\n",
              "\n",
              "    .colab-df-convert {\n",
              "      background-color: #E8F0FE;\n",
              "      border: none;\n",
              "      border-radius: 50%;\n",
              "      cursor: pointer;\n",
              "      display: none;\n",
              "      fill: #1967D2;\n",
              "      height: 32px;\n",
              "      padding: 0 0 0 0;\n",
              "      width: 32px;\n",
              "    }\n",
              "\n",
              "    .colab-df-convert:hover {\n",
              "      background-color: #E2EBFA;\n",
              "      box-shadow: 0px 1px 2px rgba(60, 64, 67, 0.3), 0px 1px 3px 1px rgba(60, 64, 67, 0.15);\n",
              "      fill: #174EA6;\n",
              "    }\n",
              "\n",
              "    [theme=dark] .colab-df-convert {\n",
              "      background-color: #3B4455;\n",
              "      fill: #D2E3FC;\n",
              "    }\n",
              "\n",
              "    [theme=dark] .colab-df-convert:hover {\n",
              "      background-color: #434B5C;\n",
              "      box-shadow: 0px 1px 3px 1px rgba(0, 0, 0, 0.15);\n",
              "      filter: drop-shadow(0px 1px 2px rgba(0, 0, 0, 0.3));\n",
              "      fill: #FFFFFF;\n",
              "    }\n",
              "  </style>\n",
              "\n",
              "      <script>\n",
              "        const buttonEl =\n",
              "          document.querySelector('#df-4b521a78-c8a4-4497-bf5f-46911d12ef72 button.colab-df-convert');\n",
              "        buttonEl.style.display =\n",
              "          google.colab.kernel.accessAllowed ? 'block' : 'none';\n",
              "\n",
              "        async function convertToInteractive(key) {\n",
              "          const element = document.querySelector('#df-4b521a78-c8a4-4497-bf5f-46911d12ef72');\n",
              "          const dataTable =\n",
              "            await google.colab.kernel.invokeFunction('convertToInteractive',\n",
              "                                                     [key], {});\n",
              "          if (!dataTable) return;\n",
              "\n",
              "          const docLinkHtml = 'Like what you see? Visit the ' +\n",
              "            '<a target=\"_blank\" href=https://colab.research.google.com/notebooks/data_table.ipynb>data table notebook</a>'\n",
              "            + ' to learn more about interactive tables.';\n",
              "          element.innerHTML = '';\n",
              "          dataTable['output_type'] = 'display_data';\n",
              "          await google.colab.output.renderOutput(dataTable, element);\n",
              "          const docLink = document.createElement('div');\n",
              "          docLink.innerHTML = docLinkHtml;\n",
              "          element.appendChild(docLink);\n",
              "        }\n",
              "      </script>\n",
              "    </div>\n",
              "  </div>\n",
              "  "
            ]
          },
          "metadata": {},
          "execution_count": 217
        }
      ]
    },
    {
      "cell_type": "markdown",
      "source": [
        "Datset for Company A"
      ],
      "metadata": {
        "id": "JB_gexyFDNNc"
      }
    },
    {
      "cell_type": "code",
      "source": [
        "company_a = pd.DataFrame(dataset)\n",
        "dataset_company_a = company_a[company_a[\"company\"] == \"A\"]\n",
        "dataset_company_a.head()"
      ],
      "metadata": {
        "colab": {
          "base_uri": "https://localhost:8080/",
          "height": 206
        },
        "id": "bpWJ2qi_DUmd",
        "outputId": "338db46b-8d16-4c85-c746-09917a70acb2"
      },
      "execution_count": 218,
      "outputs": [
        {
          "output_type": "execute_result",
          "data": {
            "text/plain": [
              "       Id  gender  age nationality     sport  ind-university_grade  \\\n",
              "0  x8011e  female   24      German  Swimming                    70   \n",
              "1  x6077a    male   26      German      Golf                    67   \n",
              "2  x6006e  female   23       Dutch   Running                    67   \n",
              "3  x2173b    male   24       Dutch   Cricket                    70   \n",
              "4  x6241a  female   26      German      Golf                    59   \n",
              "\n",
              "   ind-debateclub  ind-programming_exp  ind-international_exp  \\\n",
              "0           False                False                  False   \n",
              "1           False                 True                  False   \n",
              "2           False                 True                   True   \n",
              "3           False                 True                  False   \n",
              "4           False                False                  False   \n",
              "\n",
              "   ind-entrepeneur_exp  ind-languages  ind-exact_study ind-degree company  \\\n",
              "0                False              1             True        phd       A   \n",
              "1                False              2             True   bachelor       A   \n",
              "2                False              0             True     master       A   \n",
              "3                False              1             True     master       A   \n",
              "4                False              1            False     master       A   \n",
              "\n",
              "   decision  \n",
              "0      True  \n",
              "1     False  \n",
              "2     False  \n",
              "3      True  \n",
              "4      True  "
            ],
            "text/html": [
              "\n",
              "  <div id=\"df-aca2824a-9169-412f-bfa5-6e282f703a27\">\n",
              "    <div class=\"colab-df-container\">\n",
              "      <div>\n",
              "<style scoped>\n",
              "    .dataframe tbody tr th:only-of-type {\n",
              "        vertical-align: middle;\n",
              "    }\n",
              "\n",
              "    .dataframe tbody tr th {\n",
              "        vertical-align: top;\n",
              "    }\n",
              "\n",
              "    .dataframe thead th {\n",
              "        text-align: right;\n",
              "    }\n",
              "</style>\n",
              "<table border=\"1\" class=\"dataframe\">\n",
              "  <thead>\n",
              "    <tr style=\"text-align: right;\">\n",
              "      <th></th>\n",
              "      <th>Id</th>\n",
              "      <th>gender</th>\n",
              "      <th>age</th>\n",
              "      <th>nationality</th>\n",
              "      <th>sport</th>\n",
              "      <th>ind-university_grade</th>\n",
              "      <th>ind-debateclub</th>\n",
              "      <th>ind-programming_exp</th>\n",
              "      <th>ind-international_exp</th>\n",
              "      <th>ind-entrepeneur_exp</th>\n",
              "      <th>ind-languages</th>\n",
              "      <th>ind-exact_study</th>\n",
              "      <th>ind-degree</th>\n",
              "      <th>company</th>\n",
              "      <th>decision</th>\n",
              "    </tr>\n",
              "  </thead>\n",
              "  <tbody>\n",
              "    <tr>\n",
              "      <th>0</th>\n",
              "      <td>x8011e</td>\n",
              "      <td>female</td>\n",
              "      <td>24</td>\n",
              "      <td>German</td>\n",
              "      <td>Swimming</td>\n",
              "      <td>70</td>\n",
              "      <td>False</td>\n",
              "      <td>False</td>\n",
              "      <td>False</td>\n",
              "      <td>False</td>\n",
              "      <td>1</td>\n",
              "      <td>True</td>\n",
              "      <td>phd</td>\n",
              "      <td>A</td>\n",
              "      <td>True</td>\n",
              "    </tr>\n",
              "    <tr>\n",
              "      <th>1</th>\n",
              "      <td>x6077a</td>\n",
              "      <td>male</td>\n",
              "      <td>26</td>\n",
              "      <td>German</td>\n",
              "      <td>Golf</td>\n",
              "      <td>67</td>\n",
              "      <td>False</td>\n",
              "      <td>True</td>\n",
              "      <td>False</td>\n",
              "      <td>False</td>\n",
              "      <td>2</td>\n",
              "      <td>True</td>\n",
              "      <td>bachelor</td>\n",
              "      <td>A</td>\n",
              "      <td>False</td>\n",
              "    </tr>\n",
              "    <tr>\n",
              "      <th>2</th>\n",
              "      <td>x6006e</td>\n",
              "      <td>female</td>\n",
              "      <td>23</td>\n",
              "      <td>Dutch</td>\n",
              "      <td>Running</td>\n",
              "      <td>67</td>\n",
              "      <td>False</td>\n",
              "      <td>True</td>\n",
              "      <td>True</td>\n",
              "      <td>False</td>\n",
              "      <td>0</td>\n",
              "      <td>True</td>\n",
              "      <td>master</td>\n",
              "      <td>A</td>\n",
              "      <td>False</td>\n",
              "    </tr>\n",
              "    <tr>\n",
              "      <th>3</th>\n",
              "      <td>x2173b</td>\n",
              "      <td>male</td>\n",
              "      <td>24</td>\n",
              "      <td>Dutch</td>\n",
              "      <td>Cricket</td>\n",
              "      <td>70</td>\n",
              "      <td>False</td>\n",
              "      <td>True</td>\n",
              "      <td>False</td>\n",
              "      <td>False</td>\n",
              "      <td>1</td>\n",
              "      <td>True</td>\n",
              "      <td>master</td>\n",
              "      <td>A</td>\n",
              "      <td>True</td>\n",
              "    </tr>\n",
              "    <tr>\n",
              "      <th>4</th>\n",
              "      <td>x6241a</td>\n",
              "      <td>female</td>\n",
              "      <td>26</td>\n",
              "      <td>German</td>\n",
              "      <td>Golf</td>\n",
              "      <td>59</td>\n",
              "      <td>False</td>\n",
              "      <td>False</td>\n",
              "      <td>False</td>\n",
              "      <td>False</td>\n",
              "      <td>1</td>\n",
              "      <td>False</td>\n",
              "      <td>master</td>\n",
              "      <td>A</td>\n",
              "      <td>True</td>\n",
              "    </tr>\n",
              "  </tbody>\n",
              "</table>\n",
              "</div>\n",
              "      <button class=\"colab-df-convert\" onclick=\"convertToInteractive('df-aca2824a-9169-412f-bfa5-6e282f703a27')\"\n",
              "              title=\"Convert this dataframe to an interactive table.\"\n",
              "              style=\"display:none;\">\n",
              "        \n",
              "  <svg xmlns=\"http://www.w3.org/2000/svg\" height=\"24px\"viewBox=\"0 0 24 24\"\n",
              "       width=\"24px\">\n",
              "    <path d=\"M0 0h24v24H0V0z\" fill=\"none\"/>\n",
              "    <path d=\"M18.56 5.44l.94 2.06.94-2.06 2.06-.94-2.06-.94-.94-2.06-.94 2.06-2.06.94zm-11 1L8.5 8.5l.94-2.06 2.06-.94-2.06-.94L8.5 2.5l-.94 2.06-2.06.94zm10 10l.94 2.06.94-2.06 2.06-.94-2.06-.94-.94-2.06-.94 2.06-2.06.94z\"/><path d=\"M17.41 7.96l-1.37-1.37c-.4-.4-.92-.59-1.43-.59-.52 0-1.04.2-1.43.59L10.3 9.45l-7.72 7.72c-.78.78-.78 2.05 0 2.83L4 21.41c.39.39.9.59 1.41.59.51 0 1.02-.2 1.41-.59l7.78-7.78 2.81-2.81c.8-.78.8-2.07 0-2.86zM5.41 20L4 18.59l7.72-7.72 1.47 1.35L5.41 20z\"/>\n",
              "  </svg>\n",
              "      </button>\n",
              "      \n",
              "  <style>\n",
              "    .colab-df-container {\n",
              "      display:flex;\n",
              "      flex-wrap:wrap;\n",
              "      gap: 12px;\n",
              "    }\n",
              "\n",
              "    .colab-df-convert {\n",
              "      background-color: #E8F0FE;\n",
              "      border: none;\n",
              "      border-radius: 50%;\n",
              "      cursor: pointer;\n",
              "      display: none;\n",
              "      fill: #1967D2;\n",
              "      height: 32px;\n",
              "      padding: 0 0 0 0;\n",
              "      width: 32px;\n",
              "    }\n",
              "\n",
              "    .colab-df-convert:hover {\n",
              "      background-color: #E2EBFA;\n",
              "      box-shadow: 0px 1px 2px rgba(60, 64, 67, 0.3), 0px 1px 3px 1px rgba(60, 64, 67, 0.15);\n",
              "      fill: #174EA6;\n",
              "    }\n",
              "\n",
              "    [theme=dark] .colab-df-convert {\n",
              "      background-color: #3B4455;\n",
              "      fill: #D2E3FC;\n",
              "    }\n",
              "\n",
              "    [theme=dark] .colab-df-convert:hover {\n",
              "      background-color: #434B5C;\n",
              "      box-shadow: 0px 1px 3px 1px rgba(0, 0, 0, 0.15);\n",
              "      filter: drop-shadow(0px 1px 2px rgba(0, 0, 0, 0.3));\n",
              "      fill: #FFFFFF;\n",
              "    }\n",
              "  </style>\n",
              "\n",
              "      <script>\n",
              "        const buttonEl =\n",
              "          document.querySelector('#df-aca2824a-9169-412f-bfa5-6e282f703a27 button.colab-df-convert');\n",
              "        buttonEl.style.display =\n",
              "          google.colab.kernel.accessAllowed ? 'block' : 'none';\n",
              "\n",
              "        async function convertToInteractive(key) {\n",
              "          const element = document.querySelector('#df-aca2824a-9169-412f-bfa5-6e282f703a27');\n",
              "          const dataTable =\n",
              "            await google.colab.kernel.invokeFunction('convertToInteractive',\n",
              "                                                     [key], {});\n",
              "          if (!dataTable) return;\n",
              "\n",
              "          const docLinkHtml = 'Like what you see? Visit the ' +\n",
              "            '<a target=\"_blank\" href=https://colab.research.google.com/notebooks/data_table.ipynb>data table notebook</a>'\n",
              "            + ' to learn more about interactive tables.';\n",
              "          element.innerHTML = '';\n",
              "          dataTable['output_type'] = 'display_data';\n",
              "          await google.colab.output.renderOutput(dataTable, element);\n",
              "          const docLink = document.createElement('div');\n",
              "          docLink.innerHTML = docLinkHtml;\n",
              "          element.appendChild(docLink);\n",
              "        }\n",
              "      </script>\n",
              "    </div>\n",
              "  </div>\n",
              "  "
            ]
          },
          "metadata": {},
          "execution_count": 218
        }
      ]
    },
    {
      "cell_type": "markdown",
      "source": [
        "Correlation Matrix"
      ],
      "metadata": {
        "id": "ZLcNHe4pEPeK"
      }
    },
    {
      "cell_type": "code",
      "source": [
        "matrix = dataset_company_a.corr()\n",
        "plt.figure(figsize=(10,10))\n",
        "sns.heatmap(matrix, annot =True, center=0)"
      ],
      "metadata": {
        "colab": {
          "base_uri": "https://localhost:8080/",
          "height": 712
        },
        "id": "hpBJrLBKETAf",
        "outputId": "37f98bb6-db32-47e3-9268-da2c4e7edfec"
      },
      "execution_count": 219,
      "outputs": [
        {
          "output_type": "execute_result",
          "data": {
            "text/plain": [
              "<matplotlib.axes._subplots.AxesSubplot at 0x7f713c1d2310>"
            ]
          },
          "metadata": {},
          "execution_count": 219
        },
        {
          "output_type": "display_data",
          "data": {
            "text/plain": [
              "<Figure size 720x720 with 2 Axes>"
            ],
            "image/png": "[encoded data removed]"
          },
          "metadata": {}
        }
      ]
    },
    {
      "cell_type": "markdown",
      "source": [
        "Label encoding of all the indicators"
      ],
      "metadata": {
        "id": "FGyUnGzuH6Gu"
      }
    },
    {
      "cell_type": "code",
      "source": [
        "indicators = dataset_company_a[[\"ind-university_grade\", \"ind-debateclub\" , \"ind-programming_exp\", \"ind-international_exp\",\n",
        "                      \"ind-entrepeneur_exp\", \"ind-languages\", \"ind-exact_study\", \"ind-degree\",]]\n",
        "indicators['ind-degree'] = preprocessing.LabelEncoder().fit_transform(indicators['ind-degree'])\n",
        "indicators = indicators.astype(int)\n",
        "indicators.head()"
      ],
      "metadata": {
        "colab": {
          "base_uri": "https://localhost:8080/",
          "height": 310
        },
        "id": "ziAPEZzZIASI",
        "outputId": "f6eaf35c-6c1f-4487-fd5b-e03667690c31"
      },
      "execution_count": 220,
      "outputs": [
        {
          "output_type": "stream",
          "name": "stderr",
          "text": [
            "/usr/local/lib/python3.7/dist-packages/ipykernel_launcher.py:3: SettingWithCopyWarning: \n",
            "A value is trying to be set on a copy of a slice from a DataFrame.\n",
            "Try using .loc[row_indexer,col_indexer] = value instead\n",
            "\n",
            "See the caveats in the documentation: https://pandas.pydata.org/pandas-docs/stable/user_guide/indexing.html#returning-a-view-versus-a-copy\n",
            "  This is separate from the ipykernel package so we can avoid doing imports until\n"
          ]
        },
        {
          "output_type": "execute_result",
          "data": {
            "text/plain": [
              "   ind-university_grade  ind-debateclub  ind-programming_exp  \\\n",
              "0                    70               0                    0   \n",
              "1                    67               0                    1   \n",
              "2                    67               0                    1   \n",
              "3                    70               0                    1   \n",
              "4                    59               0                    0   \n",
              "\n",
              "   ind-international_exp  ind-entrepeneur_exp  ind-languages  ind-exact_study  \\\n",
              "0                      0                    0              1                1   \n",
              "1                      0                    0              2                1   \n",
              "2                      1                    0              0                1   \n",
              "3                      0                    0              1                1   \n",
              "4                      0                    0              1                0   \n",
              "\n",
              "   ind-degree  \n",
              "0           2  \n",
              "1           0  \n",
              "2           1  \n",
              "3           1  \n",
              "4           1  "
            ],
            "text/html": [
              "\n",
              "  <div id=\"df-acd27be0-e235-490d-8ee9-67753015d5a6\">\n",
              "    <div class=\"colab-df-container\">\n",
              "      <div>\n",
              "<style scoped>\n",
              "    .dataframe tbody tr th:only-of-type {\n",
              "        vertical-align: middle;\n",
              "    }\n",
              "\n",
              "    .dataframe tbody tr th {\n",
              "        vertical-align: top;\n",
              "    }\n",
              "\n",
              "    .dataframe thead th {\n",
              "        text-align: right;\n",
              "    }\n",
              "</style>\n",
              "<table border=\"1\" class=\"dataframe\">\n",
              "  <thead>\n",
              "    <tr style=\"text-align: right;\">\n",
              "      <th></th>\n",
              "      <th>ind-university_grade</th>\n",
              "      <th>ind-debateclub</th>\n",
              "      <th>ind-programming_exp</th>\n",
              "      <th>ind-international_exp</th>\n",
              "      <th>ind-entrepeneur_exp</th>\n",
              "      <th>ind-languages</th>\n",
              "      <th>ind-exact_study</th>\n",
              "      <th>ind-degree</th>\n",
              "    </tr>\n",
              "  </thead>\n",
              "  <tbody>\n",
              "    <tr>\n",
              "      <th>0</th>\n",
              "      <td>70</td>\n",
              "      <td>0</td>\n",
              "      <td>0</td>\n",
              "      <td>0</td>\n",
              "      <td>0</td>\n",
              "      <td>1</td>\n",
              "      <td>1</td>\n",
              "      <td>2</td>\n",
              "    </tr>\n",
              "    <tr>\n",
              "      <th>1</th>\n",
              "      <td>67</td>\n",
              "      <td>0</td>\n",
              "      <td>1</td>\n",
              "      <td>0</td>\n",
              "      <td>0</td>\n",
              "      <td>2</td>\n",
              "      <td>1</td>\n",
              "      <td>0</td>\n",
              "    </tr>\n",
              "    <tr>\n",
              "      <th>2</th>\n",
              "      <td>67</td>\n",
              "      <td>0</td>\n",
              "      <td>1</td>\n",
              "      <td>1</td>\n",
              "      <td>0</td>\n",
              "      <td>0</td>\n",
              "      <td>1</td>\n",
              "      <td>1</td>\n",
              "    </tr>\n",
              "    <tr>\n",
              "      <th>3</th>\n",
              "      <td>70</td>\n",
              "      <td>0</td>\n",
              "      <td>1</td>\n",
              "      <td>0</td>\n",
              "      <td>0</td>\n",
              "      <td>1</td>\n",
              "      <td>1</td>\n",
              "      <td>1</td>\n",
              "    </tr>\n",
              "    <tr>\n",
              "      <th>4</th>\n",
              "      <td>59</td>\n",
              "      <td>0</td>\n",
              "      <td>0</td>\n",
              "      <td>0</td>\n",
              "      <td>0</td>\n",
              "      <td>1</td>\n",
              "      <td>0</td>\n",
              "      <td>1</td>\n",
              "    </tr>\n",
              "  </tbody>\n",
              "</table>\n",
              "</div>\n",
              "      <button class=\"colab-df-convert\" onclick=\"convertToInteractive('df-acd27be0-e235-490d-8ee9-67753015d5a6')\"\n",
              "              title=\"Convert this dataframe to an interactive table.\"\n",
              "              style=\"display:none;\">\n",
              "        \n",
              "  <svg xmlns=\"http://www.w3.org/2000/svg\" height=\"24px\"viewBox=\"0 0 24 24\"\n",
              "       width=\"24px\">\n",
              "    <path d=\"M0 0h24v24H0V0z\" fill=\"none\"/>\n",
              "    <path d=\"M18.56 5.44l.94 2.06.94-2.06 2.06-.94-2.06-.94-.94-2.06-.94 2.06-2.06.94zm-11 1L8.5 8.5l.94-2.06 2.06-.94-2.06-.94L8.5 2.5l-.94 2.06-2.06.94zm10 10l.94 2.06.94-2.06 2.06-.94-2.06-.94-.94-2.06-.94 2.06-2.06.94z\"/><path d=\"M17.41 7.96l-1.37-1.37c-.4-.4-.92-.59-1.43-.59-.52 0-1.04.2-1.43.59L10.3 9.45l-7.72 7.72c-.78.78-.78 2.05 0 2.83L4 21.41c.39.39.9.59 1.41.59.51 0 1.02-.2 1.41-.59l7.78-7.78 2.81-2.81c.8-.78.8-2.07 0-2.86zM5.41 20L4 18.59l7.72-7.72 1.47 1.35L5.41 20z\"/>\n",
              "  </svg>\n",
              "      </button>\n",
              "      \n",
              "  <style>\n",
              "    .colab-df-container {\n",
              "      display:flex;\n",
              "      flex-wrap:wrap;\n",
              "      gap: 12px;\n",
              "    }\n",
              "\n",
              "    .colab-df-convert {\n",
              "      background-color: #E8F0FE;\n",
              "      border: none;\n",
              "      border-radius: 50%;\n",
              "      cursor: pointer;\n",
              "      display: none;\n",
              "      fill: #1967D2;\n",
              "      height: 32px;\n",
              "      padding: 0 0 0 0;\n",
              "      width: 32px;\n",
              "    }\n",
              "\n",
              "    .colab-df-convert:hover {\n",
              "      background-color: #E2EBFA;\n",
              "      box-shadow: 0px 1px 2px rgba(60, 64, 67, 0.3), 0px 1px 3px 1px rgba(60, 64, 67, 0.15);\n",
              "      fill: #174EA6;\n",
              "    }\n",
              "\n",
              "    [theme=dark] .colab-df-convert {\n",
              "      background-color: #3B4455;\n",
              "      fill: #D2E3FC;\n",
              "    }\n",
              "\n",
              "    [theme=dark] .colab-df-convert:hover {\n",
              "      background-color: #434B5C;\n",
              "      box-shadow: 0px 1px 3px 1px rgba(0, 0, 0, 0.15);\n",
              "      filter: drop-shadow(0px 1px 2px rgba(0, 0, 0, 0.3));\n",
              "      fill: #FFFFFF;\n",
              "    }\n",
              "  </style>\n",
              "\n",
              "      <script>\n",
              "        const buttonEl =\n",
              "          document.querySelector('#df-acd27be0-e235-490d-8ee9-67753015d5a6 button.colab-df-convert');\n",
              "        buttonEl.style.display =\n",
              "          google.colab.kernel.accessAllowed ? 'block' : 'none';\n",
              "\n",
              "        async function convertToInteractive(key) {\n",
              "          const element = document.querySelector('#df-acd27be0-e235-490d-8ee9-67753015d5a6');\n",
              "          const dataTable =\n",
              "            await google.colab.kernel.invokeFunction('convertToInteractive',\n",
              "                                                     [key], {});\n",
              "          if (!dataTable) return;\n",
              "\n",
              "          const docLinkHtml = 'Like what you see? Visit the ' +\n",
              "            '<a target=\"_blank\" href=https://colab.research.google.com/notebooks/data_table.ipynb>data table notebook</a>'\n",
              "            + ' to learn more about interactive tables.';\n",
              "          element.innerHTML = '';\n",
              "          dataTable['output_type'] = 'display_data';\n",
              "          await google.colab.output.renderOutput(dataTable, element);\n",
              "          const docLink = document.createElement('div');\n",
              "          docLink.innerHTML = docLinkHtml;\n",
              "          element.appendChild(docLink);\n",
              "        }\n",
              "      </script>\n",
              "    </div>\n",
              "  </div>\n",
              "  "
            ]
          },
          "metadata": {},
          "execution_count": 220
        }
      ]
    },
    {
      "cell_type": "markdown",
      "source": [
        "# Data Exploration"
      ],
      "metadata": {
        "id": "1_QW_YaEtsud"
      }
    },
    {
      "cell_type": "markdown",
      "source": [
        "Decision graph for company A"
      ],
      "metadata": {
        "id": "Md-7308AvJii"
      }
    },
    {
      "cell_type": "code",
      "source": [
        "sns.countplot(x= \"decision\", data = dataset_company_a)\n",
        "plt.show()"
      ],
      "metadata": {
        "colab": {
          "base_uri": "https://localhost:8080/",
          "height": 282
        },
        "id": "X--yk8_9uDHp",
        "outputId": "3dd7cc73-a320-45e9-b413-4065a4d5f12f"
      },
      "execution_count": 221,
      "outputs": [
        {
          "output_type": "display_data",
          "data": {
            "text/plain": [
              "<Figure size 432x288 with 1 Axes>"
            ],
            "image/png": "[encoded data removed]"
          },
          "metadata": {}
        }
      ]
    },
    {
      "cell_type": "markdown",
      "source": [
        "Ind-languages with decision"
      ],
      "metadata": {
        "id": "tFr25bwlvFG2"
      }
    },
    {
      "cell_type": "code",
      "source": [
        "pd.crosstab(dataset_company_a[\"ind-languages\"],dataset_company_a.decision).plot(kind = \"bar\")"
      ],
      "metadata": {
        "colab": {
          "base_uri": "https://localhost:8080/",
          "height": 293
        },
        "id": "dtonvfW4uevG",
        "outputId": "ecb4c26e-1ba6-4cbe-9076-f753a6fcdbad"
      },
      "execution_count": 222,
      "outputs": [
        {
          "output_type": "execute_result",
          "data": {
            "text/plain": [
              "<matplotlib.axes._subplots.AxesSubplot at 0x7f713c99b150>"
            ]
          },
          "metadata": {},
          "execution_count": 222
        },
        {
          "output_type": "display_data",
          "data": {
            "text/plain": [
              "<Figure size 432x288 with 1 Axes>"
            ],
            "image/png": "[encoded data removed]"
          },
          "metadata": {}
        }
      ]
    },
    {
      "cell_type": "markdown",
      "source": [
        "Ind-debateclub with decision"
      ],
      "metadata": {
        "id": "fcjJBIDU8qbL"
      }
    },
    {
      "cell_type": "code",
      "source": [
        "pd.crosstab(dataset_company_a[\"ind-debateclub\"],dataset_company_a.decision).plot(kind = \"bar\")"
      ],
      "metadata": {
        "colab": {
          "base_uri": "https://localhost:8080/",
          "height": 313
        },
        "id": "BY1nOajRvRf3",
        "outputId": "2ea24e57-cadf-4db7-ed10-586843d631cc"
      },
      "execution_count": 223,
      "outputs": [
        {
          "output_type": "execute_result",
          "data": {
            "text/plain": [
              "<matplotlib.axes._subplots.AxesSubplot at 0x7f713c8e4090>"
            ]
          },
          "metadata": {},
          "execution_count": 223
        },
        {
          "output_type": "display_data",
          "data": {
            "text/plain": [
              "<Figure size 432x288 with 1 Axes>"
            ],
            "image/png": "[encoded data removed]"
          },
          "metadata": {}
        }
      ]
    },
    {
      "cell_type": "markdown",
      "source": [
        "Ind-entrepeneur with decision"
      ],
      "metadata": {
        "id": "HqtQ_dPD8un_"
      }
    },
    {
      "cell_type": "code",
      "source": [
        "pd.crosstab(dataset_company_a[\"ind-entrepeneur_exp\"],dataset_company_a.decision).plot(kind = \"bar\")"
      ],
      "metadata": {
        "colab": {
          "base_uri": "https://localhost:8080/",
          "height": 314
        },
        "id": "J9SPscyyvfqy",
        "outputId": "f19e6675-6b11-46a4-de1c-4fefff79288e"
      },
      "execution_count": 224,
      "outputs": [
        {
          "output_type": "execute_result",
          "data": {
            "text/plain": [
              "<matplotlib.axes._subplots.AxesSubplot at 0x7f713c1f88d0>"
            ]
          },
          "metadata": {},
          "execution_count": 224
        },
        {
          "output_type": "display_data",
          "data": {
            "text/plain": [
              "<Figure size 432x288 with 1 Axes>"
            ],
            "image/png": "[encoded data removed]"
          },
          "metadata": {}
        }
      ]
    },
    {
      "cell_type": "markdown",
      "source": [
        "Ind-university_grade with decision"
      ],
      "metadata": {
        "id": "VZRVxLxU8zM8"
      }
    },
    {
      "cell_type": "code",
      "source": [
        "pd.crosstab(dataset_company_a[\"ind-university_grade\"],dataset_company_a.decision).plot(kind = \"bar\", figsize = (20,6))"
      ],
      "metadata": {
        "colab": {
          "base_uri": "https://localhost:8080/",
          "height": 409
        },
        "id": "9ie2zZJgvv8Q",
        "outputId": "bcfc4eb8-0cf8-4d62-c4f3-5391fa539775"
      },
      "execution_count": 225,
      "outputs": [
        {
          "output_type": "execute_result",
          "data": {
            "text/plain": [
              "<matplotlib.axes._subplots.AxesSubplot at 0x7f713c47b2d0>"
            ]
          },
          "metadata": {},
          "execution_count": 225
        },
        {
          "output_type": "display_data",
          "data": {
            "text/plain": [
              "<Figure size 1440x432 with 1 Axes>"
            ],
            "image/png": "[encoded data removed]"
          },
          "metadata": {}
        }
      ]
    },
    {
      "cell_type": "markdown",
      "source": [
        "Ind-degree with decision"
      ],
      "metadata": {
        "id": "csW_Zaf487bR"
      }
    },
    {
      "cell_type": "code",
      "source": [
        "pd.crosstab(dataset_company_a[\"ind-degree\"],dataset_company_a.decision).plot(kind = \"bar\")"
      ],
      "metadata": {
        "colab": {
          "base_uri": "https://localhost:8080/",
          "height": 330
        },
        "id": "jU96hX4TwE_e",
        "outputId": "738d3762-aeca-445a-957b-f80643d2fdf8"
      },
      "execution_count": 226,
      "outputs": [
        {
          "output_type": "execute_result",
          "data": {
            "text/plain": [
              "<matplotlib.axes._subplots.AxesSubplot at 0x7f713c284b90>"
            ]
          },
          "metadata": {},
          "execution_count": 226
        },
        {
          "output_type": "display_data",
          "data": {
            "text/plain": [
              "<Figure size 432x288 with 1 Axes>"
            ],
            "image/png": "[encoded data removed]"
          },
          "metadata": {}
        }
      ]
    },
    {
      "cell_type": "markdown",
      "source": [
        "Ind-exact_study with decision"
      ],
      "metadata": {
        "id": "L-pNVnYJ8_Bh"
      }
    },
    {
      "cell_type": "code",
      "source": [
        "pd.crosstab(dataset_company_a[\"ind-exact_study\"],dataset_company_a.decision).plot(kind = \"bar\")"
      ],
      "metadata": {
        "colab": {
          "base_uri": "https://localhost:8080/",
          "height": 312
        },
        "id": "RJMcYTIcwPN8",
        "outputId": "85df8451-ea83-458f-f027-0ca188bd3f04"
      },
      "execution_count": 227,
      "outputs": [
        {
          "output_type": "execute_result",
          "data": {
            "text/plain": [
              "<matplotlib.axes._subplots.AxesSubplot at 0x7f713c2cbb50>"
            ]
          },
          "metadata": {},
          "execution_count": 227
        },
        {
          "output_type": "display_data",
          "data": {
            "text/plain": [
              "<Figure size 432x288 with 1 Axes>"
            ],
            "image/png": "[encoded data removed]"
          },
          "metadata": {}
        }
      ]
    },
    {
      "cell_type": "markdown",
      "source": [
        "Ind-programming_exp with decision"
      ],
      "metadata": {
        "id": "iYft59w99F6h"
      }
    },
    {
      "cell_type": "code",
      "source": [
        "pd.crosstab(dataset_company_a[\"ind-programming_exp\"],dataset_company_a.decision).plot(kind = \"bar\")"
      ],
      "metadata": {
        "colab": {
          "base_uri": "https://localhost:8080/",
          "height": 312
        },
        "id": "OJozjAS_we6m",
        "outputId": "813df81d-9ff9-4d07-b2fc-28c16e443aa6"
      },
      "execution_count": 228,
      "outputs": [
        {
          "output_type": "execute_result",
          "data": {
            "text/plain": [
              "<matplotlib.axes._subplots.AxesSubplot at 0x7f713c3b7310>"
            ]
          },
          "metadata": {},
          "execution_count": 228
        },
        {
          "output_type": "display_data",
          "data": {
            "text/plain": [
              "<Figure size 432x288 with 1 Axes>"
            ],
            "image/png": "[encoded data removed]"
          },
          "metadata": {}
        }
      ]
    },
    {
      "cell_type": "markdown",
      "source": [
        "Ind-international with decision"
      ],
      "metadata": {
        "id": "PBEwuD2p9Kju"
      }
    },
    {
      "cell_type": "code",
      "source": [
        "pd.crosstab(dataset_company_a[\"ind-international_exp\"],dataset_company_a.decision).plot(kind = \"bar\")\n"
      ],
      "metadata": {
        "colab": {
          "base_uri": "https://localhost:8080/",
          "height": 312
        },
        "id": "PklWslZQwrZE",
        "outputId": "ab4509da-1390-45c7-8cf9-e573f7fce17c"
      },
      "execution_count": 229,
      "outputs": [
        {
          "output_type": "execute_result",
          "data": {
            "text/plain": [
              "<matplotlib.axes._subplots.AxesSubplot at 0x7f713bf48a50>"
            ]
          },
          "metadata": {},
          "execution_count": 229
        },
        {
          "output_type": "display_data",
          "data": {
            "text/plain": [
              "<Figure size 432x288 with 1 Axes>"
            ],
            "image/png": "[encoded data removed]"
          },
          "metadata": {}
        }
      ]
    },
    {
      "cell_type": "markdown",
      "source": [
        "# Model"
      ],
      "metadata": {
        "id": "DSin5QotMcY8"
      }
    },
    {
      "cell_type": "code",
      "source": [
        "X = indicators\n",
        "Y = dataset_company_a[\"decision\"]\n"
      ],
      "metadata": {
        "id": "w0_Z8hi5MgG6"
      },
      "execution_count": 230,
      "outputs": []
    },
    {
      "cell_type": "markdown",
      "source": [
        "Training the model"
      ],
      "metadata": {
        "id": "-qrEXN2u-jIy"
      }
    },
    {
      "cell_type": "code",
      "source": [
        "X_train, X_test, y_train,y_test = train_test_split(X,Y,test_size=0.32,random_state=42)"
      ],
      "metadata": {
        "id": "CUZAZanQPWkK"
      },
      "execution_count": 231,
      "outputs": []
    },
    {
      "cell_type": "markdown",
      "source": [
        "# All Models"
      ],
      "metadata": {
        "id": "pn7sEIxkJ8Z9"
      }
    },
    {
      "cell_type": "markdown",
      "source": [
        "Logistic Regression"
      ],
      "metadata": {
        "id": "AS1YP-_89s38"
      }
    },
    {
      "cell_type": "code",
      "source": [
        "accuracies = {}\n",
        "\n",
        "lr = LogisticRegression()\n",
        "lr.fit(X_train,y_train)\n",
        "acc = lr.score(X_test,y_test)*100\n",
        "y_lr = lr.predict(X_test)\n",
        "\n",
        "accuracies['Logistic Regression'] = acc\n",
        "print(\"Test Accuracy {:.2f}%\".format(acc))"
      ],
      "metadata": {
        "colab": {
          "base_uri": "https://localhost:8080/"
        },
        "id": "XTEnea-zxFMA",
        "outputId": "ba69cc1d-a5ab-4c38-8855-78cf087f6365"
      },
      "execution_count": 232,
      "outputs": [
        {
          "output_type": "stream",
          "name": "stdout",
          "text": [
            "Test Accuracy 72.50%\n"
          ]
        },
        {
          "output_type": "stream",
          "name": "stderr",
          "text": [
            "/usr/local/lib/python3.7/dist-packages/sklearn/linear_model/_logistic.py:818: ConvergenceWarning: lbfgs failed to converge (status=1):\n",
            "STOP: TOTAL NO. of ITERATIONS REACHED LIMIT.\n",
            "\n",
            "Increase the number of iterations (max_iter) or scale the data as shown in:\n",
            "    https://scikit-learn.org/stable/modules/preprocessing.html\n",
            "Please also refer to the documentation for alternative solver options:\n",
            "    https://scikit-learn.org/stable/modules/linear_model.html#logistic-regression\n",
            "  extra_warning_msg=_LOGISTIC_SOLVER_CONVERGENCE_MSG,\n"
          ]
        }
      ]
    },
    {
      "cell_type": "markdown",
      "source": [
        "rbf SVM"
      ],
      "metadata": {
        "id": "OZSVC6Hs9yIN"
      }
    },
    {
      "cell_type": "code",
      "source": [
        "model=svm.SVC(kernel='rbf',C=0.6,gamma=0.4)\n",
        "model.fit(X_train,y_train)\n",
        "acc = model.score(X_test,y_test)*100\n",
        "\n",
        "y_svc = model.predict(X_test)\n",
        "\n",
        "accuracies['rbf SVM'] = acc\n",
        "print(\"Test Accuracy {:.2f}%\".format(acc))"
      ],
      "metadata": {
        "colab": {
          "base_uri": "https://localhost:8080/"
        },
        "id": "6_kJmAPgF2OQ",
        "outputId": "d0d16671-ef9c-4bc4-ecf6-7b08ea3ce216"
      },
      "execution_count": 233,
      "outputs": [
        {
          "output_type": "stream",
          "name": "stdout",
          "text": [
            "Test Accuracy 77.50%\n"
          ]
        }
      ]
    },
    {
      "cell_type": "markdown",
      "source": [
        "Decision Tree Classifier"
      ],
      "metadata": {
        "id": "SMW5pd4T92X6"
      }
    },
    {
      "cell_type": "code",
      "source": [
        "model=DecisionTreeClassifier()\n",
        "model.fit(X_train,y_train)\n",
        "\n",
        "acc = model.score(X_test,y_test)*100\n",
        "\n",
        "y_dtc = model.predict(X_test)\n",
        "\n",
        "accuracies['Decision Tree'] = acc\n",
        "print(\"Test Accuracy {:.2f}%\".format(acc))\n"
      ],
      "metadata": {
        "colab": {
          "base_uri": "https://localhost:8080/"
        },
        "id": "OXox5xgAHEAP",
        "outputId": "8e18a6c5-8a39-40f9-94f3-1edc81d84544"
      },
      "execution_count": 234,
      "outputs": [
        {
          "output_type": "stream",
          "name": "stdout",
          "text": [
            "Test Accuracy 73.12%\n"
          ]
        }
      ]
    },
    {
      "cell_type": "markdown",
      "source": [
        "K Neighbors Classifier"
      ],
      "metadata": {
        "id": "bgjU8ME0-Dnn"
      }
    },
    {
      "cell_type": "code",
      "source": [
        "model=KNeighborsClassifier(n_neighbors = 9) \n",
        "model.fit(X_train,y_train)\n",
        "\n",
        "acc = model.score(X_test,y_test)*100\n",
        "train_acc = model.score(X_train,y_train)*100\n",
        "\n",
        "y_knn_highest = model.predict(X_test)\n",
        "\n",
        "accuracies['Model 2: KNN (All Indicators)'] = acc\n",
        "print(\"Test Accuracy {:.2f}%\".format(acc))\n",
        "print(\"Train Accuracy {:.2f}%\".format(train_acc))"
      ],
      "metadata": {
        "colab": {
          "base_uri": "https://localhost:8080/"
        },
        "id": "tnnMdwxsHTAs",
        "outputId": "59b95115-279d-4e6d-a37f-ee9435384e29"
      },
      "execution_count": 235,
      "outputs": [
        {
          "output_type": "stream",
          "name": "stdout",
          "text": [
            "Test Accuracy 78.44%\n",
            "Train Accuracy 79.12%\n"
          ]
        }
      ]
    },
    {
      "cell_type": "markdown",
      "source": [
        "Gaussian NB"
      ],
      "metadata": {
        "id": "NiJ6wuYZ-bIF"
      }
    },
    {
      "cell_type": "code",
      "source": [
        "model=GaussianNB()\n",
        "model.fit(X_train,y_train)\n",
        "acc = model.score(X_test,y_test)*100\n",
        "\n",
        "y_gnb = model.predict(X_test)\n",
        "\n",
        "accuracies['GaussianNB'] = acc\n",
        "print(\"Test Accuracy {:.2f}%\".format(acc))\n"
      ],
      "metadata": {
        "colab": {
          "base_uri": "https://localhost:8080/"
        },
        "id": "fvM5Qx2lJQCU",
        "outputId": "d3724b27-7455-4936-aee0-989ef7b1507a"
      },
      "execution_count": 236,
      "outputs": [
        {
          "output_type": "stream",
          "name": "stdout",
          "text": [
            "Test Accuracy 70.94%\n"
          ]
        }
      ]
    },
    {
      "cell_type": "markdown",
      "source": [
        "Random Forest Classifier"
      ],
      "metadata": {
        "id": "ctGCRSCW-eU4"
      }
    },
    {
      "cell_type": "code",
      "source": [
        "model=RandomForestClassifier(n_estimators=100)\n",
        "model.fit(X_train,y_train)\n",
        "\n",
        "acc = model.score(X_test,y_test)*100\n",
        "\n",
        "y_rfc = model.predict(X_test)\n",
        "\n",
        "accuracies['Random Forest Classifier'] = acc\n",
        "print(\"Test Accuracy {:.2f}%\".format(acc))"
      ],
      "metadata": {
        "colab": {
          "base_uri": "https://localhost:8080/"
        },
        "id": "MaoLOgpLJxF0",
        "outputId": "49726033-ca66-4693-9468-70f0dbe7f3fe"
      },
      "execution_count": 237,
      "outputs": [
        {
          "output_type": "stream",
          "name": "stdout",
          "text": [
            "Test Accuracy 73.12%\n"
          ]
        }
      ]
    },
    {
      "cell_type": "markdown",
      "source": [
        "# Hyperparameter tuning for SVM and KNN "
      ],
      "metadata": {
        "id": "9yEK9YTr-kRJ"
      }
    },
    {
      "cell_type": "markdown",
      "source": [
        "SVM "
      ],
      "metadata": {
        "id": "nno9FrgT_C1Q"
      }
    },
    {
      "cell_type": "code",
      "source": [
        "C=[0.05,0.1,0.2,0.3,0.25,0.4,0.5,0.6,0.7,0.8,0.9,1]\n",
        "gamma=[0.1,0.2,0.3,0.4,0.5,0.6,0.7,0.8,0.9,1.0]\n",
        "kernel=['rbf']\n",
        "hyper={'kernel':kernel,'C':C,'gamma':gamma}\n",
        "gd=GridSearchCV(estimator=svm.SVC(),param_grid=hyper,verbose=True)\n",
        "gd.fit(X,Y)\n",
        "print(gd.best_score_)\n",
        "print(gd.best_estimator_)"
      ],
      "metadata": {
        "colab": {
          "base_uri": "https://localhost:8080/"
        },
        "id": "E_37QO0p-4A0",
        "outputId": "1052c132-0743-44b7-b70f-bec6907a8eb6"
      },
      "execution_count": 238,
      "outputs": [
        {
          "output_type": "stream",
          "name": "stdout",
          "text": [
            "Fitting 5 folds for each of 120 candidates, totalling 600 fits\n",
            "0.759\n",
            "SVC(C=0.6, gamma=0.4)\n"
          ]
        }
      ]
    },
    {
      "cell_type": "markdown",
      "source": [
        "KNN"
      ],
      "metadata": {
        "id": "J4oab-1N_F7r"
      }
    },
    {
      "cell_type": "code",
      "source": [
        "neighbors = np.arange(1,11)\n",
        "train_accuracy =np.empty(len(neighbors))\n",
        "test_accuracy = np.empty(len(neighbors))\n",
        "for i,k in enumerate(neighbors):\n",
        "    knn = KNeighborsClassifier(n_neighbors=k)  \n",
        "    knn.fit(X_train, y_train)   \n",
        "    train_accuracy[i] = knn.score(X_train, y_train)\n",
        "    test_accuracy[i] = knn.score(X_test, y_test)\n",
        "plt.figure(figsize = (20,10)) \n",
        "plt.title('k-NN Varying number of neighbors')\n",
        "plt.plot(neighbors, test_accuracy, label='Testing Accuracy')\n",
        "plt.plot(neighbors, train_accuracy, label='Training accuracy')\n",
        "plt.legend()\n",
        "plt.xlabel('Number of neighbors')\n",
        "plt.ylabel('Accuracy')\n",
        "plt.show()"
      ],
      "metadata": {
        "colab": {
          "base_uri": "https://localhost:8080/",
          "height": 621
        },
        "id": "jZxznGrQ-r5y",
        "outputId": "02189e2a-bb9d-4381-cf3a-0e8d48594d5b"
      },
      "execution_count": 239,
      "outputs": [
        {
          "output_type": "display_data",
          "data": {
            "text/plain": [
              "<Figure size 1440x720 with 1 Axes>"
            ],
            "image/png": "[encoded data removed]"
          },
          "metadata": {}
        }
      ]
    },
    {
      "cell_type": "markdown",
      "source": [
        "# KNN with different set of indicators"
      ],
      "metadata": {
        "id": "TGnD5j38ApJa"
      }
    },
    {
      "cell_type": "markdown",
      "source": [
        "Set of four indicators"
      ],
      "metadata": {
        "id": "GdXGe0C9Bful"
      }
    },
    {
      "cell_type": "code",
      "source": [
        "X = dataset_company_a[[\"ind-entrepeneur_exp\", \"ind-debateclub\", \"ind-languages\", \"ind-university_grade\"]]\n",
        "y = dataset_company_a[\"decision\"]\n",
        "X_train, X_test, y_train,y_test = train_test_split(X,y,test_size=0.32,random_state=42)\n",
        "\n",
        "knn=KNeighborsClassifier(n_neighbors = 9) \n",
        "knn.fit(X_train,y_train)\n",
        "\n",
        "acc = knn.score(X_test,y_test)*100\n",
        "train_acc = knn.score(X_train,y_train)*100\n",
        "\n",
        "y_knn = knn.predict(X_test)\n",
        "\n",
        "accuracies['Model 2 : KNN with 4 indicators'] = acc\n",
        "print(\"Test Accuracy {:.2f}%\".format(acc))\n",
        "print(\"Train Accuracy {:.2f}%\".format(train_acc))"
      ],
      "metadata": {
        "colab": {
          "base_uri": "https://localhost:8080/"
        },
        "id": "7qRNmFwHAu-P",
        "outputId": "2e749893-93c9-49dc-ca5b-953766f7fd4f"
      },
      "execution_count": 240,
      "outputs": [
        {
          "output_type": "stream",
          "name": "stdout",
          "text": [
            "Test Accuracy 70.31%\n",
            "Train Accuracy 72.79%\n"
          ]
        }
      ]
    },
    {
      "cell_type": "markdown",
      "source": [
        "Set of six indicators"
      ],
      "metadata": {
        "id": "2fBXorkMBkjJ"
      }
    },
    {
      "cell_type": "code",
      "source": [
        "X = dataset_company_a[[\"ind-entrepeneur_exp\", \"ind-debateclub\", \"ind-languages\", \"ind-university_grade\", \"ind-exact_study\", \"ind-international_exp\"]]\n",
        "y = dataset_company_a[\"decision\"]\n",
        "X_train, X_test, y_train,y_test = train_test_split(X,y,test_size=0.32,random_state=42)\n",
        "knn=KNeighborsClassifier(n_neighbors = 9) \n",
        "knn.fit(X_train,y_train)\n",
        "\n",
        "acc = knn.score(X_test,y_test)*100\n",
        "train_acc = knn.score(X_train,y_train)*100\n",
        "\n",
        "y_knn = knn.predict(X_test)\n",
        "\n",
        "accuracies['Model 2 : KNN with 6 indicators'] = acc\n",
        "print(\"Test Accuracy {:.2f}%\".format(acc))\n",
        "print(\"Train Accuracy {:.2f}%\".format(train_acc))"
      ],
      "metadata": {
        "colab": {
          "base_uri": "https://localhost:8080/"
        },
        "id": "FUV-K6VvBCRV",
        "outputId": "1e9c45b4-9d22-4145-c87a-8eca3706ffee"
      },
      "execution_count": 241,
      "outputs": [
        {
          "output_type": "stream",
          "name": "stdout",
          "text": [
            "Test Accuracy 74.06%\n",
            "Train Accuracy 75.29%\n"
          ]
        }
      ]
    },
    {
      "cell_type": "markdown",
      "source": [
        "Set of two indicators"
      ],
      "metadata": {
        "id": "0EbgD5WqBnVN"
      }
    },
    {
      "cell_type": "code",
      "source": [
        "X = dataset_company_a[[\"ind-debateclub\", \"ind-languages\"]]\n",
        "y = dataset_company_a[\"decision\"]\n",
        "X_train, X_test, y_train,y_test = train_test_split(X,y,test_size=0.32,random_state=42)\n",
        "knn=KNeighborsClassifier(n_neighbors = 9) \n",
        "knn.fit(X_train,y_train)\n",
        "\n",
        "acc = knn.score(X_test,y_test)*100\n",
        "train_acc = knn.score(X_train,y_train)*100\n",
        "\n",
        "y_knn = knn.predict(X_test)\n",
        "\n",
        "accuracies['Model 2 : KNN with 2 indicators'] = acc\n",
        "print(\"Test Accuracy {:.2f}%\".format(acc))\n",
        "print(\"Train Accuracy {:.2f}%\".format(train_acc))"
      ],
      "metadata": {
        "colab": {
          "base_uri": "https://localhost:8080/"
        },
        "id": "WLRU-UjbBMD-",
        "outputId": "facbce96-2e38-430b-d575-7dcb70b2d595"
      },
      "execution_count": 242,
      "outputs": [
        {
          "output_type": "stream",
          "name": "stdout",
          "text": [
            "Test Accuracy 63.12%\n",
            "Train Accuracy 62.79%\n"
          ]
        }
      ]
    },
    {
      "cell_type": "markdown",
      "source": [
        "# Comparing Models"
      ],
      "metadata": {
        "id": "dH5k4rDZyXIA"
      }
    },
    {
      "cell_type": "markdown",
      "source": [
        "KNN has the highest accuracy"
      ],
      "metadata": {
        "id": "M88UUAvh_QJY"
      }
    },
    {
      "cell_type": "code",
      "source": [
        "sns.set_style(\"whitegrid\")\n",
        "plt.figure(figsize = (30,6))\n",
        "plt.yticks(np.arange(0,100,10))\n",
        "plt.ylabel(\"Accuracy %\")\n",
        "plt.xlabel(\"Algorithms\")\n",
        "sns.barplot(x=list(accuracies.keys()), y=list(accuracies.values()))\n",
        "plt.show()"
      ],
      "metadata": {
        "colab": {
          "base_uri": "https://localhost:8080/",
          "height": 388
        },
        "id": "rZmiKwdzycTU",
        "outputId": "e7afc1b0-187d-4077-b47a-a28e41b3dc09"
      },
      "execution_count": 243,
      "outputs": [
        {
          "output_type": "display_data",
          "data": {
            "text/plain": [
              "<Figure size 2160x432 with 1 Axes>"
            ],
            "image/png": "[encoded data removed]"
          },
          "metadata": {}
        }
      ]
    },
    {
      "cell_type": "markdown",
      "source": [
        "# Models Confusion Matrix"
      ],
      "metadata": {
        "id": "w2P-TBm932Fi"
      }
    },
    {
      "cell_type": "markdown",
      "source": [
        "All Models"
      ],
      "metadata": {
        "id": "RwV_ASGH_Y5C"
      }
    },
    {
      "cell_type": "code",
      "source": [
        "plt.figure(figsize=(24,12))\n",
        "\n",
        "plt.suptitle(\"Confusion Matrixes\",fontsize=24)\n",
        "plt.subplots_adjust(wspace = 0.4, hspace= 0.4)\n",
        "\n",
        "plt.subplot(2,3,1)\n",
        "plt.title(\"Logistic Regression Confusion Matrix\")\n",
        "sns.heatmap(confusion_matrix(y_test, y_lr),annot=True,fmt=\"d\",cbar=False, annot_kws={\"size\": 24})\n",
        "\n",
        "plt.subplot(2,3,2)\n",
        "plt.title(\"K Nearest Neighbors Confusion Matrix\")\n",
        "sns.heatmap(confusion_matrix(y_test, y_knn),annot=True,fmt=\"d\",cbar=False, annot_kws={\"size\": 24})\n",
        "\n",
        "plt.subplot(2,3,3)\n",
        "plt.title(\"Support Vector Machine Confusion Matrix\")\n",
        "sns.heatmap(confusion_matrix(y_test, y_svc),annot=True,fmt=\"d\",cbar=False, annot_kws={\"size\": 24})\n",
        "\n",
        "plt.subplot(2,3,4)\n",
        "plt.title(\"GaussianNB Confusion Matrix\")\n",
        "sns.heatmap(confusion_matrix(y_test, y_gnb),annot=True,fmt=\"d\",cbar=False, annot_kws={\"size\": 24})\n",
        "\n",
        "plt.subplot(2,3,5)\n",
        "plt.title(\"Decision Tree Classifier Confusion Matrix\")\n",
        "sns.heatmap(confusion_matrix(y_test, y_dtc),annot=True,fmt=\"d\",cbar=False, annot_kws={\"size\": 24})\n",
        "\n",
        "plt.subplot(2,3,6)\n",
        "plt.title(\"Random Forest Confusion Matrix\")\n",
        "sns.heatmap(confusion_matrix(y_test, y_rfc),annot=True,fmt=\"d\",cbar=False, annot_kws={\"size\": 24})\n",
        "\n",
        "plt.show()"
      ],
      "metadata": {
        "colab": {
          "base_uri": "https://localhost:8080/",
          "height": 787
        },
        "id": "AothD7Mi39Bw",
        "outputId": "507c06b2-c444-4035-fcef-3a1a5fc24c25"
      },
      "execution_count": 244,
      "outputs": [
        {
          "output_type": "display_data",
          "data": {
            "text/plain": [
              "<Figure size 1728x864 with 6 Axes>"
            ],
            "image/png": "[encoded data removed]"
          },
          "metadata": {}
        }
      ]
    },
    {
      "cell_type": "markdown",
      "source": [
        "KNN"
      ],
      "metadata": {
        "id": "wSDe0Np8_a3E"
      }
    },
    {
      "cell_type": "code",
      "source": [
        "plt.title(\"Knn\")\n",
        "sns.heatmap(confusion_matrix(y_test, y_knn),annot=True,fmt=\"d\",cbar=False, annot_kws={\"size\": 24})\n",
        "plt.show()"
      ],
      "metadata": {
        "colab": {
          "base_uri": "https://localhost:8080/",
          "height": 281
        },
        "id": "MTWQn_QbFx-P",
        "outputId": "6766e014-affa-4668-c1a3-c031ef99180c"
      },
      "execution_count": 245,
      "outputs": [
        {
          "output_type": "display_data",
          "data": {
            "text/plain": [
              "<Figure size 432x288 with 1 Axes>"
            ],
            "image/png": "[encoded data removed]"
          },
          "metadata": {}
        }
      ]
    },
    {
      "cell_type": "markdown",
      "source": [
        "SVM"
      ],
      "metadata": {
        "id": "rFtfwbuR_cv2"
      }
    },
    {
      "cell_type": "code",
      "source": [
        "plt.title(\"SVM\")\n",
        "sns.heatmap(confusion_matrix(y_test, y_svc),annot=True,fmt=\"d\",cbar=False, annot_kws={\"size\": 24})\n",
        "plt.show()"
      ],
      "metadata": {
        "colab": {
          "base_uri": "https://localhost:8080/",
          "height": 281
        },
        "id": "y4YNFy3eF6oQ",
        "outputId": "5f35c7f7-1dfd-4a0e-fbef-5bdec315346c"
      },
      "execution_count": 246,
      "outputs": [
        {
          "output_type": "display_data",
          "data": {
            "text/plain": [
              "<Figure size 432x288 with 1 Axes>"
            ],
            "image/png": "[encoded data removed]"
          },
          "metadata": {}
        }
      ]
    },
    {
      "cell_type": "code",
      "source": [
        "pd.crosstab(y_test, y_knn, rownames=['True'], colnames=['Predicted'], margins=True)"
      ],
      "metadata": {
        "colab": {
          "base_uri": "https://localhost:8080/",
          "height": 175
        },
        "id": "8QJFlIqjVNsx",
        "outputId": "796e4f5b-255d-451c-e2e6-0dd79a017975"
      },
      "execution_count": 247,
      "outputs": [
        {
          "output_type": "execute_result",
          "data": {
            "text/plain": [
              "Predicted  False  True  All\n",
              "True                       \n",
              "False        163    24  187\n",
              "True          94    39  133\n",
              "All          257    63  320"
            ],
            "text/html": [
              "\n",
              "  <div id=\"df-6729ca0f-68d5-47c8-957c-f06672efa812\">\n",
              "    <div class=\"colab-df-container\">\n",
              "      <div>\n",
              "<style scoped>\n",
              "    .dataframe tbody tr th:only-of-type {\n",
              "        vertical-align: middle;\n",
              "    }\n",
              "\n",
              "    .dataframe tbody tr th {\n",
              "        vertical-align: top;\n",
              "    }\n",
              "\n",
              "    .dataframe thead th {\n",
              "        text-align: right;\n",
              "    }\n",
              "</style>\n",
              "<table border=\"1\" class=\"dataframe\">\n",
              "  <thead>\n",
              "    <tr style=\"text-align: right;\">\n",
              "      <th>Predicted</th>\n",
              "      <th>False</th>\n",
              "      <th>True</th>\n",
              "      <th>All</th>\n",
              "    </tr>\n",
              "    <tr>\n",
              "      <th>True</th>\n",
              "      <th></th>\n",
              "      <th></th>\n",
              "      <th></th>\n",
              "    </tr>\n",
              "  </thead>\n",
              "  <tbody>\n",
              "    <tr>\n",
              "      <th>False</th>\n",
              "      <td>163</td>\n",
              "      <td>24</td>\n",
              "      <td>187</td>\n",
              "    </tr>\n",
              "    <tr>\n",
              "      <th>True</th>\n",
              "      <td>94</td>\n",
              "      <td>39</td>\n",
              "      <td>133</td>\n",
              "    </tr>\n",
              "    <tr>\n",
              "      <th>All</th>\n",
              "      <td>257</td>\n",
              "      <td>63</td>\n",
              "      <td>320</td>\n",
              "    </tr>\n",
              "  </tbody>\n",
              "</table>\n",
              "</div>\n",
              "      <button class=\"colab-df-convert\" onclick=\"convertToInteractive('df-6729ca0f-68d5-47c8-957c-f06672efa812')\"\n",
              "              title=\"Convert this dataframe to an interactive table.\"\n",
              "              style=\"display:none;\">\n",
              "        \n",
              "  <svg xmlns=\"http://www.w3.org/2000/svg\" height=\"24px\"viewBox=\"0 0 24 24\"\n",
              "       width=\"24px\">\n",
              "    <path d=\"M0 0h24v24H0V0z\" fill=\"none\"/>\n",
              "    <path d=\"M18.56 5.44l.94 2.06.94-2.06 2.06-.94-2.06-.94-.94-2.06-.94 2.06-2.06.94zm-11 1L8.5 8.5l.94-2.06 2.06-.94-2.06-.94L8.5 2.5l-.94 2.06-2.06.94zm10 10l.94 2.06.94-2.06 2.06-.94-2.06-.94-.94-2.06-.94 2.06-2.06.94z\"/><path d=\"M17.41 7.96l-1.37-1.37c-.4-.4-.92-.59-1.43-.59-.52 0-1.04.2-1.43.59L10.3 9.45l-7.72 7.72c-.78.78-.78 2.05 0 2.83L4 21.41c.39.39.9.59 1.41.59.51 0 1.02-.2 1.41-.59l7.78-7.78 2.81-2.81c.8-.78.8-2.07 0-2.86zM5.41 20L4 18.59l7.72-7.72 1.47 1.35L5.41 20z\"/>\n",
              "  </svg>\n",
              "      </button>\n",
              "      \n",
              "  <style>\n",
              "    .colab-df-container {\n",
              "      display:flex;\n",
              "      flex-wrap:wrap;\n",
              "      gap: 12px;\n",
              "    }\n",
              "\n",
              "    .colab-df-convert {\n",
              "      background-color: #E8F0FE;\n",
              "      border: none;\n",
              "      border-radius: 50%;\n",
              "      cursor: pointer;\n",
              "      display: none;\n",
              "      fill: #1967D2;\n",
              "      height: 32px;\n",
              "      padding: 0 0 0 0;\n",
              "      width: 32px;\n",
              "    }\n",
              "\n",
              "    .colab-df-convert:hover {\n",
              "      background-color: #E2EBFA;\n",
              "      box-shadow: 0px 1px 2px rgba(60, 64, 67, 0.3), 0px 1px 3px 1px rgba(60, 64, 67, 0.15);\n",
              "      fill: #174EA6;\n",
              "    }\n",
              "\n",
              "    [theme=dark] .colab-df-convert {\n",
              "      background-color: #3B4455;\n",
              "      fill: #D2E3FC;\n",
              "    }\n",
              "\n",
              "    [theme=dark] .colab-df-convert:hover {\n",
              "      background-color: #434B5C;\n",
              "      box-shadow: 0px 1px 3px 1px rgba(0, 0, 0, 0.15);\n",
              "      filter: drop-shadow(0px 1px 2px rgba(0, 0, 0, 0.3));\n",
              "      fill: #FFFFFF;\n",
              "    }\n",
              "  </style>\n",
              "\n",
              "      <script>\n",
              "        const buttonEl =\n",
              "          document.querySelector('#df-6729ca0f-68d5-47c8-957c-f06672efa812 button.colab-df-convert');\n",
              "        buttonEl.style.display =\n",
              "          google.colab.kernel.accessAllowed ? 'block' : 'none';\n",
              "\n",
              "        async function convertToInteractive(key) {\n",
              "          const element = document.querySelector('#df-6729ca0f-68d5-47c8-957c-f06672efa812');\n",
              "          const dataTable =\n",
              "            await google.colab.kernel.invokeFunction('convertToInteractive',\n",
              "                                                     [key], {});\n",
              "          if (!dataTable) return;\n",
              "\n",
              "          const docLinkHtml = 'Like what you see? Visit the ' +\n",
              "            '<a target=\"_blank\" href=https://colab.research.google.com/notebooks/data_table.ipynb>data table notebook</a>'\n",
              "            + ' to learn more about interactive tables.';\n",
              "          element.innerHTML = '';\n",
              "          dataTable['output_type'] = 'display_data';\n",
              "          await google.colab.output.renderOutput(dataTable, element);\n",
              "          const docLink = document.createElement('div');\n",
              "          docLink.innerHTML = docLinkHtml;\n",
              "          element.appendChild(docLink);\n",
              "        }\n",
              "      </script>\n",
              "    </div>\n",
              "  </div>\n",
              "  "
            ]
          },
          "metadata": {},
          "execution_count": 247
        }
      ]
    },
    {
      "cell_type": "markdown",
      "source": [
        "# Classification Report\n"
      ],
      "metadata": {
        "id": "_VngGFjRVnv9"
      }
    },
    {
      "cell_type": "markdown",
      "source": [
        "KNN"
      ],
      "metadata": {
        "id": "kG8baMbQ_hnC"
      }
    },
    {
      "cell_type": "code",
      "source": [
        "print(classification_report(y_test,y_knn_highest))"
      ],
      "metadata": {
        "id": "TfA-wee1WAUA",
        "colab": {
          "base_uri": "https://localhost:8080/"
        },
        "outputId": "cbe9ebc5-5205-4b09-dcd3-77f9bce32939"
      },
      "execution_count": 248,
      "outputs": [
        {
          "output_type": "stream",
          "name": "stdout",
          "text": [
            "              precision    recall  f1-score   support\n",
            "\n",
            "       False       0.78      0.88      0.83       187\n",
            "        True       0.80      0.65      0.71       133\n",
            "\n",
            "    accuracy                           0.78       320\n",
            "   macro avg       0.79      0.76      0.77       320\n",
            "weighted avg       0.79      0.78      0.78       320\n",
            "\n"
          ]
        }
      ]
    },
    {
      "cell_type": "markdown",
      "source": [
        "# ROC curve"
      ],
      "metadata": {
        "id": "Y20Iz1ixXr8q"
      }
    },
    {
      "cell_type": "code",
      "source": [
        "y_pred_proba = knn.predict_proba(X_test)\n",
        "fpr, tpr, thresholds = roc_curve(y_test, y_knn_highest)"
      ],
      "metadata": {
        "id": "dE3oLsviYF3t"
      },
      "execution_count": 249,
      "outputs": []
    },
    {
      "cell_type": "code",
      "source": [
        "plt.plot([0,1],[0,1],'k--')\n",
        "auc = metrics.roc_auc_score(y_test, y_knn_highest)\n",
        "plt.plot(fpr,tpr,label=\"AUC=\"+str(auc))\n",
        "plt.ylabel('True Positive Rate')\n",
        "plt.xlabel('False Positive Rate')\n",
        "plt.legend(loc=4)\n",
        "plt.show()"
      ],
      "metadata": {
        "colab": {
          "base_uri": "https://localhost:8080/",
          "height": 279
        },
        "id": "ZhPB9S54YYMM",
        "outputId": "df3dd648-3fa5-42e5-9a24-39c2880165bf"
      },
      "execution_count": 256,
      "outputs": [
        {
          "output_type": "display_data",
          "data": {
            "text/plain": [
              "<Figure size 432x288 with 1 Axes>"
            ],
            "image/png": "[encoded data removed]"
          },
          "metadata": {}
        }
      ]
    },
    {
      "cell_type": "markdown",
      "source": [
        "# Cross Validation"
      ],
      "metadata": {
        "id": "jOXYV546f2i6"
      }
    },
    {
      "cell_type": "markdown",
      "source": [
        "Grid search cross validation - KNN"
      ],
      "metadata": {
        "id": "9c8QyRcUhA0o"
      }
    },
    {
      "cell_type": "code",
      "source": [
        "X = indicators\n",
        "Y = dataset_company_a[\"decision\"]"
      ],
      "metadata": {
        "id": "wPoxvXUaJbE9"
      },
      "execution_count": 262,
      "outputs": []
    },
    {
      "cell_type": "code",
      "source": [
        "param_grid = {'n_neighbors':np.arange(1,50)}\n",
        "knn = KNeighborsClassifier()\n",
        "knn_cv= GridSearchCV(knn,param_grid,cv=10)\n",
        "knn_cv.fit(X,Y)"
      ],
      "metadata": {
        "id": "bluN_zJ5Yybv",
        "colab": {
          "base_uri": "https://localhost:8080/"
        },
        "outputId": "d532b79c-21ff-4cef-9774-6a7c858f275b"
      },
      "execution_count": 263,
      "outputs": [
        {
          "output_type": "execute_result",
          "data": {
            "text/plain": [
              "GridSearchCV(cv=10, estimator=KNeighborsClassifier(),\n",
              "             param_grid={'n_neighbors': array([ 1,  2,  3,  4,  5,  6,  7,  8,  9, 10, 11, 12, 13, 14, 15, 16, 17,\n",
              "       18, 19, 20, 21, 22, 23, 24, 25, 26, 27, 28, 29, 30, 31, 32, 33, 34,\n",
              "       35, 36, 37, 38, 39, 40, 41, 42, 43, 44, 45, 46, 47, 48, 49])})"
            ]
          },
          "metadata": {},
          "execution_count": 263
        }
      ]
    },
    {
      "cell_type": "code",
      "source": [
        "knn_cv.best_score_"
      ],
      "metadata": {
        "id": "0Hw5LFSehRuO",
        "colab": {
          "base_uri": "https://localhost:8080/"
        },
        "outputId": "9d239dc4-e0d8-48a0-db43-7e14eb143c04"
      },
      "execution_count": 264,
      "outputs": [
        {
          "output_type": "execute_result",
          "data": {
            "text/plain": [
              "0.744"
            ]
          },
          "metadata": {},
          "execution_count": 264
        }
      ]
    },
    {
      "cell_type": "markdown",
      "source": [
        "k-fold - KNN"
      ],
      "metadata": {
        "id": "1hYTxyMZiPQ5"
      }
    },
    {
      "cell_type": "code",
      "source": [
        "knn_cv = KNeighborsClassifier(n_neighbors = 9)\n",
        "cv_scores = cross_val_score(knn_cv, X, Y, cv=10)\n",
        "print(cv_scores)\n",
        "print('cv_scores mean:{}'.format(np.mean(cv_scores)))"
      ],
      "metadata": {
        "id": "mP6E3FsjiUvU",
        "colab": {
          "base_uri": "https://localhost:8080/"
        },
        "outputId": "156e8ec3-9877-4040-a8e9-76ce27cec288"
      },
      "execution_count": 265,
      "outputs": [
        {
          "output_type": "stream",
          "name": "stdout",
          "text": [
            "[0.74 0.74 0.71 0.79 0.74 0.79 0.7  0.69 0.71 0.73]\n",
            "cv_scores mean:0.734\n"
          ]
        }
      ]
    },
    {
      "cell_type": "markdown",
      "source": [
        "# Results csv"
      ],
      "metadata": {
        "id": "0cfWbUOcDDZp"
      }
    },
    {
      "cell_type": "markdown",
      "source": [
        "Running kfold 200 to get an array with the result"
      ],
      "metadata": {
        "id": "3uIwsRe4DOJR"
      }
    },
    {
      "cell_type": "code",
      "source": [
        "knn_cv = KNeighborsClassifier(n_neighbors = 9)\n",
        "range_200 = range(1,201)\n",
        "scores = list()\n",
        "for i in range_200:\n",
        "  cv_scores = cross_val_score(knn_cv,X,Y,cv = 10)*100\n",
        "  scores.append(np.mean(cv_scores))"
      ],
      "metadata": {
        "id": "q2EDN-ghDHrq"
      },
      "execution_count": 266,
      "outputs": []
    },
    {
      "cell_type": "code",
      "source": [
        "f = open('/Model2.csv', 'w')\n",
        "writer = csv.writer(f)\n",
        "row = list(range(1,201))\n",
        "writer.writerow(row)\n",
        "writer.writerow(scores)\n",
        "f.close()"
      ],
      "metadata": {
        "id": "2c7J06ZQDTYG"
      },
      "execution_count": 267,
      "outputs": []
    }
  ]
}